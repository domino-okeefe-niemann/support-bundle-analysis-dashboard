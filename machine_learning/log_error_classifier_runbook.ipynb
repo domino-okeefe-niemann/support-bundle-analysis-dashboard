{
 "cells": [
  {
   "cell_type": "code",
   "execution_count": 79,
   "id": "916c8f63",
   "metadata": {},
   "outputs": [],
   "source": [
    "import os\n",
    "import random\n",
    "import pandas as pd\n",
    "from datetime import datetime\n",
    "\n",
    "from sklearn.model_selection import train_test_split\n",
    "from datasets import Dataset, DatasetDict\n",
    "\n",
    "import warnings\n",
    "warnings.filterwarnings(\"ignore\")"
   ]
  },
  {
   "cell_type": "code",
   "execution_count": 30,
   "id": "b025c163",
   "metadata": {},
   "outputs": [],
   "source": [
    "project_name = os.environ.get('DOMINO_PROJECT_NAME')\n",
    "\n",
    "# Former is directory structure for imported github repo, latter for local domino project\n",
    "if os.path.isdir('/mnt/data'):\n",
    "    data_directory = os.path.join('/mnt', 'data', project_name)\n",
    "else:\n",
    "    data_directory = os.path.join('/domino', 'datasets', 'local', project_name)"
   ]
  },
  {
   "cell_type": "code",
   "execution_count": 41,
   "id": "3399ea38",
   "metadata": {},
   "outputs": [
    {
     "data": {
      "text/plain": [
       "(23304, 8)"
      ]
     },
     "execution_count": 41,
     "metadata": {},
     "output_type": "execute_result"
    }
   ],
   "source": [
    "# Import the errors caught using regex pattern from application. \n",
    "# This will be our training data with examples for each error type\n",
    "error_file_paths = [file for file in os.listdir(os.path.join(data_directory, 'support-bundle-summary/')) if file.endswith('.csv')]\n",
    "errors_df = [pd.read_csv(os.path.join(data_directory, 'support-bundle-summary', file)) for file in error_file_paths]\n",
    "errors_df = pd.concat(errors_df, ignore_index=True)\n",
    "errors_df = errors_df[['Context', 'Error_Type']]\n",
    "errors_df.shape"
   ]
  },
  {
   "cell_type": "code",
   "execution_count": 46,
   "id": "9bed6c6d",
   "metadata": {},
   "outputs": [],
   "source": [
    "support_bundles_directory = os.path.join(data_directory, 'support-bundles')\n",
    "support_bundles = os.listdir(support_bundles_directory)\n",
    "support_bundles = [x for x in support_bundles if '.zip' not in x]"
   ]
  },
  {
   "cell_type": "code",
   "execution_count": 48,
   "id": "eb0349bf",
   "metadata": {},
   "outputs": [],
   "source": [
    "resource_usage_directory = os.path.join(data_directory, 'resource-usage-by-day/')\n",
    "resource_usage_csv_files = os.listdir(resource_usage_directory)\n",
    "resource_usage_df = pd.concat([pd.read_csv(os.path.join(resource_usage_directory, f)) for f in resource_usage_csv_files], ignore_index=True)"
   ]
  },
  {
   "cell_type": "code",
   "execution_count": 50,
   "id": "ff27c110",
   "metadata": {},
   "outputs": [],
   "source": [
    "# Capture non-error and non-failure execution_ids\n",
    "no_errors = resource_usage_df[resource_usage_df['status'].isin(['Running', 'Succeeded'])]"
   ]
  },
  {
   "cell_type": "code",
   "execution_count": 62,
   "id": "1e45eb47",
   "metadata": {},
   "outputs": [],
   "source": [
    "# Identifying all relevant file paths to extract 'no error' training lines \n",
    "existing_bundles = list(set(no_errors.run_id) & set(support_bundles))\n",
    "existing_bundles_file_paths = [os.path.join(data_directory, 'support-bundles', bundle) for bundle in existing_bundles]\n",
    "\n",
    "all_file_paths = [\n",
    "    os.path.join(root, file)\n",
    "    for directory in existing_bundles_file_paths\n",
    "    for root, dirs, files in os.walk(directory)\n",
    "    for file in files\n",
    "]"
   ]
  },
  {
   "cell_type": "code",
   "execution_count": 69,
   "id": "07b7dbc2",
   "metadata": {},
   "outputs": [],
   "source": [
    "# Open each file and extract the lines\n",
    "def open_all_files(paths):\n",
    "    with open(paths, 'r') as f:\n",
    "        raw_content = f.readlines()\n",
    "\n",
    "    raw_content = [line.strip() for line in raw_content]\n",
    "    \n",
    "    return(raw_content)\n",
    "\n",
    "all_content = [open_all_files(path) for path in all_file_paths]\n",
    "all_content = [line for file in all_content for line in file]\n",
    "\n",
    "# Filter out lines with an insignificant amount of information\n",
    "num_chars = 10\n",
    "all_content = list(filter(lambda word: len(word) > num_chars, all_content))\n",
    "\n",
    "len(all_content)"
   ]
  },
  {
   "cell_type": "code",
   "execution_count": 72,
   "id": "0a4d86be",
   "metadata": {},
   "outputs": [],
   "source": [
    "# Sample the non-errors such that the resulting data is 50% errors, 50% non errors\n",
    "wanted_num_non_errors = errors_df.shape[0]\n",
    "indices = random.sample(range(len(all_content)), wanted_num_non_errors)\n",
    "target_content = [all_content[idx] for idx in indices]\n",
    "\n",
    "no_errors_df = pd.DataFrame({\"Context\" : target_content, \"Error_Type\" : [\"none\" for i in target_content]})"
   ]
  },
  {
   "cell_type": "code",
   "execution_count": 75,
   "id": "89b91a02",
   "metadata": {},
   "outputs": [
    {
     "data": {
      "text/plain": [
       "(46608, 2)"
      ]
     },
     "execution_count": 75,
     "metadata": {},
     "output_type": "execute_result"
    }
   ],
   "source": [
    "# Create the final dataset\n",
    "all_data = pd.concat([errors_df, no_errors_df])\n",
    "all_data.columns = ['text', 'label']\n",
    "all_data.shape"
   ]
  },
  {
   "cell_type": "code",
   "execution_count": 92,
   "id": "c341f468",
   "metadata": {},
   "outputs": [],
   "source": [
    "# To avoid obscene training times, the below is used to train the values\n",
    "def stratified_sample(df, stratifying_col, n):\n",
    "    def sample_func(group):\n",
    "        if len(group) < int(n/df[stratifying_col].nunique()):\n",
    "            return group.sample(int(n/df[stratifying_col].nunique()), replace=True)\n",
    "        else:\n",
    "            return group.sample(int(n/df[stratifying_col].nunique()))\n",
    "    return df.groupby(stratifying_col, group_keys=False).apply(sample_func)\n",
    "\n",
    "# Get stratified sample with target number of rows\n",
    "n = 30000\n",
    "all_data_small = stratified_sample(all_data, 'label', n)\n",
    "\n",
    "df_train_small, df_test_small = train_test_split(all_data_small, test_size=0.1, stratify=all_data_small[\"label\"])\n",
    "\n",
    "dir_name = os.path.join(data_directory, 'classification_data')\n",
    "\n",
    "if not os.path.exists(dir_name):\n",
    "    os.makedirs(dir_name)"
   ]
  },
  {
   "cell_type": "code",
   "execution_count": null,
   "id": "3a222e02",
   "metadata": {},
   "outputs": [],
   "source": [
    "# Save out the training and test data, as well as all the extracted errors/non-errors\n",
    "df_train_small.to_csv(os.path.join(dir_name, datetime.now().strftime('%Y%m%d_%H%M%S') + \"_train_small.csv\"), index=False)\n",
    "df_test_small.to_csv(os.path.join(dir_name, datetime.now().strftime('%Y%m%d_%H%M%S') + \"_test_small.csv\"), index=False)\n",
    "all_data.to_csv(os.path.join(dir_name, datetime.now().strftime('%Y%m%d_%H%M%S') + '_extracted_data.csv'), index=False)"
   ]
  },
  {
   "cell_type": "code",
   "execution_count": 106,
   "id": "4f426b78",
   "metadata": {},
   "outputs": [],
   "source": [
    "# Load up the model\n",
    "import log_error_classifier\n",
    "from log_error_classifier import HuggingFaceClassifier\n",
    "\n",
    "model = HuggingFaceClassifier(path_or_pretrained='bert-base-cased', num_labels=4)"
   ]
  },
  {
   "cell_type": "code",
   "execution_count": 107,
   "id": "e0115f7f",
   "metadata": {},
   "outputs": [
    {
     "name": "stderr",
     "output_type": "stream",
     "text": [
      "Some weights of BertForSequenceClassification were not initialized from the model checkpoint at bert-base-cased and are newly initialized: ['classifier.weight', 'classifier.bias']\n",
      "You should probably TRAIN this model on a down-stream task to be able to use it for predictions and inference.\n"
     ]
    }
   ],
   "source": []
  },
  {
   "cell_type": "code",
   "execution_count": 108,
   "id": "c3083db0",
   "metadata": {},
   "outputs": [
    {
     "name": "stderr",
     "output_type": "stream",
     "text": [
      "Map: 100%|██████████| 99/99 [00:00<00:00, 1175.02 examples/s]\n"
     ]
    },
    {
     "ename": "AttributeError",
     "evalue": "'list' object has no attribute 'to'",
     "output_type": "error",
     "traceback": [
      "\u001b[0;31m---------------------------------------------------------------------------\u001b[0m",
      "\u001b[0;31mAttributeError\u001b[0m                            Traceback (most recent call last)",
      "Cell \u001b[0;32mIn[108], line 1\u001b[0m\n\u001b[0;32m----> 1\u001b[0m \u001b[43mmodel\u001b[49m\u001b[38;5;241;43m.\u001b[39;49m\u001b[43mtrain\u001b[49m\u001b[43m(\u001b[49m\u001b[43mdf\u001b[49m\u001b[38;5;241;43m=\u001b[39;49m\u001b[43mdf_train_small\u001b[49m\u001b[43m[\u001b[49m\u001b[38;5;241;43m1\u001b[39;49m\u001b[43m:\u001b[49m\u001b[38;5;241;43m100\u001b[39;49m\u001b[43m]\u001b[49m\u001b[43m)\u001b[49m\n",
      "File \u001b[0;32m/mnt/code/machine_learning/log_error_classifier.py:61\u001b[0m, in \u001b[0;36mtrain\u001b[0;34m(self, df, epochs, batch_size, learning_rate, warmup_steps)\u001b[0m\n\u001b[1;32m     57\u001b[0m scheduler = get_linear_schedule_with_warmup(optimizer, num_warmup_steps=warmup_steps, num_training_steps=num_training_steps)\n\u001b[1;32m     59\u001b[0m progress_bar = tqdm(range(num_training_steps))\n\u001b[0;32m---> 61\u001b[0m # Training loop\n\u001b[1;32m     62\u001b[0m self.model.train()\n\u001b[1;32m     63\u001b[0m for epoch in range(epochs):\n",
      "File \u001b[0;32m/mnt/code/machine_learning/log_error_classifier.py:61\u001b[0m, in \u001b[0;36m<dictcomp>\u001b[0;34m(.0)\u001b[0m\n\u001b[1;32m     57\u001b[0m scheduler = get_linear_schedule_with_warmup(optimizer, num_warmup_steps=warmup_steps, num_training_steps=num_training_steps)\n\u001b[1;32m     59\u001b[0m progress_bar = tqdm(range(num_training_steps))\n\u001b[0;32m---> 61\u001b[0m # Training loop\n\u001b[1;32m     62\u001b[0m self.model.train()\n\u001b[1;32m     63\u001b[0m for epoch in range(epochs):\n",
      "\u001b[0;31mAttributeError\u001b[0m: 'list' object has no attribute 'to'"
     ]
    }
   ],
   "source": [
    "model.train(df=df_train_small[1:100])"
   ]
  },
  {
   "cell_type": "code",
   "execution_count": null,
   "id": "33f9a56f",
   "metadata": {},
   "outputs": [],
   "source": []
  }
 ],
 "metadata": {
  "kernelspec": {
   "display_name": "Python 3 (ipykernel)",
   "language": "python",
   "name": "python3"
  },
  "language_info": {
   "codemirror_mode": {
    "name": "ipython",
    "version": 3
   },
   "file_extension": ".py",
   "mimetype": "text/x-python",
   "name": "python",
   "nbconvert_exporter": "python",
   "pygments_lexer": "ipython3",
   "version": "3.8.10"
  }
 },
 "nbformat": 4,
 "nbformat_minor": 5
}
