{
 "cells": [
  {
   "cell_type": "code",
   "execution_count": 220,
   "id": "7a0089b0-18eb-4642-9c54-8902ee17d738",
   "metadata": {
    "tags": []
   },
   "outputs": [],
   "source": [
    "import os\n",
    "import random\n",
    "import pandas as pd\n",
    "\n",
    "from sklearn.model_selection import train_test_split\n",
    "from datasets import Dataset, DatasetDict\n",
    "\n",
    "import warnings\n",
    "warnings.filterwarnings(\"ignore\")"
   ]
  },
  {
   "cell_type": "markdown",
   "id": "8e2d3c6f-44c1-400e-9f4b-812cdda8511e",
   "metadata": {},
   "source": [
    "# Set Up The Data"
   ]
  },
  {
   "cell_type": "markdown",
   "id": "e79be680-ee6a-4168-9338-09381e1865b8",
   "metadata": {},
   "source": [
    "## Read in the Errors"
   ]
  },
  {
   "cell_type": "code",
   "execution_count": 221,
   "id": "403594ec-b7f7-4a81-b04b-ff091accc881",
   "metadata": {
    "tags": []
   },
   "outputs": [],
   "source": [
    "project_name = 'allstate_log_github'\n",
    "data_directory = '/mnt/data/' + project_name + '/'\n",
    "\n",
    "errors_df = pd.read_csv(data_directory+'error_analysis_all_time.csv')"
   ]
  },
  {
   "cell_type": "code",
   "execution_count": 222,
   "id": "0ea33e0a-3cf2-4b4a-929e-f6d99ecc763b",
   "metadata": {
    "tags": []
   },
   "outputs": [
    {
     "data": {
      "text/plain": [
       "Index(['Error', 'Line_Number', 'Context', 'Error_Type', 'File_Path',\n",
       "       'Date_Time', 'Node', 'execution_id'],\n",
       "      dtype='object')"
      ]
     },
     "execution_count": 222,
     "metadata": {},
     "output_type": "execute_result"
    }
   ],
   "source": [
    "errors_df.columns"
   ]
  },
  {
   "cell_type": "code",
   "execution_count": 223,
   "id": "96e7b674-dd72-474e-868a-bd225f25a85d",
   "metadata": {
    "tags": []
   },
   "outputs": [
    {
     "data": {
      "text/plain": [
       "cluster    35526\n",
       "domino     17838\n",
       "user          48\n",
       "Name: Error_Type, dtype: int64"
      ]
     },
     "execution_count": 223,
     "metadata": {},
     "output_type": "execute_result"
    }
   ],
   "source": [
    "errors_df.Error_Type.value_counts()"
   ]
  },
  {
   "cell_type": "code",
   "execution_count": 224,
   "id": "281d3b17-0d31-4636-8e88-610abbbb7bf6",
   "metadata": {
    "tags": []
   },
   "outputs": [],
   "source": [
    "errors_df = errors_df[['Context', 'Error_Type']]"
   ]
  },
  {
   "cell_type": "markdown",
   "id": "ac5911bb-ba83-45a1-9351-5f839c930ec6",
   "metadata": {},
   "source": [
    "## Extract random lines for non-error support bundles and create a \"no error\" dataframe"
   ]
  },
  {
   "cell_type": "code",
   "execution_count": 225,
   "id": "df2185dc-7213-4b74-aba9-a4122a75ea5c",
   "metadata": {
    "tags": []
   },
   "outputs": [],
   "source": [
    "support_bundles_directory = data_directory + 'support-bundles/'\n",
    "support_bundles = os.listdir(support_bundles_directory)\n",
    "support_bundles = [x for x in support_bundles if '.zip' not in x]"
   ]
  },
  {
   "cell_type": "code",
   "execution_count": 226,
   "id": "868623ce-d50a-434b-a10d-09acf5fb1601",
   "metadata": {
    "tags": []
   },
   "outputs": [
    {
     "data": {
      "text/plain": [
       "5549"
      ]
     },
     "execution_count": 226,
     "metadata": {},
     "output_type": "execute_result"
    }
   ],
   "source": [
    "len(support_bundles)"
   ]
  },
  {
   "cell_type": "code",
   "execution_count": 227,
   "id": "4af1bcde-52f7-4d25-a884-05a36237f350",
   "metadata": {
    "tags": []
   },
   "outputs": [],
   "source": [
    "resource_usage_directory = data_directory + 'resource-usage-by-day/'\n",
    "resource_usage_csv_files = os.listdir(resource_usage_directory)\n",
    "resource_usage_df = pd.concat([pd.read_csv(os.path.join(resource_usage_directory, f)) for f in resource_usage_csv_files], ignore_index=True)"
   ]
  },
  {
   "cell_type": "code",
   "execution_count": 228,
   "id": "c4fee376-1889-44ab-a865-1ff7f03fe9e2",
   "metadata": {
    "tags": []
   },
   "outputs": [
    {
     "data": {
      "text/html": [
       "<div>\n",
       "<style scoped>\n",
       "    .dataframe tbody tr th:only-of-type {\n",
       "        vertical-align: middle;\n",
       "    }\n",
       "\n",
       "    .dataframe tbody tr th {\n",
       "        vertical-align: top;\n",
       "    }\n",
       "\n",
       "    .dataframe thead th {\n",
       "        text-align: right;\n",
       "    }\n",
       "</style>\n",
       "<table border=\"1\" class=\"dataframe\">\n",
       "  <thead>\n",
       "    <tr style=\"text-align: right;\">\n",
       "      <th></th>\n",
       "      <th>run_id</th>\n",
       "      <th>run_title</th>\n",
       "      <th>command</th>\n",
       "      <th>status</th>\n",
       "      <th>starting_user</th>\n",
       "      <th>project_owner_username</th>\n",
       "      <th>project_name</th>\n",
       "      <th>total_run_duration_s_</th>\n",
       "      <th>run_duration_within_reporting_period_s_</th>\n",
       "      <th>hardware_tier</th>\n",
       "      <th>...</th>\n",
       "      <th>completed_timestamp</th>\n",
       "      <th>compute_cluster_type</th>\n",
       "      <th>master_hardware_tier</th>\n",
       "      <th>master_hardware_tier_cost_per_minute</th>\n",
       "      <th>worker_count</th>\n",
       "      <th>worker_hardware_tier</th>\n",
       "      <th>worker_hardware_tier_cost_per_minute</th>\n",
       "      <th>date</th>\n",
       "      <th>run_type</th>\n",
       "      <th>time_to_boot_s</th>\n",
       "    </tr>\n",
       "  </thead>\n",
       "  <tbody>\n",
       "    <tr>\n",
       "      <th>0</th>\n",
       "      <td>63714cc09196ec342a497c35</td>\n",
       "      <td>echo test</td>\n",
       "      <td>echo test</td>\n",
       "      <td>Succeeded</td>\n",
       "      <td>bryce_beddard</td>\n",
       "      <td>bryce_beddard</td>\n",
       "      <td>testAPI</td>\n",
       "      <td>5.0</td>\n",
       "      <td>5</td>\n",
       "      <td>small-k8s</td>\n",
       "      <td>...</td>\n",
       "      <td>1668369640346</td>\n",
       "      <td>NaN</td>\n",
       "      <td>NaN</td>\n",
       "      <td>NaN</td>\n",
       "      <td>NaN</td>\n",
       "      <td>NaN</td>\n",
       "      <td>NaN</td>\n",
       "      <td>2022-11-13</td>\n",
       "      <td>batch</td>\n",
       "      <td>35</td>\n",
       "    </tr>\n",
       "    <tr>\n",
       "      <th>1</th>\n",
       "      <td>6370c0209196ec342a496c3e</td>\n",
       "      <td>Data Warehouse Daily Run</td>\n",
       "      <td>'/repos/domino_dw/DW_ETL.py'</td>\n",
       "      <td>Succeeded</td>\n",
       "      <td>griffin_young</td>\n",
       "      <td>griffin_young</td>\n",
       "      <td>DW-Prod</td>\n",
       "      <td>6680.0</td>\n",
       "      <td>6680</td>\n",
       "      <td>small-k8s</td>\n",
       "      <td>...</td>\n",
       "      <td>1668340317363</td>\n",
       "      <td>NaN</td>\n",
       "      <td>NaN</td>\n",
       "      <td>NaN</td>\n",
       "      <td>NaN</td>\n",
       "      <td>NaN</td>\n",
       "      <td>NaN</td>\n",
       "      <td>2022-11-13</td>\n",
       "      <td>batch</td>\n",
       "      <td>36</td>\n",
       "    </tr>\n",
       "    <tr>\n",
       "      <th>2</th>\n",
       "      <td>640cddc0c4253f28887e0bbf</td>\n",
       "      <td>test.sh</td>\n",
       "      <td>test.sh</td>\n",
       "      <td>Failed</td>\n",
       "      <td>blake_moore</td>\n",
       "      <td>blake_moore</td>\n",
       "      <td>Finch</td>\n",
       "      <td>2.0</td>\n",
       "      <td>2</td>\n",
       "      <td>small-k8s</td>\n",
       "      <td>...</td>\n",
       "      <td>1678564826519</td>\n",
       "      <td>NaN</td>\n",
       "      <td>NaN</td>\n",
       "      <td>NaN</td>\n",
       "      <td>NaN</td>\n",
       "      <td>NaN</td>\n",
       "      <td>NaN</td>\n",
       "      <td>2023-03-11</td>\n",
       "      <td>batch</td>\n",
       "      <td>24</td>\n",
       "    </tr>\n",
       "    <tr>\n",
       "      <th>3</th>\n",
       "      <td>627ad072ee0eb12322fc991d</td>\n",
       "      <td>alireza_mounesisohi's JupyterLab session</td>\n",
       "      <td>[JupyterLab session ]</td>\n",
       "      <td>Stopped</td>\n",
       "      <td>alireza_mounesisohi</td>\n",
       "      <td>alireza_mounesisohi</td>\n",
       "      <td>IMM-regression</td>\n",
       "      <td>8324.0</td>\n",
       "      <td>8324</td>\n",
       "      <td>small-k8s</td>\n",
       "      <td>...</td>\n",
       "      <td>1652224265867</td>\n",
       "      <td>NaN</td>\n",
       "      <td>NaN</td>\n",
       "      <td>NaN</td>\n",
       "      <td>NaN</td>\n",
       "      <td>NaN</td>\n",
       "      <td>NaN</td>\n",
       "      <td>2022-05-10</td>\n",
       "      <td>notebook</td>\n",
       "      <td>20</td>\n",
       "    </tr>\n",
       "    <tr>\n",
       "      <th>4</th>\n",
       "      <td>627abbfbd78c3b4fc50c85c5</td>\n",
       "      <td>Sahil-test</td>\n",
       "      <td>[vscode session ]</td>\n",
       "      <td>Stopped</td>\n",
       "      <td>sahil.rahi</td>\n",
       "      <td>sahil.rahi</td>\n",
       "      <td>Test1</td>\n",
       "      <td>1007.0</td>\n",
       "      <td>1007</td>\n",
       "      <td>gpu-V100</td>\n",
       "      <td>...</td>\n",
       "      <td>1652211711849</td>\n",
       "      <td>NaN</td>\n",
       "      <td>NaN</td>\n",
       "      <td>NaN</td>\n",
       "      <td>NaN</td>\n",
       "      <td>NaN</td>\n",
       "      <td>NaN</td>\n",
       "      <td>2022-05-10</td>\n",
       "      <td>notebook</td>\n",
       "      <td>21</td>\n",
       "    </tr>\n",
       "  </tbody>\n",
       "</table>\n",
       "<p>5 rows × 25 columns</p>\n",
       "</div>"
      ],
      "text/plain": [
       "                     run_id                                 run_title  \\\n",
       "0  63714cc09196ec342a497c35                                 echo test   \n",
       "1  6370c0209196ec342a496c3e                  Data Warehouse Daily Run   \n",
       "2  640cddc0c4253f28887e0bbf                                   test.sh   \n",
       "3  627ad072ee0eb12322fc991d  alireza_mounesisohi's JupyterLab session   \n",
       "4  627abbfbd78c3b4fc50c85c5                                Sahil-test   \n",
       "\n",
       "                        command     status        starting_user  \\\n",
       "0                     echo test  Succeeded        bryce_beddard   \n",
       "1  '/repos/domino_dw/DW_ETL.py'  Succeeded        griffin_young   \n",
       "2                       test.sh     Failed          blake_moore   \n",
       "3         [JupyterLab session ]    Stopped  alireza_mounesisohi   \n",
       "4             [vscode session ]    Stopped           sahil.rahi   \n",
       "\n",
       "  project_owner_username    project_name  total_run_duration_s_  \\\n",
       "0          bryce_beddard         testAPI                    5.0   \n",
       "1          griffin_young         DW-Prod                 6680.0   \n",
       "2            blake_moore           Finch                    2.0   \n",
       "3    alireza_mounesisohi  IMM-regression                 8324.0   \n",
       "4             sahil.rahi           Test1                 1007.0   \n",
       "\n",
       "   run_duration_within_reporting_period_s_ hardware_tier  ...  \\\n",
       "0                                        5     small-k8s  ...   \n",
       "1                                     6680     small-k8s  ...   \n",
       "2                                        2     small-k8s  ...   \n",
       "3                                     8324     small-k8s  ...   \n",
       "4                                     1007      gpu-V100  ...   \n",
       "\n",
       "  completed_timestamp compute_cluster_type master_hardware_tier  \\\n",
       "0       1668369640346                  NaN                  NaN   \n",
       "1       1668340317363                  NaN                  NaN   \n",
       "2       1678564826519                  NaN                  NaN   \n",
       "3       1652224265867                  NaN                  NaN   \n",
       "4       1652211711849                  NaN                  NaN   \n",
       "\n",
       "   master_hardware_tier_cost_per_minute  worker_count  worker_hardware_tier  \\\n",
       "0                                   NaN           NaN                   NaN   \n",
       "1                                   NaN           NaN                   NaN   \n",
       "2                                   NaN           NaN                   NaN   \n",
       "3                                   NaN           NaN                   NaN   \n",
       "4                                   NaN           NaN                   NaN   \n",
       "\n",
       "  worker_hardware_tier_cost_per_minute        date  run_type  time_to_boot_s  \n",
       "0                                  NaN  2022-11-13     batch              35  \n",
       "1                                  NaN  2022-11-13     batch              36  \n",
       "2                                  NaN  2023-03-11     batch              24  \n",
       "3                                  NaN  2022-05-10  notebook              20  \n",
       "4                                  NaN  2022-05-10  notebook              21  \n",
       "\n",
       "[5 rows x 25 columns]"
      ]
     },
     "execution_count": 228,
     "metadata": {},
     "output_type": "execute_result"
    }
   ],
   "source": [
    "resource_usage_df.head()"
   ]
  },
  {
   "cell_type": "code",
   "execution_count": 229,
   "id": "967c5a93-3b01-4b9d-9e28-4c20dfab1ba9",
   "metadata": {
    "tags": []
   },
   "outputs": [],
   "source": [
    "no_errors = resource_usage_df[resource_usage_df['status'].isin(['Running', 'Succeeded'])]"
   ]
  },
  {
   "cell_type": "code",
   "execution_count": 230,
   "id": "00b9b25f-478c-4f5d-bd02-cc3b381899ef",
   "metadata": {
    "tags": []
   },
   "outputs": [],
   "source": [
    "support_bundles = list(set(support_bundles) & set(no_errors.run_id))"
   ]
  },
  {
   "cell_type": "code",
   "execution_count": 231,
   "id": "25fe0f38-7498-411e-b11b-d2943162e4cf",
   "metadata": {
    "tags": []
   },
   "outputs": [],
   "source": [
    "def find_abs_path(support_bundle_path, support_bundles_directory=support_bundles_directory):\n",
    "    all_paths = os.listdir(support_bundles_directory + support_bundle_path)\n",
    "    all_paths = [os.path.abspath(support_bundles_directory + support_bundle_path + '/'+f) for f in all_paths]\n",
    "    return(all_paths)\n",
    " \n",
    "#find_abs_path(support_bundles[0])\n",
    "successful_paths = [find_abs_path(target_support_bundle) for target_support_bundle in support_bundles]\n",
    "successful_paths = [path for support_bundle in successful_paths for path in support_bundle]"
   ]
  },
  {
   "cell_type": "code",
   "execution_count": 232,
   "id": "99af2d8e-bcb5-4c0f-989b-fec4e60b2297",
   "metadata": {
    "tags": []
   },
   "outputs": [],
   "source": [
    "def open_all_files(paths):\n",
    "    with open(paths, 'r') as f:\n",
    "        raw_content = f.readlines()\n",
    "\n",
    "    raw_content = [line.strip() for line in raw_content]\n",
    "    \n",
    "    return(raw_content)\n",
    "\n",
    "all_content = [open_all_files(path) for path in successful_paths]\n",
    "all_content = [line for file in all_content for line in file]"
   ]
  },
  {
   "cell_type": "code",
   "execution_count": 233,
   "id": "70f9f4ea-79b3-4f87-80d2-9a992c984d42",
   "metadata": {
    "tags": []
   },
   "outputs": [],
   "source": [
    "all_content_save = all_content\n",
    "all_content = list(filter(lambda word: len(word) > 10, all_content))"
   ]
  },
  {
   "cell_type": "code",
   "execution_count": 234,
   "id": "68217641-cf17-440f-8381-9d84f1446998",
   "metadata": {
    "tags": []
   },
   "outputs": [],
   "source": [
    "wanted_num_non_errors = errors_df.shape[0]\n",
    "indices = random.sample(range(len(all_content)), wanted_num_non_errors)\n",
    "target_content = [all_content[idx] for idx in indices]"
   ]
  },
  {
   "cell_type": "code",
   "execution_count": 235,
   "id": "33fff955-4d7b-47d9-9532-e9133b1da608",
   "metadata": {
    "tags": []
   },
   "outputs": [],
   "source": [
    "no_errors_df = pd.DataFrame({\"Context\" : target_content, \"Error_Type\" : [\"none\" for i in target_content]})"
   ]
  },
  {
   "cell_type": "markdown",
   "id": "60f36919-bcc3-448a-add5-a7c5287099b2",
   "metadata": {},
   "source": [
    "## Combine the errors with the non-errors and create training/testing data"
   ]
  },
  {
   "cell_type": "code",
   "execution_count": 236,
   "id": "c84c3aa9-88dc-4487-868a-c68d866a1cd4",
   "metadata": {
    "tags": []
   },
   "outputs": [
    {
     "data": {
      "text/plain": [
       "(106824, 2)"
      ]
     },
     "execution_count": 236,
     "metadata": {},
     "output_type": "execute_result"
    }
   ],
   "source": [
    "all_data = pd.concat([errors_df, no_errors_df])\n",
    "all_data.columns = ['text', 'label']\n",
    "all_data.shape"
   ]
  },
  {
   "cell_type": "code",
   "execution_count": 237,
   "id": "e7410e51-5851-40c4-8332-143662f0ff32",
   "metadata": {
    "tags": []
   },
   "outputs": [],
   "source": [
    "df_train, df_test = train_test_split(all_data, test_size=0.1, stratify=all_data[\"label\"])"
   ]
  },
  {
   "cell_type": "code",
   "execution_count": 238,
   "id": "5efa6da5-2743-4fcd-b4b2-6a3e92e2b59b",
   "metadata": {
    "tags": []
   },
   "outputs": [
    {
     "data": {
      "text/plain": [
       "(106824, 2)"
      ]
     },
     "execution_count": 238,
     "metadata": {},
     "output_type": "execute_result"
    }
   ],
   "source": [
    "all_data.shape"
   ]
  },
  {
   "cell_type": "code",
   "execution_count": 239,
   "id": "cafb6f9d-ada4-4453-aa55-7f1f556886d8",
   "metadata": {
    "tags": []
   },
   "outputs": [],
   "source": [
    "def stratified_sample(df, stratifying_col, n):\n",
    "    def sample_func(group):\n",
    "        if len(group) < int(n/df[stratifying_col].nunique()):\n",
    "            return group.sample(int(n/df[stratifying_col].nunique()), replace=True)\n",
    "        else:\n",
    "            return group.sample(int(n/df[stratifying_col].nunique()))\n",
    "    return df.groupby(stratifying_col, group_keys=False).apply(sample_func)\n",
    "\n",
    "# Get stratified sample with target number of rows\n",
    "n = 10000\n",
    "all_data_small = stratified_sample(all_data, 'label', n)\n",
    "\n",
    "df_train_small, df_test_small = train_test_split(all_data_small, test_size=0.1, stratify=all_data_small[\"label\"])\n",
    "\n",
    "dir_name = os.path.join(data_directory, 'classification_data')\n",
    "\n",
    "if not os.path.exists(dir_name):\n",
    "    os.makedirs(dir_name)\n",
    "   \n",
    "\n",
    "df_train_small.to_csv(os.path.join(dir_name, \"train_small.csv\"), index=False)\n",
    "df_test_small.to_csv(os.path.join(dir_name, \"test_small.csv\"), index=False)"
   ]
  },
  {
   "cell_type": "code",
   "execution_count": 240,
   "id": "1b205bb4-526e-4d00-b355-8703fc83e2fc",
   "metadata": {
    "tags": []
   },
   "outputs": [
    {
     "data": {
      "text/plain": [
       "none       48071\n",
       "cluster    31973\n",
       "domino     16054\n",
       "user          43\n",
       "Name: label, dtype: int64"
      ]
     },
     "execution_count": 240,
     "metadata": {},
     "output_type": "execute_result"
    }
   ],
   "source": [
    "df_train['label'].value_counts()"
   ]
  },
  {
   "cell_type": "code",
   "execution_count": 241,
   "id": "ddfc0414-2c7e-4d46-a3cc-fa9717c21f9d",
   "metadata": {
    "tags": []
   },
   "outputs": [],
   "source": [
    "dir_name = os.path.join(data_directory, 'classification_data')\n",
    "\n",
    "if not os.path.exists(dir_name):\n",
    "    os.makedirs(dir_name)\n",
    "    \n",
    "\n",
    "df_train.to_csv(os.path.join(dir_name, \"train.csv\"), index=False)\n",
    "df_test.to_csv(os.path.join(dir_name, \"test.csv\"), index=False)"
   ]
  },
  {
   "cell_type": "markdown",
   "id": "4d21388e-f6b0-41b8-9911-21d2daca9c63",
   "metadata": {},
   "source": [
    "## Groom the data into something that HuggingFace can take in"
   ]
  },
  {
   "cell_type": "code",
   "execution_count": 254,
   "id": "1daa36de-5cd0-4ed4-a4b9-12934ae2ca6f",
   "metadata": {
    "tags": []
   },
   "outputs": [],
   "source": [
    "dir_name = os.path.join(data_directory, 'classification_data')\n",
    "\n",
    "df_train = pd.read_csv(os.path.join(dir_name, \"train_small.csv\"))\n",
    "df_test = pd.read_csv(os.path.join(dir_name, \"test_small.csv\"))"
   ]
  },
  {
   "cell_type": "code",
   "execution_count": 246,
   "id": "3599f223-af29-4a1f-8454-c3e1c076ee01",
   "metadata": {
    "tags": []
   },
   "outputs": [
    {
     "data": {
      "text/plain": [
       "{0: 'domino', 1: 'user', 2: 'none', 3: 'cluster'}"
      ]
     },
     "execution_count": 246,
     "metadata": {},
     "output_type": "execute_result"
    }
   ],
   "source": [
    "label_to_text"
   ]
  },
  {
   "cell_type": "code",
   "execution_count": 256,
   "id": "bbde28b3-748d-42fe-8b3b-94b0e58ef86f",
   "metadata": {
    "tags": []
   },
   "outputs": [],
   "source": [
    "unique_labels = df_train['label'].unique()\n",
    "#label_to_text = {idx:unique_labels[idx] for idx in range(len(unique_labels))}\n",
    "#text_to_label = {unique_labels[idx]:idx for idx in range(len(unique_labels))}\n",
    "label_to_text = {0: 'none', 1: 'cluster', 2: 'domino', 3: 'user'}\n",
    "text_to_label = {'none': 0, 'cluster':1, 'domino':2, 'user':3}"
   ]
  },
  {
   "cell_type": "code",
   "execution_count": 257,
   "id": "d8ee096d-e030-4103-8912-074e9bc695fd",
   "metadata": {
    "tags": []
   },
   "outputs": [],
   "source": [
    "df_train['label'] = df_train['label'].apply(lambda x: text_to_label[x])\n",
    "df_test['label'] = df_test['label'].apply(lambda x: text_to_label[x])"
   ]
  },
  {
   "cell_type": "code",
   "execution_count": 258,
   "id": "78694cf5-ee2a-425e-abd2-8d603160c0d1",
   "metadata": {
    "tags": []
   },
   "outputs": [],
   "source": [
    "dataset_train = Dataset.from_pandas(df_train)\n",
    "dataset_test = Dataset.from_pandas(df_test)\n",
    "\n",
    "dataset_logs = DatasetDict({\n",
    "        'train':dataset_train,\n",
    "        'test':dataset_test\n",
    "})"
   ]
  },
  {
   "cell_type": "code",
   "execution_count": 259,
   "id": "a3b4abae-c26a-4d62-8911-b237077cea47",
   "metadata": {
    "tags": []
   },
   "outputs": [
    {
     "data": {
      "application/vnd.jupyter.widget-view+json": {
       "model_id": "aa2b1f97f089465fa6265ca884fc50a0",
       "version_major": 2,
       "version_minor": 0
      },
      "text/plain": [
       "Map:   0%|          | 0/9000 [00:00<?, ? examples/s]"
      ]
     },
     "metadata": {},
     "output_type": "display_data"
    },
    {
     "data": {
      "application/vnd.jupyter.widget-view+json": {
       "model_id": "fd761d2e606745199a0923da2d756926",
       "version_major": 2,
       "version_minor": 0
      },
      "text/plain": [
       "Map:   0%|          | 0/1000 [00:00<?, ? examples/s]"
      ]
     },
     "metadata": {},
     "output_type": "display_data"
    }
   ],
   "source": [
    "from transformers import AutoTokenizer\n",
    "tokenizer = AutoTokenizer.from_pretrained('bert-base-cased')\n",
    "\n",
    "def tokenize_function(df):\n",
    "    return tokenizer(df['text'], padding=\"max_length\", truncation=True)\n",
    "\n",
    "tokenized_datasets_logs = dataset_logs.map(tokenize_function)"
   ]
  },
  {
   "cell_type": "code",
   "execution_count": 260,
   "id": "676824b3-0b0d-4180-a5d0-67e76fd2b0e7",
   "metadata": {
    "tags": []
   },
   "outputs": [],
   "source": [
    "tokenized_datasets_logs = tokenized_datasets_logs.remove_columns([\"text\"])\n",
    "tokenized_datasets_logs = tokenized_datasets_logs.rename_column(\"label\", \"labels\")\n",
    "tokenized_datasets_logs.set_format(\"torch\")"
   ]
  },
  {
   "cell_type": "code",
   "execution_count": 261,
   "id": "124b400b-135d-4103-9d86-ecebe1bfbfb2",
   "metadata": {
    "tags": []
   },
   "outputs": [],
   "source": [
    "train_dataset_logs = tokenized_datasets_logs[\"train\"]\n",
    "eval_dataset_logs = tokenized_datasets_logs[\"test\"]"
   ]
  },
  {
   "cell_type": "code",
   "execution_count": 262,
   "id": "f4ea2de5-e361-4389-ae89-2cee8cc92270",
   "metadata": {
    "tags": []
   },
   "outputs": [],
   "source": [
    "from torch.utils.data import DataLoader\n",
    "\n",
    "train_dataloader_logs = DataLoader(train_dataset_logs, shuffle=True, batch_size=8)\n",
    "eval_dataloader_logs = DataLoader(eval_dataset_logs, batch_size=8)"
   ]
  },
  {
   "cell_type": "markdown",
   "id": "07a17af7-98ff-45a3-a691-2ca81964f5c4",
   "metadata": {},
   "source": [
    "## Begin to Build the Model"
   ]
  },
  {
   "cell_type": "code",
   "execution_count": 263,
   "id": "ef46b6c3-9239-4a89-8532-7eefc8e5ac1e",
   "metadata": {
    "tags": []
   },
   "outputs": [
    {
     "name": "stderr",
     "output_type": "stream",
     "text": [
      "Some weights of the model checkpoint at bert-base-cased were not used when initializing BertForSequenceClassification: ['cls.seq_relationship.bias', 'cls.predictions.transform.dense.bias', 'cls.predictions.transform.LayerNorm.weight', 'cls.predictions.transform.dense.weight', 'cls.predictions.transform.LayerNorm.bias', 'cls.seq_relationship.weight', 'cls.predictions.bias']\n",
      "- This IS expected if you are initializing BertForSequenceClassification from the checkpoint of a model trained on another task or with another architecture (e.g. initializing a BertForSequenceClassification model from a BertForPreTraining model).\n",
      "- This IS NOT expected if you are initializing BertForSequenceClassification from the checkpoint of a model that you expect to be exactly identical (initializing a BertForSequenceClassification model from a BertForSequenceClassification model).\n",
      "Some weights of BertForSequenceClassification were not initialized from the model checkpoint at bert-base-cased and are newly initialized: ['classifier.weight', 'classifier.bias']\n",
      "You should probably TRAIN this model on a down-stream task to be able to use it for predictions and inference.\n"
     ]
    }
   ],
   "source": [
    "from transformers import AutoModelForSequenceClassification\n",
    "\n",
    "model = AutoModelForSequenceClassification.from_pretrained('bert-base-cased', num_labels=4)"
   ]
  },
  {
   "cell_type": "code",
   "execution_count": 264,
   "id": "ae0a9262-ce7c-44e9-b05f-cf7c6e096153",
   "metadata": {
    "tags": []
   },
   "outputs": [],
   "source": [
    "from torch.optim import AdamW\n",
    "\n",
    "optimizer = AdamW(model.parameters(), lr=5e-5)"
   ]
  },
  {
   "cell_type": "code",
   "execution_count": 265,
   "id": "178ae373-e19f-4c90-933b-9dace057ce07",
   "metadata": {
    "tags": []
   },
   "outputs": [],
   "source": [
    "from transformers import get_scheduler\n",
    "\n",
    "num_epochs = 3\n",
    "num_training_steps = num_epochs * len(train_dataloader_logs)\n",
    "lr_scheduler = get_scheduler(\n",
    "    name=\"linear\", optimizer=optimizer, num_warmup_steps=0, num_training_steps=num_training_steps\n",
    ")"
   ]
  },
  {
   "cell_type": "code",
   "execution_count": 267,
   "id": "4afcf358-5414-4559-b96b-091d26c27f64",
   "metadata": {
    "tags": []
   },
   "outputs": [
    {
     "data": {
      "text/plain": [
       "device(type='cuda')"
      ]
     },
     "execution_count": 267,
     "metadata": {},
     "output_type": "execute_result"
    }
   ],
   "source": [
    "import torch\n",
    "\n",
    "device = torch.device(\"cuda\") if torch.cuda.is_available() else torch.device(\"cpu\")\n",
    "model.to(device)\n",
    "device"
   ]
  },
  {
   "cell_type": "code",
   "execution_count": 268,
   "id": "7c02e197-8571-454a-9c9c-06abcdae8c69",
   "metadata": {
    "tags": []
   },
   "outputs": [
    {
     "data": {
      "application/vnd.jupyter.widget-view+json": {
       "model_id": "f0a450bc4f644709adc78571222269d3",
       "version_major": 2,
       "version_minor": 0
      },
      "text/plain": [
       "  0%|          | 0/3375 [00:00<?, ?it/s]"
      ]
     },
     "metadata": {},
     "output_type": "display_data"
    }
   ],
   "source": [
    "from tqdm.auto import tqdm\n",
    "\n",
    "progress_bar = tqdm(range(num_training_steps))\n",
    "\n",
    "model.train()\n",
    "for epoch in range(num_epochs):\n",
    "    for batch in train_dataloader_logs:\n",
    "        batch = {k: v.to(device) for k, v in batch.items()}\n",
    "        outputs = model(**batch)\n",
    "        loss = outputs.loss\n",
    "        loss.backward()\n",
    "\n",
    "        optimizer.step()\n",
    "        lr_scheduler.step()\n",
    "        optimizer.zero_grad()\n",
    "        progress_bar.update(1)"
   ]
  },
  {
   "cell_type": "code",
   "execution_count": 269,
   "id": "29bfe58c-076c-494c-98d1-1233a1feb395",
   "metadata": {
    "tags": []
   },
   "outputs": [
    {
     "name": "stdout",
     "output_type": "stream",
     "text": [
      "Requirement already satisfied: evaluate in /opt/conda/lib/python3.9/site-packages (0.4.1)\n",
      "Requirement already satisfied: datasets>=2.0.0 in /opt/conda/lib/python3.9/site-packages (from evaluate) (2.14.5)\n",
      "Requirement already satisfied: numpy>=1.17 in /opt/conda/lib/python3.9/site-packages (from evaluate) (1.21.6)\n",
      "Requirement already satisfied: dill in /opt/conda/lib/python3.9/site-packages (from evaluate) (0.3.7)\n",
      "Requirement already satisfied: pandas in /opt/conda/lib/python3.9/site-packages (from evaluate) (1.5.3)\n",
      "Requirement already satisfied: requests>=2.19.0 in /opt/conda/lib/python3.9/site-packages (from evaluate) (2.31.0)\n",
      "Requirement already satisfied: tqdm>=4.62.1 in /opt/conda/lib/python3.9/site-packages (from evaluate) (4.65.0)\n",
      "Requirement already satisfied: xxhash in /opt/conda/lib/python3.9/site-packages (from evaluate) (3.3.0)\n",
      "Requirement already satisfied: multiprocess in /opt/conda/lib/python3.9/site-packages (from evaluate) (0.70.15)\n",
      "Requirement already satisfied: fsspec[http]>=2021.05.0 in /opt/conda/lib/python3.9/site-packages (from evaluate) (2023.6.0)\n",
      "Requirement already satisfied: huggingface-hub>=0.7.0 in /opt/conda/lib/python3.9/site-packages (from evaluate) (0.17.3)\n",
      "Requirement already satisfied: packaging in /opt/conda/lib/python3.9/site-packages (from evaluate) (21.3)\n",
      "Requirement already satisfied: responses<0.19 in /opt/conda/lib/python3.9/site-packages (from evaluate) (0.18.0)\n",
      "Requirement already satisfied: pyarrow>=8.0.0 in /opt/conda/lib/python3.9/site-packages (from datasets>=2.0.0->evaluate) (10.0.1)\n",
      "Requirement already satisfied: aiohttp in /opt/conda/lib/python3.9/site-packages (from datasets>=2.0.0->evaluate) (3.8.5)\n",
      "Requirement already satisfied: pyyaml>=5.1 in /opt/conda/lib/python3.9/site-packages (from datasets>=2.0.0->evaluate) (6.0)\n",
      "Requirement already satisfied: filelock in /opt/conda/lib/python3.9/site-packages (from huggingface-hub>=0.7.0->evaluate) (3.12.4)\n",
      "Requirement already satisfied: typing-extensions>=3.7.4.3 in /opt/conda/lib/python3.9/site-packages (from huggingface-hub>=0.7.0->evaluate) (4.4.0)\n",
      "Requirement already satisfied: pyparsing!=3.0.5,>=2.0.2 in /opt/conda/lib/python3.9/site-packages (from packaging->evaluate) (3.1.1)\n",
      "Requirement already satisfied: charset-normalizer<4,>=2 in /opt/conda/lib/python3.9/site-packages (from requests>=2.19.0->evaluate) (2.0.4)\n",
      "Requirement already satisfied: idna<4,>=2.5 in /opt/conda/lib/python3.9/site-packages (from requests>=2.19.0->evaluate) (3.4)\n",
      "Requirement already satisfied: urllib3<3,>=1.21.1 in /opt/conda/lib/python3.9/site-packages (from requests>=2.19.0->evaluate) (1.26.16)\n",
      "Requirement already satisfied: certifi>=2017.4.17 in /opt/conda/lib/python3.9/site-packages (from requests>=2.19.0->evaluate) (2023.7.22)\n",
      "Requirement already satisfied: python-dateutil>=2.8.1 in /opt/conda/lib/python3.9/site-packages (from pandas->evaluate) (2.8.2)\n",
      "Requirement already satisfied: pytz>=2020.1 in /opt/conda/lib/python3.9/site-packages (from pandas->evaluate) (2023.3.post1)\n",
      "Requirement already satisfied: attrs>=17.3.0 in /opt/conda/lib/python3.9/site-packages (from aiohttp->datasets>=2.0.0->evaluate) (23.1.0)\n",
      "Requirement already satisfied: multidict<7.0,>=4.5 in /opt/conda/lib/python3.9/site-packages (from aiohttp->datasets>=2.0.0->evaluate) (6.0.4)\n",
      "Requirement already satisfied: async-timeout<5.0,>=4.0.0a3 in /opt/conda/lib/python3.9/site-packages (from aiohttp->datasets>=2.0.0->evaluate) (4.0.3)\n",
      "Requirement already satisfied: yarl<2.0,>=1.0 in /opt/conda/lib/python3.9/site-packages (from aiohttp->datasets>=2.0.0->evaluate) (1.9.2)\n",
      "Requirement already satisfied: frozenlist>=1.1.1 in /opt/conda/lib/python3.9/site-packages (from aiohttp->datasets>=2.0.0->evaluate) (1.4.0)\n",
      "Requirement already satisfied: aiosignal>=1.1.2 in /opt/conda/lib/python3.9/site-packages (from aiohttp->datasets>=2.0.0->evaluate) (1.3.1)\n",
      "Requirement already satisfied: six>=1.5 in /opt/conda/lib/python3.9/site-packages (from python-dateutil>=2.8.1->pandas->evaluate) (1.16.0)\n",
      "\u001b[33mDEPRECATION: feast 0.20.2 has a non-standard dependency specifier PyYAML>=5.4.*. pip 23.3 will enforce this behaviour change. A possible replacement is to upgrade to a newer version of feast or contact the author to suggest that they release a version with a conforming dependency specifiers. Discussion can be found at https://github.com/pypa/pip/issues/12063\u001b[0m\u001b[33m\n",
      "\u001b[0m\u001b[33mDEPRECATION: feast 0.20.2 has a non-standard dependency specifier tenacity>=7.*. pip 23.3 will enforce this behaviour change. A possible replacement is to upgrade to a newer version of feast or contact the author to suggest that they release a version with a conforming dependency specifiers. Discussion can be found at https://github.com/pypa/pip/issues/12063\u001b[0m\u001b[33m\n",
      "\u001b[0m\u001b[33mDEPRECATION: feast 0.20.2 has a non-standard dependency specifier dask<2022.02.0,>=2021.*. pip 23.3 will enforce this behaviour change. A possible replacement is to upgrade to a newer version of feast or contact the author to suggest that they release a version with a conforming dependency specifiers. Discussion can be found at https://github.com/pypa/pip/issues/12063\u001b[0m\u001b[33m\n",
      "\u001b[0m"
     ]
    }
   ],
   "source": [
    "!pip install evaluate"
   ]
  },
  {
   "cell_type": "code",
   "execution_count": 270,
   "id": "879fd7c4-34d8-4edf-8d5e-131f3292d3e9",
   "metadata": {
    "tags": []
   },
   "outputs": [
    {
     "data": {
      "text/plain": [
       "{'accuracy': 1.0}"
      ]
     },
     "execution_count": 270,
     "metadata": {},
     "output_type": "execute_result"
    }
   ],
   "source": [
    "import evaluate\n",
    "\n",
    "metric = evaluate.load(\"accuracy\")\n",
    "model.eval()\n",
    "for batch in eval_dataloader_logs:\n",
    "    batch = {k: v.to(device) for k, v in batch.items()}\n",
    "    with torch.no_grad():\n",
    "        outputs = model(**batch)\n",
    "\n",
    "    logits = outputs.logits\n",
    "    predictions = torch.argmax(logits, dim=-1)\n",
    "    metric.add_batch(predictions=predictions, references=batch[\"labels\"])\n",
    "\n",
    "metric.compute()"
   ]
  },
  {
   "cell_type": "code",
   "execution_count": 271,
   "id": "6cbeec3b-64e4-489e-96d5-ed1b94f97ee7",
   "metadata": {
    "tags": []
   },
   "outputs": [
    {
     "data": {
      "text/plain": [
       "[{'label': 'LABEL_3', 'score': 0.9999047517776489}]"
      ]
     },
     "execution_count": 271,
     "metadata": {},
     "output_type": "execute_result"
    }
   ],
   "source": [
    "from transformers import pipeline\n",
    "\n",
    "model = model.to(device)\n",
    "device_num = 0 if torch.cuda.is_available() else -1\n",
    "classifier = pipeline('text-classification', model=model, tokenizer=tokenizer, device=device_num)\n",
    "classifier(df_train.text[10])"
   ]
  },
  {
   "cell_type": "markdown",
   "id": "1a719fbe-8250-4902-b022-7fa2d0513541",
   "metadata": {},
   "source": [
    "## TEST: Now find an error bundle which showed no errors and see if we can find something..."
   ]
  },
  {
   "cell_type": "code",
   "execution_count": 75,
   "id": "3d1db51b-2755-4db8-a14d-8fd9b8cea09d",
   "metadata": {
    "tags": []
   },
   "outputs": [],
   "source": [
    "error_execution_ids = resource_usage_df.run_id[resource_usage_df[\"status\"].isin([\"Failed\", \"Error\"])]"
   ]
  },
  {
   "cell_type": "code",
   "execution_count": 79,
   "id": "6b6a3604-6a93-446c-9625-53df168bd961",
   "metadata": {
    "tags": []
   },
   "outputs": [],
   "source": [
    "project_name = 'allstate_log_github'\n",
    "data_directory = '/mnt/data/' + project_name + '/'\n",
    "\n",
    "errors_df = pd.read_csv(data_directory+'error_analysis_all_time.csv')"
   ]
  },
  {
   "cell_type": "code",
   "execution_count": 91,
   "id": "9980de19-68bc-4fa4-94c2-53fc5c5f76f6",
   "metadata": {
    "tags": []
   },
   "outputs": [],
   "source": [
    "import re\n",
    "\n",
    "caught_errors = [re.sub(r\"\\/|\\.zip\", \"\", error) for error in errors_df.execution_id]"
   ]
  },
  {
   "cell_type": "code",
   "execution_count": 98,
   "id": "25b4b20f-65b9-48d1-8bd1-de01c66eb4a2",
   "metadata": {
    "tags": []
   },
   "outputs": [],
   "source": [
    "missed_errors = list(set(error_execution_ids) - set(caught_errors))"
   ]
  },
  {
   "cell_type": "code",
   "execution_count": 160,
   "id": "75ea1d29-1b85-4548-9b27-9ad91ac3bf55",
   "metadata": {
    "tags": []
   },
   "outputs": [
    {
     "data": {
      "text/plain": [
       "'63637adcc037d60af817bd83'"
      ]
     },
     "execution_count": 160,
     "metadata": {},
     "output_type": "execute_result"
    }
   ],
   "source": [
    "missed_errors[1002]"
   ]
  },
  {
   "cell_type": "code",
   "execution_count": 172,
   "id": "1b3652ac-05f4-4d7e-a814-801672afa95d",
   "metadata": {
    "tags": []
   },
   "outputs": [],
   "source": [
    "def find_abs_path(execution_id, support_bundles_directory=support_bundles_directory):\n",
    "    all_paths = os.listdir(support_bundles_directory + execution_id)\n",
    "    all_paths = [os.path.abspath(support_bundles_directory + execution_id + '/'+f) for f in all_paths]\n",
    "    return(all_paths)\n",
    "\n",
    "target_paths = find_abs_path(missed_errors[1060])"
   ]
  },
  {
   "cell_type": "code",
   "execution_count": 173,
   "id": "dfd4055d-781e-433f-80f5-84c7125fbcf8",
   "metadata": {
    "tags": []
   },
   "outputs": [],
   "source": [
    "def open_all_files(path):\n",
    "    with open(path, 'r') as f:\n",
    "        raw_content = f.readlines()\n",
    "\n",
    "    raw_content = [line.strip() for line in raw_content]\n",
    "    \n",
    "    return(raw_content)\n",
    "\n",
    "all_content = [open_all_files(path) for path in target_paths]\n",
    "all_content = [line for file in all_content for line in file]"
   ]
  },
  {
   "cell_type": "code",
   "execution_count": null,
   "id": "accf544c-ff8f-49f1-aa65-687f6d57329d",
   "metadata": {
    "tags": []
   },
   "outputs": [
    {
     "name": "stdout",
     "output_type": "stream",
     "text": [
      "target_paths:\n",
      " /mnt/data/allstate_log_github/support-bundles/64f89884fdd3bd2b95f4b6c2/performance-metrics.csv\n",
      "/mnt/data/allstate_log_github/support-bundles/64f89884fdd3bd2b95f4b6c2/nucleus-frontend-7d8bfd9496-xjsml-nucleus-frontend.log\n",
      "/mnt/data/allstate_log_github/support-bundles/64f89884fdd3bd2b95f4b6c2/describe-pods.log\n",
      "/mnt/data/allstate_log_github/support-bundles/64f89884fdd3bd2b95f4b6c2/saga.json\n",
      "/mnt/data/allstate_log_github/support-bundles/64f89884fdd3bd2b95f4b6c2/nucleus-frontend-7d8bfd9496-n6cxk-nucleus-frontend.log\n",
      "/mnt/data/allstate_log_github/support-bundles/64f89884fdd3bd2b95f4b6c2/execution.log\n",
      "/mnt/data/allstate_log_github/support-bundles/64f89884fdd3bd2b95f4b6c2/nginx.log\n",
      "/mnt/data/allstate_log_github/support-bundles/64f89884fdd3bd2b95f4b6c2/run-history.json\n",
      "/mnt/data/allstate_log_github/support-bundles/64f89884fdd3bd2b95f4b6c2/nucleus-dispatcher-786f69d4d6-wwdb5-nucleus-dispatcher.log\n",
      "/mnt/data/allstate_log_github/support-bundles/64f89884fdd3bd2b95f4b6c2/logjam-2023090615_0.log\n",
      "/mnt/data/allstate_log_github/support-bundles/64f89884fdd3bd2b95f4b6c2/manifest.csv\n",
      "/mnt/data/allstate_log_github/support-bundles/64f89884fdd3bd2b95f4b6c2/kubernetes.yaml\n",
      "/mnt/data/allstate_log_github/support-bundles/64f89884fdd3bd2b95f4b6c2/run.json\n",
      "/mnt/data/allstate_log_github/support-bundles/64f89884fdd3bd2b95f4b6c2/retriever-12-error.txt\n",
      "/mnt/data/allstate_log_github/support-bundles/64f89884fdd3bd2b95f4b6c2/events.json\n",
      "/mnt/data/allstate_log_github/support-bundles/64f89884fdd3bd2b95f4b6c2/logjam-2023090615_1.log\n",
      "/mnt/data/allstate_log_github/support-bundles/64f89884fdd3bd2b95f4b6c2/execution-64f89884fdd3bd2b95f4b6c2.yaml\n",
      "/mnt/data/allstate_log_github/support-bundles/64f89884fdd3bd2b95f4b6c2/executor.log\n",
      "/mnt/data/allstate_log_github/support-bundles/64f89884fdd3bd2b95f4b6c2/project.json\n"
     ]
    }
   ],
   "source": [
    "desired_labels = ['LABEL_1', 'LABEL_2', 'LABEL_3']\n",
    "error_analysis = dict()\n",
    "\n",
    "for execution_id in missed_errors:\n",
    "    target_paths = find_abs_path(execution_id)\n",
    "    print(\"target_paths:\\n\", '\\n'.join(target_paths))\n",
    "    \n",
    "    all_content = [open_all_files(path) for path in target_paths]\n",
    "    if len(all_content) == 0:\n",
    "        print(\"Execution Id \" + execution_id + \" does not have associated bundle files. This could be due to errors in the ways they were downloaded via API\")\n",
    "    all_content = [line for file in all_content for line in file]\n",
    "    \n",
    "    pred = classifier(all_content, max_length=512, truncation=True)\n",
    "    \n",
    "    indices = [i for i, p in enumerate(pred) if p['label'] in desired_labels]\n",
    "    \n",
    "    print(\"Execution Id: \" + execution_id)\n",
    "    print(\"Indices with Caught Errors: [\"+ ', '.join(map(str, indices)) + ']')\n",
    "    \n",
    "    caught_errors = '\\n'.join([all_content[i] for i in indices])\n",
    "    print(\"Caught Errors: \", caught_errors)\n",
    "    \n",
    "    error_analysis[execution_id] = dict()\n",
    "    error_analysis[execution_id]['num_errors'] = len(indices)\n",
    "    error_analysis[execution_id]['caught_errors'] = caught_errors\n",
    "    \n",
    "    print(\"\\n\\n\")"
   ]
  },
  {
   "cell_type": "code",
   "execution_count": 210,
   "id": "9359b080-8d32-4060-ab63-9d1e8813a956",
   "metadata": {
    "tags": []
   },
   "outputs": [],
   "source": [
    "execution_id = '652c0e24b9c768436d7c1971'\n",
    "\n",
    "target_paths = find_abs_path(execution_id)\n",
    "all_content = [open_all_files(path) for path in target_paths]\n",
    "all_content = [line for file in all_content for line in file]\n",
    "pred = classifier(all_content)\n",
    "#indices = [i for i, p in enumerate(pred) if p['label'] in desired_labels]\n",
    "#error_analysis[i] = indices\n",
    "#print(\"Execution Id: \" + i)\n",
    "#print(\"Indices with Caught Errors: [\"+ ', '.join(indices) + ']')"
   ]
  },
  {
   "cell_type": "code",
   "execution_count": 202,
   "id": "fee314d0-8007-4775-adfd-a5f543b88b13",
   "metadata": {
    "tags": []
   },
   "outputs": [
    {
     "name": "stdout",
     "output_type": "stream",
     "text": [
      "Indices with Caught Errors: [13, 14, 15, 16, 17, 123, 124, 125, 126, 127]\n"
     ]
    }
   ],
   "source": [
    "indices = [i for i, p in enumerate(pred) if p['label'] in desired_labels]\n",
    "print(\"Indices with Caught Errors: [\"+ ', '.join(map(str, indices)) + ']')"
   ]
  },
  {
   "cell_type": "code",
   "execution_count": 201,
   "id": "b2877539-76e8-49e8-9045-713e6d3f7b6d",
   "metadata": {
    "tags": []
   },
   "outputs": [
    {
     "data": {
      "text/plain": [
       "[13, 14, 15, 16, 17, 123, 124, 125, 126, 127]"
      ]
     },
     "execution_count": 201,
     "metadata": {},
     "output_type": "execute_result"
    }
   ],
   "source": [
    "indices"
   ]
  },
  {
   "cell_type": "code",
   "execution_count": 183,
   "id": "932a8b14-be0f-4940-87fe-5eb01eb4fea3",
   "metadata": {
    "tags": []
   },
   "outputs": [
    {
     "name": "stdout",
     "output_type": "stream",
     "text": [
      "Test [1, 2, 3]\n"
     ]
    }
   ],
   "source": [
    "tst = ['1', '2', '3']\n",
    "print(\"Test [\"+ ', '.join(tst) + ']')"
   ]
  },
  {
   "cell_type": "markdown",
   "id": "1daf059b-906a-420b-aca5-989f88bc4af0",
   "metadata": {},
   "source": [
    "## Now let's save out our model so we don't lose that good processing power!"
   ]
  },
  {
   "cell_type": "code",
   "execution_count": null,
   "id": "aabc63b1-9780-48f4-9e39-378fc3fdc310",
   "metadata": {},
   "outputs": [],
   "source": []
  }
 ],
 "metadata": {
  "dca-init": "true",
  "kernelspec": {
   "display_name": "Python 3 (ipykernel)",
   "language": "python",
   "name": "python3"
  },
  "language_info": {
   "codemirror_mode": {
    "name": "ipython",
    "version": 3
   },
   "file_extension": ".py",
   "mimetype": "text/x-python",
   "name": "python",
   "nbconvert_exporter": "python",
   "pygments_lexer": "ipython3",
   "version": "3.9.18"
  }
 },
 "nbformat": 4,
 "nbformat_minor": 5
}
