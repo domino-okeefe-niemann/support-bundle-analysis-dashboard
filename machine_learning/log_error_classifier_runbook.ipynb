{
 "cells": [
  {
   "cell_type": "code",
   "execution_count": 4,
   "id": "a946cd91",
   "metadata": {},
   "outputs": [],
   "source": [
    "import os\n",
    "import random\n",
    "import pandas as pd\n",
    "from datetime import datetime\n",
    "\n",
    "from sklearn.model_selection import train_test_split\n",
    "from datasets import Dataset, DatasetDict\n",
    "\n",
    "import warnings\n",
    "warnings.filterwarnings(\"ignore\")"
   ]
  },
  {
   "cell_type": "code",
   "execution_count": 5,
   "id": "0d14c00e",
   "metadata": {},
   "outputs": [],
   "source": [
    "project_name = os.environ.get('DOMINO_PROJECT_NAME')\n",
    "\n",
    "# Former is directory structure for imported github repo, latter for local domino project\n",
    "if os.path.isdir('/mnt/data'):\n",
    "    data_directory = os.path.join('/mnt', 'data', project_name)\n",
    "else:\n",
    "    data_directory = os.path.join('/domino', 'datasets', 'local', project_name)"
   ]
  },
  {
   "cell_type": "code",
   "execution_count": 41,
   "id": "7ae0b95d",
   "metadata": {},
   "outputs": [
    {
     "data": {
      "text/plain": [
       "(23304, 8)"
      ]
     },
     "execution_count": 41,
     "metadata": {},
     "output_type": "execute_result"
    }
   ],
   "source": [
    "# Import the errors caught using regex pattern from application. \n",
    "# This will be our training data with examples for each error type\n",
    "error_file_paths = [file for file in os.listdir(os.path.join(data_directory, 'support-bundle-summary/')) if file.endswith('.csv')]\n",
    "errors_df = [pd.read_csv(os.path.join(data_directory, 'support-bundle-summary', file)) for file in error_file_paths]\n",
    "errors_df = pd.concat(errors_df, ignore_index=True)\n",
    "errors_df = errors_df[['Context', 'Error_Type']]\n",
    "errors_df.shape"
   ]
  },
  {
   "cell_type": "code",
   "execution_count": 46,
   "id": "368f296a",
   "metadata": {},
   "outputs": [],
   "source": [
    "support_bundles_directory = os.path.join(data_directory, 'support-bundles')\n",
    "support_bundles = os.listdir(support_bundles_directory)\n",
    "support_bundles = [x for x in support_bundles if '.zip' not in x]"
   ]
  },
  {
   "cell_type": "code",
   "execution_count": 48,
   "id": "f8751caa",
   "metadata": {},
   "outputs": [],
   "source": [
    "resource_usage_directory = os.path.join(data_directory, 'resource-usage-by-day/')\n",
    "resource_usage_csv_files = os.listdir(resource_usage_directory)\n",
    "resource_usage_df = pd.concat([pd.read_csv(os.path.join(resource_usage_directory, f)) for f in resource_usage_csv_files], ignore_index=True)"
   ]
  },
  {
   "cell_type": "code",
   "execution_count": 50,
   "id": "cc860430",
   "metadata": {},
   "outputs": [],
   "source": [
    "# Capture non-error and non-failure execution_ids\n",
    "no_errors = resource_usage_df[resource_usage_df['status'].isin(['Running', 'Succeeded'])]"
   ]
  },
  {
   "cell_type": "code",
   "execution_count": 62,
   "id": "941c427f",
   "metadata": {},
   "outputs": [],
   "source": [
    "# Identifying all relevant file paths to extract 'no error' training lines \n",
    "existing_bundles = list(set(no_errors.run_id) & set(support_bundles))\n",
    "existing_bundles_file_paths = [os.path.join(data_directory, 'support-bundles', bundle) for bundle in existing_bundles]\n",
    "\n",
    "all_file_paths = [\n",
    "    os.path.join(root, file)\n",
    "    for directory in existing_bundles_file_paths\n",
    "    for root, dirs, files in os.walk(directory)\n",
    "    for file in files\n",
    "]"
   ]
  },
  {
   "cell_type": "code",
   "execution_count": 69,
   "id": "5b0f79a2",
   "metadata": {},
   "outputs": [],
   "source": [
    "# Open each file and extract the lines\n",
    "def open_all_files(paths):\n",
    "    with open(paths, 'r') as f:\n",
    "        raw_content = f.readlines()\n",
    "\n",
    "    raw_content = [line.strip() for line in raw_content]\n",
    "    \n",
    "    return(raw_content)\n",
    "\n",
    "all_content = [open_all_files(path) for path in all_file_paths]\n",
    "all_content = [line for file in all_content for line in file]\n",
    "\n",
    "# Filter out lines with an insignificant amount of information\n",
    "num_chars = 10\n",
    "all_content = list(filter(lambda word: len(word) > num_chars, all_content))\n",
    "\n",
    "len(all_content)"
   ]
  },
  {
   "cell_type": "code",
   "execution_count": 72,
   "id": "4c730dcc",
   "metadata": {},
   "outputs": [],
   "source": [
    "# Sample the non-errors such that the resulting data is 50% errors, 50% non errors\n",
    "wanted_num_non_errors = errors_df.shape[0]\n",
    "indices = random.sample(range(len(all_content)), wanted_num_non_errors)\n",
    "target_content = [all_content[idx] for idx in indices]\n",
    "\n",
    "no_errors_df = pd.DataFrame({\"Context\" : target_content, \"Error_Type\" : [\"none\" for i in target_content]})"
   ]
  },
  {
   "cell_type": "code",
   "execution_count": 75,
   "id": "3a82a5da",
   "metadata": {},
   "outputs": [
    {
     "data": {
      "text/plain": [
       "(46608, 2)"
      ]
     },
     "execution_count": 75,
     "metadata": {},
     "output_type": "execute_result"
    }
   ],
   "source": [
    "# Create the final dataset\n",
    "all_data = pd.concat([errors_df, no_errors_df])\n",
    "all_data.columns = ['text', 'label']\n",
    "all_data.shape"
   ]
  },
  {
   "cell_type": "code",
   "execution_count": 92,
   "id": "5f46c42e",
   "metadata": {},
   "outputs": [],
   "source": [
    "# To avoid obscene training times, the below is used to train the values\n",
    "def stratified_sample(df, stratifying_col, n):\n",
    "    def sample_func(group):\n",
    "        if len(group) < int(n/df[stratifying_col].nunique()):\n",
    "            return group.sample(int(n/df[stratifying_col].nunique()), replace=True)\n",
    "        else:\n",
    "            return group.sample(int(n/df[stratifying_col].nunique()))\n",
    "    return df.groupby(stratifying_col, group_keys=False).apply(sample_func)\n",
    "\n",
    "# Get stratified sample with target number of rows\n",
    "n = 30000\n",
    "all_data_small = stratified_sample(all_data, 'label', n)\n",
    "\n",
    "df_train_small, df_test_small = train_test_split(all_data_small, test_size=0.1, stratify=all_data_small[\"label\"])\n",
    "\n",
    "dir_name = os.path.join(data_directory, 'classification_data')\n",
    "\n",
    "if not os.path.exists(dir_name):\n",
    "    os.makedirs(dir_name)"
   ]
  },
  {
   "cell_type": "code",
   "execution_count": null,
   "id": "1271753e",
   "metadata": {},
   "outputs": [],
   "source": [
    "# Save out the training and test data, as well as all the extracted errors/non-errors\n",
    "df_train_small.to_csv(os.path.join(dir_name, datetime.now().strftime('%Y%m%d_%H%M%S') + \"_train_small.csv\"), index=False)\n",
    "df_test_small.to_csv(os.path.join(dir_name, datetime.now().strftime('%Y%m%d_%H%M%S') + \"_test_small.csv\"), index=False)\n",
    "all_data.to_csv(os.path.join(dir_name, datetime.now().strftime('%Y%m%d_%H%M%S') + '_extracted_data.csv'), index=False)"
   ]
  },
  {
   "cell_type": "markdown",
   "id": "1a0c4292",
   "metadata": {},
   "source": [
    "# Creating/Training the Model"
   ]
  },
  {
   "cell_type": "code",
   "execution_count": 8,
   "id": "ad1a4191",
   "metadata": {},
   "outputs": [],
   "source": [
    "df_train_small = pd.read_csv(os.path.join(data_directory, 'classification_data', '20231106_172505_train_small.csv'))\n",
    "df_test_small = pd.read_csv(os.path.join(data_directory, 'classification_data', '20231106_172505_test_small.csv'))\n",
    "df_test_small = df_test_small[df_test_small['text'].notna()]"
   ]
  },
  {
   "cell_type": "code",
   "execution_count": 7,
   "id": "963c1b4e",
   "metadata": {},
   "outputs": [],
   "source": [
    "# df_train_small = df_train_small[1:100]\n",
    "# df_test_small = df_test_small[1:100]"
   ]
  },
  {
   "cell_type": "code",
   "execution_count": 14,
   "id": "6d1e32ef",
   "metadata": {},
   "outputs": [],
   "source": [
    "text_to_label = {'none':0, 'cluster':1, 'domino':2, 'user':3}\n",
    "label_to_text = {str(label):text for text, label in text_to_label.items()}\n",
    "    \n",
    "df_train_small['label'] = df_train_small['label'].apply(lambda x: text_to_label[x])\n",
    "df_test_small['label'] = df_test_small['label'].apply(lambda x: text_to_label[x])"
   ]
  },
  {
   "cell_type": "code",
   "execution_count": 6,
   "id": "97b9b3c9",
   "metadata": {},
   "outputs": [],
   "source": [
    "# Load up the model\n",
    "import log_error_classifier\n",
    "from log_error_classifier import HuggingFaceClassifier\n",
    "\n",
    "#model = HuggingFaceClassifier(path_or_pretrained='bert-base-cased', num_labels=4)\n",
    "model = HuggingFaceClassifier(path_or_pretrained='/mnt/artifacts/models/log_classification_20231106_212241/')"
   ]
  },
  {
   "cell_type": "code",
   "execution_count": 15,
   "id": "8e8aef58",
   "metadata": {},
   "outputs": [
    {
     "name": "stderr",
     "output_type": "stream",
     "text": [
      "Map: 100%|██████████| 26918/26918 [00:22<00:00, 1171.60 examples/s]\n",
      "100%|██████████| 10095/10095 [32:46<00:00,  5.13it/s]\n"
     ]
    }
   ],
   "source": [
    "# Train the model\n",
    "model.train(df=df_train_small)"
   ]
  },
  {
   "cell_type": "code",
   "execution_count": 29,
   "id": "786aa0e7",
   "metadata": {},
   "outputs": [
    {
     "data": {
      "text/plain": [
       "('/mnt/artifacts/models/log_classification_20231106_214832/tokenizer_config.json',\n",
       " '/mnt/artifacts/models/log_classification_20231106_214832/special_tokens_map.json',\n",
       " '/mnt/artifacts/models/log_classification_20231106_214832/vocab.txt',\n",
       " '/mnt/artifacts/models/log_classification_20231106_214832/added_tokens.json',\n",
       " '/mnt/artifacts/models/log_classification_20231106_214832/tokenizer.json')"
      ]
     },
     "execution_count": 29,
     "metadata": {},
     "output_type": "execute_result"
    }
   ],
   "source": [
    "model_directory = os.path.join('/mnt', 'artifacts', 'models', 'log_classification_'+datetime.now().strftime('%Y%m%d_%H%M%S'))\n",
    "\n",
    "os.makedirs(model_directory)\n",
    "model.model.save_pretrained(model_directory)\n",
    "model.tokenizer.save_pretrained(model_directory)"
   ]
  },
  {
   "cell_type": "code",
   "execution_count": null,
   "id": "7c35ffe0",
   "metadata": {},
   "outputs": [],
   "source": [
    "#testing"
   ]
  },
  {
   "cell_type": "code",
   "execution_count": 9,
   "id": "dfd975ab",
   "metadata": {},
   "outputs": [
    {
     "name": "stderr",
     "output_type": "stream",
     "text": [
      "100%|██████████| 94/94 [00:21<00:00,  4.47it/s]\n"
     ]
    }
   ],
   "source": [
    "text = df_test_small['text'].to_list()\n",
    "predictions, probabilities = model.predict(text)"
   ]
  },
  {
   "cell_type": "code",
   "execution_count": 27,
   "id": "60ec47cd",
   "metadata": {},
   "outputs": [
    {
     "data": {
      "image/png": "[encoded data removed]",
      "text/plain": [
       "<Figure size 800x800 with 2 Axes>"
      ]
     },
     "metadata": {},
     "output_type": "display_data"
    },
    {
     "data": {
      "image/png": "[encoded data removed]",
      "text/plain": [
       "<Figure size 1000x600 with 1 Axes>"
      ]
     },
     "metadata": {},
     "output_type": "display_data"
    }
   ],
   "source": [
    "import pandas as pd\n",
    "import seaborn as sns\n",
    "import numpy as np\n",
    "import matplotlib.pyplot as plt\n",
    "from sklearn.metrics import classification_report, confusion_matrix, ConfusionMatrixDisplay\n",
    "\n",
    "# Assuming 'df' is your DataFrame with 'predictions' and 'labels' columns\n",
    "predictions = [label_to_text[str(pred)] for pred in predictions]\n",
    "labels = [label_to_text[str(label)] for label in df_test_small['label'].to_list()]\n",
    "\n",
    "# Generate the classification report and the confusion matrix\n",
    "report = classification_report(labels, predictions, output_dict=True)\n",
    "conf_matrix = confusion_matrix(labels, predictions)\n",
    "\n",
    "# Plot the confusion matrix\n",
    "fig, ax = plt.subplots(figsize=(8, 8))\n",
    "ConfusionMatrixDisplay(conf_matrix, display_labels=np.unique(labels)).plot(cmap=plt.cm.Blues, ax=ax)\n",
    "plt.title('Confusion Matrix')\n",
    "plt.show()\n",
    "\n",
    "# Extract the precision, recall, and F1 score for each class\n",
    "metrics_df = pd.DataFrame(report).transpose().reset_index()\n",
    "metrics_df.rename({'index': 'class'}, axis=1, inplace=True)\n",
    "\n",
    "# Remove the 'support' column and the last three rows which contain the averages\n",
    "metrics_df = metrics_df[:-3].drop('support', axis=1)\n",
    "\n",
    "# Melt the dataframe for seaborn barplot\n",
    "metrics_melted = pd.melt(metrics_df, id_vars=['class'], var_name='metrics', value_name='values')\n",
    "\n",
    "# Plot precision, recall, and F1-score\n",
    "plt.figure(figsize=(10, 6))\n",
    "sns.barplot(data=metrics_melted, x='class', y='values', hue='metrics')\n",
    "plt.title('Classification Metrics per Class')\n",
    "plt.ylabel('Score')\n",
    "plt.xlabel('Class')\n",
    "plt.legend(title='Metrics', loc='upper right')\n",
    "plt.show()\n"
   ]
  },
  {
   "cell_type": "code",
   "execution_count": null,
   "id": "c1f160d9",
   "metadata": {},
   "outputs": [],
   "source": []
  }
 ],
 "metadata": {
  "kernelspec": {
   "display_name": "Python 3 (ipykernel)",
   "language": "python",
   "name": "python3"
  },
  "language_info": {
   "codemirror_mode": {
    "name": "ipython",
    "version": 3
   },
   "file_extension": ".py",
   "mimetype": "text/x-python",
   "name": "python",
   "nbconvert_exporter": "python",
   "pygments_lexer": "ipython3",
   "version": "3.8.10"
  }
 },
 "nbformat": 4,
 "nbformat_minor": 5
}
