{
 "cells": [
  {
   "cell_type": "code",
   "execution_count": 220,
   "id": "7a0089b0-18eb-4642-9c54-8902ee17d738",
   "metadata": {
    "tags": []
   },
   "outputs": [],
   "source": [
    "import os\n",
    "import random\n",
    "import pandas as pd\n",
    "\n",
    "from sklearn.model_selection import train_test_split\n",
    "from datasets import Dataset, DatasetDict\n",
    "\n",
    "import warnings\n",
    "warnings.filterwarnings(\"ignore\")"
   ]
  },
  {
   "cell_type": "markdown",
   "id": "8e2d3c6f-44c1-400e-9f4b-812cdda8511e",
   "metadata": {},
   "source": [
    "# Set Up The Data"
   ]
  },
  {
   "cell_type": "markdown",
   "id": "e79be680-ee6a-4168-9338-09381e1865b8",
   "metadata": {},
   "source": [
    "## Read in the Errors"
   ]
  },
  {
   "cell_type": "code",
   "execution_count": 221,
   "id": "403594ec-b7f7-4a81-b04b-ff091accc881",
   "metadata": {
    "tags": []
   },
   "outputs": [],
   "source": [
    "project_name = 'allstate_log_github'\n",
    "data_directory = '/mnt/data/' + project_name + '/'\n",
    "\n",
    "errors_df = pd.read_csv(data_directory+'error_analysis_all_time.csv')"
   ]
  },
  {
   "cell_type": "code",
   "execution_count": 222,
   "id": "0ea33e0a-3cf2-4b4a-929e-f6d99ecc763b",
   "metadata": {
    "tags": []
   },
   "outputs": [
    {
     "data": {
      "text/plain": [
       "Index(['Error', 'Line_Number', 'Context', 'Error_Type', 'File_Path',\n",
       "       'Date_Time', 'Node', 'execution_id'],\n",
       "      dtype='object')"
      ]
     },
     "execution_count": 222,
     "metadata": {},
     "output_type": "execute_result"
    }
   ],
   "source": [
    "errors_df.columns"
   ]
  },
  {
   "cell_type": "code",
   "execution_count": 223,
   "id": "96e7b674-dd72-474e-868a-bd225f25a85d",
   "metadata": {
    "tags": []
   },
   "outputs": [
    {
     "data": {
      "text/plain": [
       "cluster    35526\n",
       "domino     17838\n",
       "user          48\n",
       "Name: Error_Type, dtype: int64"
      ]
     },
     "execution_count": 223,
     "metadata": {},
     "output_type": "execute_result"
    }
   ],
   "source": [
    "errors_df.Error_Type.value_counts()"
   ]
  },
  {
   "cell_type": "code",
   "execution_count": 224,
   "id": "281d3b17-0d31-4636-8e88-610abbbb7bf6",
   "metadata": {
    "tags": []
   },
   "outputs": [],
   "source": [
    "errors_df = errors_df[['Context', 'Error_Type']]"
   ]
  },
  {
   "cell_type": "markdown",
   "id": "ac5911bb-ba83-45a1-9351-5f839c930ec6",
   "metadata": {},
   "source": [
    "## Extract random lines for non-error support bundles and create a \"no error\" dataframe"
   ]
  },
  {
   "cell_type": "code",
   "execution_count": 225,
   "id": "df2185dc-7213-4b74-aba9-a4122a75ea5c",
   "metadata": {
    "tags": []
   },
   "outputs": [],
   "source": [
    "support_bundles_directory = data_directory + 'support-bundles/'\n",
    "support_bundles = os.listdir(support_bundles_directory)\n",
    "support_bundles = [x for x in support_bundles if '.zip' not in x]"
   ]
  },
  {
   "cell_type": "code",
   "execution_count": 226,
   "id": "868623ce-d50a-434b-a10d-09acf5fb1601",
   "metadata": {
    "tags": []
   },
   "outputs": [
    {
     "data": {
      "text/plain": [
       "5549"
      ]
     },
     "execution_count": 226,
     "metadata": {},
     "output_type": "execute_result"
    }
   ],
   "source": [
    "len(support_bundles)"
   ]
  },
  {
   "cell_type": "code",
   "execution_count": 227,
   "id": "4af1bcde-52f7-4d25-a884-05a36237f350",
   "metadata": {
    "tags": []
   },
   "outputs": [],
   "source": [
    "resource_usage_directory = data_directory + 'resource-usage-by-day/'\n",
    "resource_usage_csv_files = os.listdir(resource_usage_directory)\n",
    "resource_usage_df = pd.concat([pd.read_csv(os.path.join(resource_usage_directory, f)) for f in resource_usage_csv_files], ignore_index=True)"
   ]
  },
  {
   "cell_type": "code",
   "execution_count": 228,
   "id": "c4fee376-1889-44ab-a865-1ff7f03fe9e2",
   "metadata": {
    "tags": []
   },
   "outputs": [
    {
     "data": {
      "text/html": [
       "<div>\n",
       "<style scoped>\n",
       "    .dataframe tbody tr th:only-of-type {\n",
       "        vertical-align: middle;\n",
       "    }\n",
       "\n",
       "    .dataframe tbody tr th {\n",
       "        vertical-align: top;\n",
       "    }\n",
       "\n",
       "    .dataframe thead th {\n",
       "        text-align: right;\n",
       "    }\n",
       "</style>\n",
       "<table border=\"1\" class=\"dataframe\">\n",
       "  <thead>\n",
       "    <tr style=\"text-align: right;\">\n",
       "      <th></th>\n",
       "      <th>run_id</th>\n",
       "      <th>run_title</th>\n",
       "      <th>command</th>\n",
       "      <th>status</th>\n",
       "      <th>starting_user</th>\n",
       "      <th>project_owner_username</th>\n",
       "      <th>project_name</th>\n",
       "      <th>total_run_duration_s_</th>\n",
       "      <th>run_duration_within_reporting_period_s_</th>\n",
       "      <th>hardware_tier</th>\n",
       "      <th>...</th>\n",
       "      <th>completed_timestamp</th>\n",
       "      <th>compute_cluster_type</th>\n",
       "      <th>master_hardware_tier</th>\n",
       "      <th>master_hardware_tier_cost_per_minute</th>\n",
       "      <th>worker_count</th>\n",
       "      <th>worker_hardware_tier</th>\n",
       "      <th>worker_hardware_tier_cost_per_minute</th>\n",
       "      <th>date</th>\n",
       "      <th>run_type</th>\n",
       "      <th>time_to_boot_s</th>\n",
       "    </tr>\n",
       "  </thead>\n",
       "  <tbody>\n",
       "    <tr>\n",
       "      <th>0</th>\n",
       "      <td>63714cc09196ec342a497c35</td>\n",
       "      <td>echo test</td>\n",
       "      <td>echo test</td>\n",
       "      <td>Succeeded</td>\n",
       "      <td>bryce_beddard</td>\n",
       "      <td>bryce_beddard</td>\n",
       "      <td>testAPI</td>\n",
       "      <td>5.0</td>\n",
       "      <td>5</td>\n",
       "      <td>small-k8s</td>\n",
       "      <td>...</td>\n",
       "      <td>1668369640346</td>\n",
       "      <td>NaN</td>\n",
       "      <td>NaN</td>\n",
       "      <td>NaN</td>\n",
       "      <td>NaN</td>\n",
       "      <td>NaN</td>\n",
       "      <td>NaN</td>\n",
       "      <td>2022-11-13</td>\n",
       "      <td>batch</td>\n",
       "      <td>35</td>\n",
       "    </tr>\n",
       "    <tr>\n",
       "      <th>1</th>\n",
       "      <td>6370c0209196ec342a496c3e</td>\n",
       "      <td>Data Warehouse Daily Run</td>\n",
       "      <td>'/repos/domino_dw/DW_ETL.py'</td>\n",
       "      <td>Succeeded</td>\n",
       "      <td>griffin_young</td>\n",
       "      <td>griffin_young</td>\n",
       "      <td>DW-Prod</td>\n",
       "      <td>6680.0</td>\n",
       "      <td>6680</td>\n",
       "      <td>small-k8s</td>\n",
       "      <td>...</td>\n",
       "      <td>1668340317363</td>\n",
       "      <td>NaN</td>\n",
       "      <td>NaN</td>\n",
       "      <td>NaN</td>\n",
       "      <td>NaN</td>\n",
       "      <td>NaN</td>\n",
       "      <td>NaN</td>\n",
       "      <td>2022-11-13</td>\n",
       "      <td>batch</td>\n",
       "      <td>36</td>\n",
       "    </tr>\n",
       "    <tr>\n",
       "      <th>2</th>\n",
       "      <td>640cddc0c4253f28887e0bbf</td>\n",
       "      <td>test.sh</td>\n",
       "      <td>test.sh</td>\n",
       "      <td>Failed</td>\n",
       "      <td>blake_moore</td>\n",
       "      <td>blake_moore</td>\n",
       "      <td>Finch</td>\n",
       "      <td>2.0</td>\n",
       "      <td>2</td>\n",
       "      <td>small-k8s</td>\n",
       "      <td>...</td>\n",
       "      <td>1678564826519</td>\n",
       "      <td>NaN</td>\n",
       "      <td>NaN</td>\n",
       "      <td>NaN</td>\n",
       "      <td>NaN</td>\n",
       "      <td>NaN</td>\n",
       "      <td>NaN</td>\n",
       "      <td>2023-03-11</td>\n",
       "      <td>batch</td>\n",
       "      <td>24</td>\n",
       "    </tr>\n",
       "    <tr>\n",
       "      <th>3</th>\n",
       "      <td>627ad072ee0eb12322fc991d</td>\n",
       "      <td>alireza_mounesisohi's JupyterLab session</td>\n",
       "      <td>[JupyterLab session ]</td>\n",
       "      <td>Stopped</td>\n",
       "      <td>alireza_mounesisohi</td>\n",
       "      <td>alireza_mounesisohi</td>\n",
       "      <td>IMM-regression</td>\n",
       "      <td>8324.0</td>\n",
       "      <td>8324</td>\n",
       "      <td>small-k8s</td>\n",
       "      <td>...</td>\n",
       "      <td>1652224265867</td>\n",
       "      <td>NaN</td>\n",
       "      <td>NaN</td>\n",
       "      <td>NaN</td>\n",
       "      <td>NaN</td>\n",
       "      <td>NaN</td>\n",
       "      <td>NaN</td>\n",
       "      <td>2022-05-10</td>\n",
       "      <td>notebook</td>\n",
       "      <td>20</td>\n",
       "    </tr>\n",
       "    <tr>\n",
       "      <th>4</th>\n",
       "      <td>627abbfbd78c3b4fc50c85c5</td>\n",
       "      <td>Sahil-test</td>\n",
       "      <td>[vscode session ]</td>\n",
       "      <td>Stopped</td>\n",
       "      <td>sahil.rahi</td>\n",
       "      <td>sahil.rahi</td>\n",
       "      <td>Test1</td>\n",
       "      <td>1007.0</td>\n",
       "      <td>1007</td>\n",
       "      <td>gpu-V100</td>\n",
       "      <td>...</td>\n",
       "      <td>1652211711849</td>\n",
       "      <td>NaN</td>\n",
       "      <td>NaN</td>\n",
       "      <td>NaN</td>\n",
       "      <td>NaN</td>\n",
       "      <td>NaN</td>\n",
       "      <td>NaN</td>\n",
       "      <td>2022-05-10</td>\n",
       "      <td>notebook</td>\n",
       "      <td>21</td>\n",
       "    </tr>\n",
       "  </tbody>\n",
       "</table>\n",
       "<p>5 rows × 25 columns</p>\n",
       "</div>"
      ],
      "text/plain": [
       "                     run_id                                 run_title  \\\n",
       "0  63714cc09196ec342a497c35                                 echo test   \n",
       "1  6370c0209196ec342a496c3e                  Data Warehouse Daily Run   \n",
       "2  640cddc0c4253f28887e0bbf                                   test.sh   \n",
       "3  627ad072ee0eb12322fc991d  alireza_mounesisohi's JupyterLab session   \n",
       "4  627abbfbd78c3b4fc50c85c5                                Sahil-test   \n",
       "\n",
       "                        command     status        starting_user  \\\n",
       "0                     echo test  Succeeded        bryce_beddard   \n",
       "1  '/repos/domino_dw/DW_ETL.py'  Succeeded        griffin_young   \n",
       "2                       test.sh     Failed          blake_moore   \n",
       "3         [JupyterLab session ]    Stopped  alireza_mounesisohi   \n",
       "4             [vscode session ]    Stopped           sahil.rahi   \n",
       "\n",
       "  project_owner_username    project_name  total_run_duration_s_  \\\n",
       "0          bryce_beddard         testAPI                    5.0   \n",
       "1          griffin_young         DW-Prod                 6680.0   \n",
       "2            blake_moore           Finch                    2.0   \n",
       "3    alireza_mounesisohi  IMM-regression                 8324.0   \n",
       "4             sahil.rahi           Test1                 1007.0   \n",
       "\n",
       "   run_duration_within_reporting_period_s_ hardware_tier  ...  \\\n",
       "0                                        5     small-k8s  ...   \n",
       "1                                     6680     small-k8s  ...   \n",
       "2                                        2     small-k8s  ...   \n",
       "3                                     8324     small-k8s  ...   \n",
       "4                                     1007      gpu-V100  ...   \n",
       "\n",
       "  completed_timestamp compute_cluster_type master_hardware_tier  \\\n",
       "0       1668369640346                  NaN                  NaN   \n",
       "1       1668340317363                  NaN                  NaN   \n",
       "2       1678564826519                  NaN                  NaN   \n",
       "3       1652224265867                  NaN                  NaN   \n",
       "4       1652211711849                  NaN                  NaN   \n",
       "\n",
       "   master_hardware_tier_cost_per_minute  worker_count  worker_hardware_tier  \\\n",
       "0                                   NaN           NaN                   NaN   \n",
       "1                                   NaN           NaN                   NaN   \n",
       "2                                   NaN           NaN                   NaN   \n",
       "3                                   NaN           NaN                   NaN   \n",
       "4                                   NaN           NaN                   NaN   \n",
       "\n",
       "  worker_hardware_tier_cost_per_minute        date  run_type  time_to_boot_s  \n",
       "0                                  NaN  2022-11-13     batch              35  \n",
       "1                                  NaN  2022-11-13     batch              36  \n",
       "2                                  NaN  2023-03-11     batch              24  \n",
       "3                                  NaN  2022-05-10  notebook              20  \n",
       "4                                  NaN  2022-05-10  notebook              21  \n",
       "\n",
       "[5 rows x 25 columns]"
      ]
     },
     "execution_count": 228,
     "metadata": {},
     "output_type": "execute_result"
    }
   ],
   "source": [
    "resource_usage_df.head()"
   ]
  },
  {
   "cell_type": "code",
   "execution_count": 229,
   "id": "967c5a93-3b01-4b9d-9e28-4c20dfab1ba9",
   "metadata": {
    "tags": []
   },
   "outputs": [],
   "source": [
    "no_errors = resource_usage_df[resource_usage_df['status'].isin(['Running', 'Succeeded'])]"
   ]
  },
  {
   "cell_type": "code",
   "execution_count": 230,
   "id": "00b9b25f-478c-4f5d-bd02-cc3b381899ef",
   "metadata": {
    "tags": []
   },
   "outputs": [],
   "source": [
    "support_bundles = list(set(support_bundles) & set(no_errors.run_id))"
   ]
  },
  {
   "cell_type": "code",
   "execution_count": 231,
   "id": "25fe0f38-7498-411e-b11b-d2943162e4cf",
   "metadata": {
    "tags": []
   },
   "outputs": [],
   "source": [
    "def find_abs_path(support_bundle_path, support_bundles_directory=support_bundles_directory):\n",
    "    all_paths = os.listdir(support_bundles_directory + support_bundle_path)\n",
    "    all_paths = [os.path.abspath(support_bundles_directory + support_bundle_path + '/'+f) for f in all_paths]\n",
    "    return(all_paths)\n",
    " \n",
    "#find_abs_path(support_bundles[0])\n",
    "successful_paths = [find_abs_path(target_support_bundle) for target_support_bundle in support_bundles]\n",
    "successful_paths = [path for support_bundle in successful_paths for path in support_bundle]"
   ]
  },
  {
   "cell_type": "code",
   "execution_count": 232,
   "id": "99af2d8e-bcb5-4c0f-989b-fec4e60b2297",
   "metadata": {
    "tags": []
   },
   "outputs": [],
   "source": [
    "def open_all_files(paths):\n",
    "    with open(paths, 'r') as f:\n",
    "        raw_content = f.readlines()\n",
    "\n",
    "    raw_content = [line.strip() for line in raw_content]\n",
    "    \n",
    "    return(raw_content)\n",
    "\n",
    "all_content = [open_all_files(path) for path in successful_paths]\n",
    "all_content = [line for file in all_content for line in file]"
   ]
  },
  {
   "cell_type": "code",
   "execution_count": 233,
   "id": "70f9f4ea-79b3-4f87-80d2-9a992c984d42",
   "metadata": {
    "tags": []
   },
   "outputs": [],
   "source": [
    "all_content_save = all_content\n",
    "all_content = list(filter(lambda word: len(word) > 10, all_content))"
   ]
  },
  {
   "cell_type": "code",
   "execution_count": 234,
   "id": "68217641-cf17-440f-8381-9d84f1446998",
   "metadata": {
    "tags": []
   },
   "outputs": [],
   "source": [
    "wanted_num_non_errors = errors_df.shape[0]\n",
    "indices = random.sample(range(len(all_content)), wanted_num_non_errors)\n",
    "target_content = [all_content[idx] for idx in indices]"
   ]
  },
  {
   "cell_type": "code",
   "execution_count": 235,
   "id": "33fff955-4d7b-47d9-9532-e9133b1da608",
   "metadata": {
    "tags": []
   },
   "outputs": [],
   "source": [
    "no_errors_df = pd.DataFrame({\"Context\" : target_content, \"Error_Type\" : [\"none\" for i in target_content]})"
   ]
  },
  {
   "cell_type": "markdown",
   "id": "60f36919-bcc3-448a-add5-a7c5287099b2",
   "metadata": {},
   "source": [
    "## Combine the errors with the non-errors and create training/testing data"
   ]
  },
  {
   "cell_type": "code",
   "execution_count": 236,
   "id": "c84c3aa9-88dc-4487-868a-c68d866a1cd4",
   "metadata": {
    "tags": []
   },
   "outputs": [
    {
     "data": {
      "text/plain": [
       "(106824, 2)"
      ]
     },
     "execution_count": 236,
     "metadata": {},
     "output_type": "execute_result"
    }
   ],
   "source": [
    "all_data = pd.concat([errors_df, no_errors_df])\n",
    "all_data.columns = ['text', 'label']\n",
    "all_data.shape"
   ]
  },
  {
   "cell_type": "code",
   "execution_count": 237,
   "id": "e7410e51-5851-40c4-8332-143662f0ff32",
   "metadata": {
    "tags": []
   },
   "outputs": [],
   "source": [
    "df_train, df_test = train_test_split(all_data, test_size=0.1, stratify=all_data[\"label\"])"
   ]
  },
  {
   "cell_type": "code",
   "execution_count": 238,
   "id": "5efa6da5-2743-4fcd-b4b2-6a3e92e2b59b",
   "metadata": {
    "tags": []
   },
   "outputs": [
    {
     "data": {
      "text/plain": [
       "(106824, 2)"
      ]
     },
     "execution_count": 238,
     "metadata": {},
     "output_type": "execute_result"
    }
   ],
   "source": [
    "all_data.shape"
   ]
  },
  {
   "cell_type": "code",
   "execution_count": 239,
   "id": "cafb6f9d-ada4-4453-aa55-7f1f556886d8",
   "metadata": {
    "tags": []
   },
   "outputs": [],
   "source": [
    "def stratified_sample(df, stratifying_col, n):\n",
    "    def sample_func(group):\n",
    "        if len(group) < int(n/df[stratifying_col].nunique()):\n",
    "            return group.sample(int(n/df[stratifying_col].nunique()), replace=True)\n",
    "        else:\n",
    "            return group.sample(int(n/df[stratifying_col].nunique()))\n",
    "    return df.groupby(stratifying_col, group_keys=False).apply(sample_func)\n",
    "\n",
    "# Get stratified sample with target number of rows\n",
    "n = 10000\n",
    "all_data_small = stratified_sample(all_data, 'label', n)\n",
    "\n",
    "df_train_small, df_test_small = train_test_split(all_data_small, test_size=0.1, stratify=all_data_small[\"label\"])\n",
    "\n",
    "dir_name = os.path.join(data_directory, 'classification_data')\n",
    "\n",
    "if not os.path.exists(dir_name):\n",
    "    os.makedirs(dir_name)\n",
    "   \n",
    "\n",
    "df_train_small.to_csv(os.path.join(dir_name, \"train_small.csv\"), index=False)\n",
    "df_test_small.to_csv(os.path.join(dir_name, \"test_small.csv\"), index=False)"
   ]
  },
  {
   "cell_type": "code",
   "execution_count": 240,
   "id": "1b205bb4-526e-4d00-b355-8703fc83e2fc",
   "metadata": {
    "tags": []
   },
   "outputs": [
    {
     "data": {
      "text/plain": [
       "none       48071\n",
       "cluster    31973\n",
       "domino     16054\n",
       "user          43\n",
       "Name: label, dtype: int64"
      ]
     },
     "execution_count": 240,
     "metadata": {},
     "output_type": "execute_result"
    }
   ],
   "source": [
    "df_train['label'].value_counts()"
   ]
  },
  {
   "cell_type": "code",
   "execution_count": 241,
   "id": "ddfc0414-2c7e-4d46-a3cc-fa9717c21f9d",
   "metadata": {
    "tags": []
   },
   "outputs": [],
   "source": [
    "dir_name = os.path.join(data_directory, 'classification_data')\n",
    "\n",
    "if not os.path.exists(dir_name):\n",
    "    os.makedirs(dir_name)\n",
    "    \n",
    "\n",
    "df_train.to_csv(os.path.join(dir_name, \"train.csv\"), index=False)\n",
    "df_test.to_csv(os.path.join(dir_name, \"test.csv\"), index=False)"
   ]
  },
  {
   "cell_type": "markdown",
   "id": "4d21388e-f6b0-41b8-9911-21d2daca9c63",
   "metadata": {},
   "source": [
    "## Groom the data into something that HuggingFace can take in"
   ]
  },
  {
   "cell_type": "code",
   "execution_count": 254,
   "id": "1daa36de-5cd0-4ed4-a4b9-12934ae2ca6f",
   "metadata": {
    "tags": []
   },
   "outputs": [],
   "source": [
    "dir_name = os.path.join(data_directory, 'classification_data')\n",
    "\n",
    "df_train = pd.read_csv(os.path.join(dir_name, \"train_small.csv\"))\n",
    "df_test = pd.read_csv(os.path.join(dir_name, \"test_small.csv\"))"
   ]
  },
  {
   "cell_type": "code",
   "execution_count": 246,
   "id": "3599f223-af29-4a1f-8454-c3e1c076ee01",
   "metadata": {
    "tags": []
   },
   "outputs": [
    {
     "data": {
      "text/plain": [
       "{0: 'domino', 1: 'user', 2: 'none', 3: 'cluster'}"
      ]
     },
     "execution_count": 246,
     "metadata": {},
     "output_type": "execute_result"
    }
   ],
   "source": [
    "label_to_text"
   ]
  },
  {
   "cell_type": "code",
   "execution_count": 256,
   "id": "bbde28b3-748d-42fe-8b3b-94b0e58ef86f",
   "metadata": {
    "tags": []
   },
   "outputs": [],
   "source": [
    "unique_labels = df_train['label'].unique()\n",
    "#label_to_text = {idx:unique_labels[idx] for idx in range(len(unique_labels))}\n",
    "#text_to_label = {unique_labels[idx]:idx for idx in range(len(unique_labels))}\n",
    "label_to_text = {0: 'none', 1: 'cluster', 2: 'domino', 3: 'user'}\n",
    "text_to_label = {'none': 0, 'cluster':1, 'domino':2, 'user':3}"
   ]
  },
  {
   "cell_type": "code",
   "execution_count": 257,
   "id": "d8ee096d-e030-4103-8912-074e9bc695fd",
   "metadata": {
    "tags": []
   },
   "outputs": [],
   "source": [
    "df_train['label'] = df_train['label'].apply(lambda x: text_to_label[x])\n",
    "df_test['label'] = df_test['label'].apply(lambda x: text_to_label[x])"
   ]
  },
  {
   "cell_type": "code",
   "execution_count": 258,
   "id": "78694cf5-ee2a-425e-abd2-8d603160c0d1",
   "metadata": {
    "tags": []
   },
   "outputs": [],
   "source": [
    "dataset_train = Dataset.from_pandas(df_train)\n",
    "dataset_test = Dataset.from_pandas(df_test)\n",
    "\n",
    "dataset_logs = DatasetDict({\n",
    "        'train':dataset_train,\n",
    "        'test':dataset_test\n",
    "})"
   ]
  },
  {
   "cell_type": "code",
   "execution_count": 259,
   "id": "a3b4abae-c26a-4d62-8911-b237077cea47",
   "metadata": {
    "tags": []
   },
   "outputs": [
    {
     "data": {
      "application/vnd.jupyter.widget-view+json": {
       "model_id": "aa2b1f97f089465fa6265ca884fc50a0",
       "version_major": 2,
       "version_minor": 0
      },
      "text/plain": [
       "Map:   0%|          | 0/9000 [00:00<?, ? examples/s]"
      ]
     },
     "metadata": {},
     "output_type": "display_data"
    },
    {
     "data": {
      "application/vnd.jupyter.widget-view+json": {
       "model_id": "fd761d2e606745199a0923da2d756926",
       "version_major": 2,
       "version_minor": 0
      },
      "text/plain": [
       "Map:   0%|          | 0/1000 [00:00<?, ? examples/s]"
      ]
     },
     "metadata": {},
     "output_type": "display_data"
    }
   ],
   "source": [
    "from transformers import AutoTokenizer\n",
    "tokenizer = AutoTokenizer.from_pretrained('bert-base-cased')\n",
    "\n",
    "def tokenize_function(df):\n",
    "    return tokenizer(df['text'], padding=\"max_length\", truncation=True)\n",
    "\n",
    "tokenized_datasets_logs = dataset_logs.map(tokenize_function)"
   ]
  },
  {
   "cell_type": "code",
   "execution_count": 260,
   "id": "676824b3-0b0d-4180-a5d0-67e76fd2b0e7",
   "metadata": {
    "tags": []
   },
   "outputs": [],
   "source": [
    "tokenized_datasets_logs = tokenized_datasets_logs.remove_columns([\"text\"])\n",
    "tokenized_datasets_logs = tokenized_datasets_logs.rename_column(\"label\", \"labels\")\n",
    "tokenized_datasets_logs.set_format(\"torch\")"
   ]
  },
  {
   "cell_type": "code",
   "execution_count": 261,
   "id": "124b400b-135d-4103-9d86-ecebe1bfbfb2",
   "metadata": {
    "tags": []
   },
   "outputs": [],
   "source": [
    "train_dataset_logs = tokenized_datasets_logs[\"train\"]\n",
    "eval_dataset_logs = tokenized_datasets_logs[\"test\"]"
   ]
  },
  {
   "cell_type": "code",
   "execution_count": 262,
   "id": "f4ea2de5-e361-4389-ae89-2cee8cc92270",
   "metadata": {
    "tags": []
   },
   "outputs": [],
   "source": [
    "from torch.utils.data import DataLoader\n",
    "\n",
    "train_dataloader_logs = DataLoader(train_dataset_logs, shuffle=True, batch_size=8)\n",
    "eval_dataloader_logs = DataLoader(eval_dataset_logs, batch_size=8)"
   ]
  },
  {
   "cell_type": "markdown",
   "id": "07a17af7-98ff-45a3-a691-2ca81964f5c4",
   "metadata": {},
   "source": [
    "## Begin to Build the Model"
   ]
  },
  {
   "cell_type": "code",
   "execution_count": 263,
   "id": "ef46b6c3-9239-4a89-8532-7eefc8e5ac1e",
   "metadata": {
    "tags": []
   },
   "outputs": [
    {
     "name": "stderr",
     "output_type": "stream",
     "text": [
      "Some weights of the model checkpoint at bert-base-cased were not used when initializing BertForSequenceClassification: ['cls.seq_relationship.bias', 'cls.predictions.transform.dense.bias', 'cls.predictions.transform.LayerNorm.weight', 'cls.predictions.transform.dense.weight', 'cls.predictions.transform.LayerNorm.bias', 'cls.seq_relationship.weight', 'cls.predictions.bias']\n",
      "- This IS expected if you are initializing BertForSequenceClassification from the checkpoint of a model trained on another task or with another architecture (e.g. initializing a BertForSequenceClassification model from a BertForPreTraining model).\n",
      "- This IS NOT expected if you are initializing BertForSequenceClassification from the checkpoint of a model that you expect to be exactly identical (initializing a BertForSequenceClassification model from a BertForSequenceClassification model).\n",
      "Some weights of BertForSequenceClassification were not initialized from the model checkpoint at bert-base-cased and are newly initialized: ['classifier.weight', 'classifier.bias']\n",
      "You should probably TRAIN this model on a down-stream task to be able to use it for predictions and inference.\n"
     ]
    }
   ],
   "source": [
    "from transformers import AutoModelForSequenceClassification\n",
    "\n",
    "model = AutoModelForSequenceClassification.from_pretrained('bert-base-cased', num_labels=4)"
   ]
  },
  {
   "cell_type": "code",
   "execution_count": 264,
   "id": "ae0a9262-ce7c-44e9-b05f-cf7c6e096153",
   "metadata": {
    "tags": []
   },
   "outputs": [],
   "source": [
    "from torch.optim import AdamW\n",
    "\n",
    "optimizer = AdamW(model.parameters(), lr=5e-5)"
   ]
  },
  {
   "cell_type": "code",
   "execution_count": 265,
   "id": "178ae373-e19f-4c90-933b-9dace057ce07",
   "metadata": {
    "tags": []
   },
   "outputs": [],
   "source": [
    "from transformers import get_scheduler\n",
    "\n",
    "num_epochs = 3\n",
    "num_training_steps = num_epochs * len(train_dataloader_logs)\n",
    "lr_scheduler = get_scheduler(\n",
    "    name=\"linear\", optimizer=optimizer, num_warmup_steps=0, num_training_steps=num_training_steps\n",
    ")"
   ]
  },
  {
   "cell_type": "code",
   "execution_count": 267,
   "id": "4afcf358-5414-4559-b96b-091d26c27f64",
   "metadata": {
    "tags": []
   },
   "outputs": [
    {
     "data": {
      "text/plain": [
       "device(type='cuda')"
      ]
     },
     "execution_count": 267,
     "metadata": {},
     "output_type": "execute_result"
    }
   ],
   "source": [
    "import torch\n",
    "\n",
    "device = torch.device(\"cuda\") if torch.cuda.is_available() else torch.device(\"cpu\")\n",
    "model.to(device)\n",
    "device"
   ]
  },
  {
   "cell_type": "code",
   "execution_count": 268,
   "id": "7c02e197-8571-454a-9c9c-06abcdae8c69",
   "metadata": {
    "tags": []
   },
   "outputs": [
    {
     "data": {
      "application/vnd.jupyter.widget-view+json": {
       "model_id": "f0a450bc4f644709adc78571222269d3",
       "version_major": 2,
       "version_minor": 0
      },
      "text/plain": [
       "  0%|          | 0/3375 [00:00<?, ?it/s]"
      ]
     },
     "metadata": {},
     "output_type": "display_data"
    }
   ],
   "source": [
    "from tqdm.auto import tqdm\n",
    "\n",
    "progress_bar = tqdm(range(num_training_steps))\n",
    "\n",
    "model.train()\n",
    "for epoch in range(num_epochs):\n",
    "    for batch in train_dataloader_logs:\n",
    "        batch = {k: v.to(device) for k, v in batch.items()}\n",
    "        outputs = model(**batch)\n",
    "        loss = outputs.loss\n",
    "        loss.backward()\n",
    "\n",
    "        optimizer.step()\n",
    "        lr_scheduler.step()\n",
    "        optimizer.zero_grad()\n",
    "        progress_bar.update(1)"
   ]
  },
  {
   "cell_type": "code",
   "execution_count": 269,
   "id": "29bfe58c-076c-494c-98d1-1233a1feb395",
   "metadata": {
    "tags": []
   },
   "outputs": [
    {
     "name": "stdout",
     "output_type": "stream",
     "text": [
      "Requirement already satisfied: evaluate in /opt/conda/lib/python3.9/site-packages (0.4.1)\n",
      "Requirement already satisfied: datasets>=2.0.0 in /opt/conda/lib/python3.9/site-packages (from evaluate) (2.14.5)\n",
      "Requirement already satisfied: numpy>=1.17 in /opt/conda/lib/python3.9/site-packages (from evaluate) (1.21.6)\n",
      "Requirement already satisfied: dill in /opt/conda/lib/python3.9/site-packages (from evaluate) (0.3.7)\n",
      "Requirement already satisfied: pandas in /opt/conda/lib/python3.9/site-packages (from evaluate) (1.5.3)\n",
      "Requirement already satisfied: requests>=2.19.0 in /opt/conda/lib/python3.9/site-packages (from evaluate) (2.31.0)\n",
      "Requirement already satisfied: tqdm>=4.62.1 in /opt/conda/lib/python3.9/site-packages (from evaluate) (4.65.0)\n",
      "Requirement already satisfied: xxhash in /opt/conda/lib/python3.9/site-packages (from evaluate) (3.3.0)\n",
      "Requirement already satisfied: multiprocess in /opt/conda/lib/python3.9/site-packages (from evaluate) (0.70.15)\n",
      "Requirement already satisfied: fsspec[http]>=2021.05.0 in /opt/conda/lib/python3.9/site-packages (from evaluate) (2023.6.0)\n",
      "Requirement already satisfied: huggingface-hub>=0.7.0 in /opt/conda/lib/python3.9/site-packages (from evaluate) (0.17.3)\n",
      "Requirement already satisfied: packaging in /opt/conda/lib/python3.9/site-packages (from evaluate) (21.3)\n",
      "Requirement already satisfied: responses<0.19 in /opt/conda/lib/python3.9/site-packages (from evaluate) (0.18.0)\n",
      "Requirement already satisfied: pyarrow>=8.0.0 in /opt/conda/lib/python3.9/site-packages (from datasets>=2.0.0->evaluate) (10.0.1)\n",
      "Requirement already satisfied: aiohttp in /opt/conda/lib/python3.9/site-packages (from datasets>=2.0.0->evaluate) (3.8.5)\n",
      "Requirement already satisfied: pyyaml>=5.1 in /opt/conda/lib/python3.9/site-packages (from datasets>=2.0.0->evaluate) (6.0)\n",
      "Requirement already satisfied: filelock in /opt/conda/lib/python3.9/site-packages (from huggingface-hub>=0.7.0->evaluate) (3.12.4)\n",
      "Requirement already satisfied: typing-extensions>=3.7.4.3 in /opt/conda/lib/python3.9/site-packages (from huggingface-hub>=0.7.0->evaluate) (4.4.0)\n",
      "Requirement already satisfied: pyparsing!=3.0.5,>=2.0.2 in /opt/conda/lib/python3.9/site-packages (from packaging->evaluate) (3.1.1)\n",
      "Requirement already satisfied: charset-normalizer<4,>=2 in /opt/conda/lib/python3.9/site-packages (from requests>=2.19.0->evaluate) (2.0.4)\n",
      "Requirement already satisfied: idna<4,>=2.5 in /opt/conda/lib/python3.9/site-packages (from requests>=2.19.0->evaluate) (3.4)\n",
      "Requirement already satisfied: urllib3<3,>=1.21.1 in /opt/conda/lib/python3.9/site-packages (from requests>=2.19.0->evaluate) (1.26.16)\n",
      "Requirement already satisfied: certifi>=2017.4.17 in /opt/conda/lib/python3.9/site-packages (from requests>=2.19.0->evaluate) (2023.7.22)\n",
      "Requirement already satisfied: python-dateutil>=2.8.1 in /opt/conda/lib/python3.9/site-packages (from pandas->evaluate) (2.8.2)\n",
      "Requirement already satisfied: pytz>=2020.1 in /opt/conda/lib/python3.9/site-packages (from pandas->evaluate) (2023.3.post1)\n",
      "Requirement already satisfied: attrs>=17.3.0 in /opt/conda/lib/python3.9/site-packages (from aiohttp->datasets>=2.0.0->evaluate) (23.1.0)\n",
      "Requirement already satisfied: multidict<7.0,>=4.5 in /opt/conda/lib/python3.9/site-packages (from aiohttp->datasets>=2.0.0->evaluate) (6.0.4)\n",
      "Requirement already satisfied: async-timeout<5.0,>=4.0.0a3 in /opt/conda/lib/python3.9/site-packages (from aiohttp->datasets>=2.0.0->evaluate) (4.0.3)\n",
      "Requirement already satisfied: yarl<2.0,>=1.0 in /opt/conda/lib/python3.9/site-packages (from aiohttp->datasets>=2.0.0->evaluate) (1.9.2)\n",
      "Requirement already satisfied: frozenlist>=1.1.1 in /opt/conda/lib/python3.9/site-packages (from aiohttp->datasets>=2.0.0->evaluate) (1.4.0)\n",
      "Requirement already satisfied: aiosignal>=1.1.2 in /opt/conda/lib/python3.9/site-packages (from aiohttp->datasets>=2.0.0->evaluate) (1.3.1)\n",
      "Requirement already satisfied: six>=1.5 in /opt/conda/lib/python3.9/site-packages (from python-dateutil>=2.8.1->pandas->evaluate) (1.16.0)\n",
      "\u001b[33mDEPRECATION: feast 0.20.2 has a non-standard dependency specifier PyYAML>=5.4.*. pip 23.3 will enforce this behaviour change. A possible replacement is to upgrade to a newer version of feast or contact the author to suggest that they release a version with a conforming dependency specifiers. Discussion can be found at https://github.com/pypa/pip/issues/12063\u001b[0m\u001b[33m\n",
      "\u001b[0m\u001b[33mDEPRECATION: feast 0.20.2 has a non-standard dependency specifier tenacity>=7.*. pip 23.3 will enforce this behaviour change. A possible replacement is to upgrade to a newer version of feast or contact the author to suggest that they release a version with a conforming dependency specifiers. Discussion can be found at https://github.com/pypa/pip/issues/12063\u001b[0m\u001b[33m\n",
      "\u001b[0m\u001b[33mDEPRECATION: feast 0.20.2 has a non-standard dependency specifier dask<2022.02.0,>=2021.*. pip 23.3 will enforce this behaviour change. A possible replacement is to upgrade to a newer version of feast or contact the author to suggest that they release a version with a conforming dependency specifiers. Discussion can be found at https://github.com/pypa/pip/issues/12063\u001b[0m\u001b[33m\n",
      "\u001b[0m"
     ]
    }
   ],
   "source": [
    "!pip install evaluate"
   ]
  },
  {
   "cell_type": "code",
   "execution_count": 270,
   "id": "879fd7c4-34d8-4edf-8d5e-131f3292d3e9",
   "metadata": {
    "tags": []
   },
   "outputs": [
    {
     "data": {
      "text/plain": [
       "{'accuracy': 1.0}"
      ]
     },
     "execution_count": 270,
     "metadata": {},
     "output_type": "execute_result"
    }
   ],
   "source": [
    "import evaluate\n",
    "\n",
    "metric = evaluate.load(\"accuracy\")\n",
    "model.eval()\n",
    "for batch in eval_dataloader_logs:\n",
    "    batch = {k: v.to(device) for k, v in batch.items()}\n",
    "    with torch.no_grad():\n",
    "        outputs = model(**batch)\n",
    "\n",
    "    logits = outputs.logits\n",
    "    predictions = torch.argmax(logits, dim=-1)\n",
    "    metric.add_batch(predictions=predictions, references=batch[\"labels\"])\n",
    "\n",
    "metric.compute()"
   ]
  },
  {
   "cell_type": "code",
   "execution_count": 271,
   "id": "6cbeec3b-64e4-489e-96d5-ed1b94f97ee7",
   "metadata": {
    "tags": []
   },
   "outputs": [
    {
     "data": {
      "text/plain": [
       "[{'label': 'LABEL_3', 'score': 0.9999047517776489}]"
      ]
     },
     "execution_count": 271,
     "metadata": {},
     "output_type": "execute_result"
    }
   ],
   "source": [
    "from transformers import pipeline\n",
    "\n",
    "model = model.to(device)\n",
    "device_num = 0 if torch.cuda.is_available() else -1\n",
    "classifier = pipeline('text-classification', model=model, tokenizer=tokenizer, device=device_num)\n",
    "classifier(df_train.text[10])"
   ]
  },
  {
   "cell_type": "markdown",
   "id": "1a719fbe-8250-4902-b022-7fa2d0513541",
   "metadata": {},
   "source": [
    "## TEST: Now find an error bundle which showed no errors and see if we can find something..."
   ]
  },
  {
   "cell_type": "code",
   "execution_count": 75,
   "id": "3d1db51b-2755-4db8-a14d-8fd9b8cea09d",
   "metadata": {
    "tags": []
   },
   "outputs": [],
   "source": [
    "error_execution_ids = resource_usage_df.run_id[resource_usage_df[\"status\"].isin([\"Failed\", \"Error\"])]"
   ]
  },
  {
   "cell_type": "code",
   "execution_count": 79,
   "id": "6b6a3604-6a93-446c-9625-53df168bd961",
   "metadata": {
    "tags": []
   },
   "outputs": [],
   "source": [
    "project_name = 'allstate_log_github'\n",
    "data_directory = '/mnt/data/' + project_name + '/'\n",
    "\n",
    "errors_df = pd.read_csv(data_directory+'error_analysis_all_time.csv')"
   ]
  },
  {
   "cell_type": "code",
   "execution_count": 91,
   "id": "9980de19-68bc-4fa4-94c2-53fc5c5f76f6",
   "metadata": {
    "tags": []
   },
   "outputs": [],
   "source": [
    "import re\n",
    "\n",
    "caught_errors = [re.sub(r\"\\/|\\.zip\", \"\", error) for error in errors_df.execution_id]"
   ]
  },
  {
   "cell_type": "code",
   "execution_count": 98,
   "id": "25b4b20f-65b9-48d1-8bd1-de01c66eb4a2",
   "metadata": {
    "tags": []
   },
   "outputs": [],
   "source": [
    "missed_errors = list(set(error_execution_ids) - set(caught_errors))"
   ]
  },
  {
   "cell_type": "code",
   "execution_count": 160,
   "id": "75ea1d29-1b85-4548-9b27-9ad91ac3bf55",
   "metadata": {
    "tags": []
   },
   "outputs": [
    {
     "data": {
      "text/plain": [
       "'63637adcc037d60af817bd83'"
      ]
     },
     "execution_count": 160,
     "metadata": {},
     "output_type": "execute_result"
    }
   ],
   "source": [
    "missed_errors[1002]"
   ]
  },
  {
   "cell_type": "code",
   "execution_count": 172,
   "id": "1b3652ac-05f4-4d7e-a814-801672afa95d",
   "metadata": {
    "tags": []
   },
   "outputs": [],
   "source": [
    "def find_abs_path(execution_id, support_bundles_directory=support_bundles_directory):\n",
    "    all_paths = os.listdir(support_bundles_directory + execution_id)\n",
    "    all_paths = [os.path.abspath(support_bundles_directory + execution_id + '/'+f) for f in all_paths]\n",
    "    return(all_paths)\n",
    "\n",
    "target_paths = find_abs_path(missed_errors[1060])"
   ]
  },
  {
   "cell_type": "code",
   "execution_count": 173,
   "id": "dfd4055d-781e-433f-80f5-84c7125fbcf8",
   "metadata": {
    "tags": []
   },
   "outputs": [],
   "source": [
    "def open_all_files(path):\n",
    "    with open(path, 'r') as f:\n",
    "        raw_content = f.readlines()\n",
    "\n",
    "    raw_content = [line.strip() for line in raw_content]\n",
    "    \n",
    "    return(raw_content)\n",
    "\n",
    "all_content = [open_all_files(path) for path in target_paths]\n",
    "all_content = [line for file in all_content for line in file]"
   ]
  },
  {
   "cell_type": "code",
   "execution_count": null,
   "id": "accf544c-ff8f-49f1-aa65-687f6d57329d",
   "metadata": {
    "tags": []
   },
   "outputs": [
    {
     "name": "stdout",
     "output_type": "stream",
     "text": [
      "Execution Id: 64f89884fdd3bd2b95f4b6c2\n",
      "Indices with Caught Errors: [13, 14, 15, 16, 17, 123, 124, 125, 126, 127]\n",
      "\n",
      "\n",
      "\n",
      "Execution Id: 64fb3720fdd3bd2b95f4b96c\n",
      "Indices with Caught Errors: []\n",
      "\n",
      "\n",
      "\n",
      "Execution Id: 6520336052a97e2b2fcedfef\n",
      "Indices with Caught Errors: [285, 286, 287, 288, 289, 290, 292, 1195, 1196, 1197, 1198, 1199, 1200, 1201, 1213]\n",
      "\n",
      "\n",
      "\n",
      "Execution Id: 64e8e9f506e74d383bbb2c07\n",
      "Indices with Caught Errors: []\n",
      "\n",
      "\n",
      "\n",
      "Execution Id: 64ffbd00114da509367f9f47\n",
      "Indices with Caught Errors: [11, 12, 13, 14, 15, 17, 22, 50, 185, 186, 187, 188, 189, 190, 191, 192]\n",
      "\n",
      "\n",
      "\n",
      "Execution Id: 648b44bb73f8e83c8a39495d\n",
      "Indices with Caught Errors: []\n",
      "\n",
      "\n",
      "\n",
      "Execution Id: 64deac244684282e776ee170\n",
      "Indices with Caught Errors: [12, 13, 14, 15, 16, 17, 18, 19, 21, 685, 686, 687, 913, 914, 915, 916, 917, 918]\n",
      "\n",
      "\n",
      "\n",
      "Execution Id: 64bad41982ef215e98abbc3f\n",
      "Indices with Caught Errors: []\n",
      "\n",
      "\n",
      "\n",
      "Execution Id: 64b11d8b9e786b0078e8a857\n",
      "Indices with Caught Errors: [608, 609, 610, 611, 612, 613, 614, 615, 616, 617, 868, 869, 870, 912, 913, 1561]\n",
      "\n",
      "\n",
      "\n",
      "Execution Id: 62f15cec4dd2ae3f7d4535ad\n",
      "Indices with Caught Errors: []\n",
      "\n",
      "\n",
      "\n",
      "Execution Id: 644cc405a7d82e39bb555d67\n",
      "Indices with Caught Errors: []\n",
      "\n",
      "\n",
      "\n",
      "Execution Id: 64c186672c10c7062e793903\n",
      "Indices with Caught Errors: []\n",
      "\n",
      "\n",
      "\n",
      "Execution Id: 64dd256b4684282e776eb9ba\n",
      "Indices with Caught Errors: []\n",
      "\n",
      "\n",
      "\n",
      "Execution Id: 63752d6a7ab1201f3d86a8d8\n",
      "Indices with Caught Errors: []\n",
      "\n",
      "\n",
      "\n",
      "Execution Id: 638687512c921e122d812a2d\n",
      "Indices with Caught Errors: []\n",
      "\n",
      "\n",
      "\n",
      "Execution Id: 65145f908cf76c1bff5e1a35\n",
      "Indices with Caught Errors: []\n",
      "\n",
      "\n",
      "\n",
      "Execution Id: 6358f710c037d60af815f07b\n",
      "Indices with Caught Errors: []\n",
      "\n",
      "\n",
      "\n",
      "Execution Id: 636db939b0c5c368a4839292\n",
      "Indices with Caught Errors: []\n",
      "\n",
      "\n",
      "\n",
      "Execution Id: 64e385134684282e776f1ac0\n",
      "Indices with Caught Errors: []\n",
      "\n",
      "\n",
      "\n",
      "Execution Id: 64ddb1c74684282e776ecb2b\n",
      "Indices with Caught Errors: [12, 13, 14, 15, 16, 17, 122, 123, 124, 125, 126, 127]\n",
      "\n",
      "\n",
      "\n",
      "Execution Id: 649e311ad312f91a3e519a0b\n",
      "Indices with Caught Errors: []\n",
      "\n",
      "\n",
      "\n",
      "Execution Id: 62f52f234dd2ae3f7d454c32\n",
      "Indices with Caught Errors: []\n",
      "\n",
      "\n",
      "\n",
      "Execution Id: 650f19908cf76c1bff5c6c2b\n",
      "Indices with Caught Errors: []\n",
      "\n",
      "\n",
      "\n",
      "Execution Id: 63638310c037d60af817bf99\n",
      "Indices with Caught Errors: []\n",
      "\n",
      "\n",
      "\n",
      "Execution Id: 64dd3a834684282e776ec821\n",
      "Indices with Caught Errors: [5, 6, 7, 8, 9, 10, 11, 12, 13, 14, 26, 27, 28, 29, 30, 31, 32, 33, 34, 35]\n",
      "\n",
      "\n",
      "\n",
      "Execution Id: 633dd94bcbb8c95f99ad735c\n",
      "Indices with Caught Errors: []\n",
      "\n",
      "\n",
      "\n",
      "Execution Id: 628f916608e69811206bf492\n",
      "Indices with Caught Errors: []\n",
      "\n",
      "\n",
      "\n",
      "Execution Id: 640ac760c4253f28887dc842\n",
      "Indices with Caught Errors: []\n",
      "\n",
      "\n",
      "\n",
      "Execution Id: 650ea9108cf76c1bff5c33d2\n",
      "Indices with Caught Errors: []\n",
      "\n",
      "\n",
      "\n",
      "Execution Id: 625dd533ef41a03ed615d11d\n",
      "Indices with Caught Errors: []\n",
      "\n",
      "\n",
      "\n",
      "Execution Id: 648314401612c865f068f14b\n",
      "Indices with Caught Errors: []\n",
      "\n",
      "\n",
      "\n",
      "Execution Id: 64c16f6e04b85a6e26ffb1e0\n",
      "Indices with Caught Errors: [23, 24, 25, 26, 27, 28, 29, 39, 40, 41, 42, 43, 44, 45, 46, 47, 48, 70, 71, 72, 73, 74, 75, 76, 86, 87, 88, 89, 90, 91, 92, 93, 94, 95, 96, 97, 98, 99, 797, 798, 799, 800, 801, 802, 803, 837, 838, 839, 840, 841, 842, 843, 853, 854, 855, 856, 857, 858, 859, 860, 861, 862, 863, 864, 865, 866, 1103, 1104, 1105, 1106, 1107, 1108, 1109, 1110, 1111, 1112]\n",
      "\n",
      "\n",
      "\n",
      "Execution Id: 64fb4c8f37b72c0903058165\n",
      "Indices with Caught Errors: []\n",
      "\n",
      "\n",
      "\n",
      "Execution Id: 637d16f123962f6670314225\n",
      "Indices with Caught Errors: []\n",
      "\n",
      "\n",
      "\n",
      "Execution Id: 64a7fe4026c66d5722313e3f\n",
      "Indices with Caught Errors: []\n",
      "\n",
      "\n",
      "\n",
      "Execution Id: 6363b1f0c037d60af817cbc4\n",
      "Indices with Caught Errors: []\n",
      "\n",
      "\n",
      "\n",
      "Execution Id: 64fa1fed37b72c0903058085\n",
      "Indices with Caught Errors: []\n",
      "\n",
      "\n",
      "\n",
      "Execution Id: 63633360c037d60af817aba8\n",
      "Indices with Caught Errors: []\n",
      "\n",
      "\n",
      "\n",
      "Execution Id: 62f15ced5cf39a77e8162cb1\n",
      "Indices with Caught Errors: []\n",
      "\n",
      "\n",
      "\n",
      "Execution Id: 64adee459e786b0078e892cd\n",
      "Indices with Caught Errors: [14, 15, 16, 17, 18, 19, 20, 21, 22, 23, 24, 25, 26, 248, 249, 250, 251, 252, 253, 254, 682, 683, 970, 971, 972, 973, 974]\n",
      "\n",
      "\n",
      "\n",
      "Execution Id: 64a6f89bd312f91a3e51b6e4\n",
      "Indices with Caught Errors: [12, 13, 14, 15, 16, 17, 18, 19, 20, 21, 933, 934, 935, 936, 937, 938, 939, 940, 941, 942]\n",
      "\n",
      "\n",
      "\n",
      "Execution Id: 6427728c09e7863a151c9c9b\n",
      "Indices with Caught Errors: []\n",
      "\n",
      "\n",
      "\n",
      "Execution Id: 62c7142e2f6f27046aa8a4ef\n",
      "Indices with Caught Errors: []\n",
      "\n",
      "\n",
      "\n",
      "Execution Id: 632e084a0ab9972cc578834d\n",
      "Indices with Caught Errors: []\n",
      "\n",
      "\n",
      "\n",
      "Execution Id: 6356a931206da26c42e63533\n",
      "Indices with Caught Errors: []\n",
      "\n",
      "\n",
      "\n",
      "Execution Id 628bf60d353f04723052baa5 does not have associated bundle files. This could be due to errors in the ways they were downloaded via API\n",
      "Execution Id: 628bf60d353f04723052baa5\n",
      "Indices with Caught Errors: []\n",
      "\n",
      "\n",
      "\n",
      "Execution Id: 64b006f09e786b0078e8a09a\n",
      "Indices with Caught Errors: []\n",
      "\n",
      "\n",
      "\n",
      "Execution Id: 64f7938837b72c0903057c30\n",
      "Indices with Caught Errors: [13, 14, 15, 16, 17, 347, 348, 349, 350, 351]\n",
      "\n",
      "\n",
      "\n",
      "Execution Id: 649721108d044c02089107e8\n",
      "Indices with Caught Errors: []\n",
      "\n",
      "\n",
      "\n",
      "Execution Id: 649b6093d312f91a3e5195f0\n",
      "Indices with Caught Errors: []\n",
      "\n",
      "\n",
      "\n",
      "Execution Id: 633f4349a2b9330588443a64\n",
      "Indices with Caught Errors: []\n",
      "\n",
      "\n",
      "\n",
      "Execution Id: 64fb366837b72c090305812c\n",
      "Indices with Caught Errors: []\n",
      "\n",
      "\n",
      "\n",
      "Execution Id: 64d50b6f4684282e776e6c44\n",
      "Indices with Caught Errors: []\n",
      "\n",
      "\n",
      "\n",
      "Execution Id: 65088d3208cf25539b2a6087\n",
      "Indices with Caught Errors: []\n",
      "\n",
      "\n",
      "\n",
      "Execution Id: 62c4f12741be290011c3324c\n",
      "Indices with Caught Errors: []\n",
      "\n",
      "\n",
      "\n",
      "Execution Id: 6356b364c533470d0466f52a\n",
      "Indices with Caught Errors: []\n",
      "\n",
      "\n",
      "\n",
      "Execution Id: 64de42a61bf69a02f5d1be29\n",
      "Indices with Caught Errors: [6, 7, 8, 9, 10, 11, 12, 13, 14, 25, 26, 27, 28, 29, 30, 31, 32, 34]\n",
      "\n",
      "\n",
      "\n",
      "Execution Id: 6334b328cbb8c95f99ad190c\n",
      "Indices with Caught Errors: []\n",
      "\n",
      "\n",
      "\n",
      "Execution Id: 63547c57c533470d0466f179\n",
      "Indices with Caught Errors: []\n",
      "\n",
      "\n",
      "\n",
      "Execution Id 636955df9cc68d41facd3dce does not have associated bundle files. This could be due to errors in the ways they were downloaded via API\n",
      "Execution Id: 636955df9cc68d41facd3dce\n",
      "Indices with Caught Errors: []\n",
      "\n",
      "\n",
      "\n",
      "Execution Id: 62f5237b5cf39a77e816410c\n",
      "Indices with Caught Errors: []\n",
      "\n",
      "\n",
      "\n",
      "Execution Id: 633d8fd0a2b933058843ff60\n",
      "Indices with Caught Errors: []\n",
      "\n",
      "\n",
      "\n",
      "Execution Id: 64d9ed105343d832568a91d6\n",
      "Indices with Caught Errors: []\n",
      "\n",
      "\n",
      "\n",
      "Execution Id: 64d6374a4684282e776e79a9\n",
      "Indices with Caught Errors: []\n",
      "\n",
      "\n",
      "\n",
      "Execution Id: 635477adc533470d0466f174\n",
      "Indices with Caught Errors: []\n",
      "\n",
      "\n",
      "\n",
      "Execution Id: 64f07394fdd3bd2b95f4ae13\n",
      "Indices with Caught Errors: []\n",
      "\n",
      "\n",
      "\n",
      "Execution Id: 64d63d7e1bf69a02f5d168e3\n",
      "Indices with Caught Errors: []\n",
      "\n",
      "\n",
      "\n",
      "Execution Id: 64a5b5ccfa3b973aa1bf6829\n",
      "Indices with Caught Errors: [6, 7, 14, 15, 16, 17, 18, 19, 20, 21, 22, 23, 24, 25, 26, 256, 257, 258, 259, 260, 1489, 1490, 1491, 1492, 1493, 1494, 1495, 1496, 1497, 1498, 1499, 1500, 1501, 1559, 1560, 1561]\n",
      "\n",
      "\n",
      "\n",
      "Execution Id: 6508e2f508cf25539b2a612c\n",
      "Indices with Caught Errors: []\n",
      "\n",
      "\n",
      "\n",
      "Execution Id: 6335a4b4cbb8c95f99ad1c1d\n",
      "Indices with Caught Errors: []\n",
      "\n",
      "\n",
      "\n",
      "Execution Id: 64fd8590b2bce05509d537f0\n",
      "Indices with Caught Errors: []\n",
      "\n",
      "\n",
      "\n",
      "Execution Id: 64c16c2482ef215e98abe0b4\n",
      "Indices with Caught Errors: [595, 596, 597, 598, 599, 600, 601, 602, 603, 605, 606, 607, 608, 609, 805, 806, 807, 808, 809, 810, 811, 812, 813, 814, 815, 816, 817, 818]\n",
      "\n",
      "\n",
      "\n",
      "Execution Id: 63a0b9b25e53ac7894cde978\n",
      "Indices with Caught Errors: []\n",
      "\n",
      "\n",
      "\n",
      "Execution Id 64d3b9a45343d832568788da does not have associated bundle files. This could be due to errors in the ways they were downloaded via API\n",
      "Execution Id: 64d3b9a45343d832568788da\n",
      "Indices with Caught Errors: []\n",
      "\n",
      "\n",
      "\n",
      "Execution Id: 64dfa8581bf69a02f5d1e4c6\n",
      "Indices with Caught Errors: [11, 12, 13, 14, 15, 16, 17, 18, 19, 107, 108, 109, 110, 111, 112, 113, 114, 115]\n",
      "\n",
      "\n",
      "\n",
      "Execution Id: 6372bc93b0c5c368a4839e1a\n",
      "Indices with Caught Errors: []\n",
      "\n",
      "\n",
      "\n",
      "Execution Id: 64e63b104b937e1af09a314a\n",
      "Indices with Caught Errors: []\n",
      "\n",
      "\n",
      "\n",
      "Execution Id: 652d437f9a52bf4b7afe24c0\n",
      "Indices with Caught Errors: [58, 59, 3577, 3607]\n",
      "\n",
      "\n",
      "\n",
      "Execution Id: 62ead1384dd2ae3f7d452a19\n",
      "Indices with Caught Errors: []\n",
      "\n",
      "\n",
      "\n",
      "Execution Id: 64a7fd91d190cd54dd42210e\n",
      "Indices with Caught Errors: [9, 10, 11, 12, 13, 14, 15, 16, 17, 18, 19, 20, 21, 37, 821, 1030, 1031, 1032, 1033, 1034, 1035, 1036, 1037, 1038, 1039, 1040, 1041, 1042]\n",
      "\n",
      "\n",
      "\n",
      "Execution Id: 64658e21a7d82e39bb558539\n",
      "Indices with Caught Errors: []\n",
      "\n",
      "\n",
      "\n",
      "Execution Id: 64dd00905343d832568c4c9d\n",
      "Indices with Caught Errors: []\n",
      "\n",
      "\n",
      "\n",
      "Execution Id: 62a17f29df869551f625393c\n",
      "Indices with Caught Errors: []\n",
      "\n",
      "\n",
      "\n",
      "Execution Id: 62bb39cf41be290011c2db8f\n",
      "Indices with Caught Errors: []\n",
      "\n",
      "\n",
      "\n",
      "Execution Id: 633b0df1a2b933058843e9fc\n",
      "Indices with Caught Errors: []\n",
      "\n",
      "\n",
      "\n",
      "Execution Id 64fde9a4b2bce05509d580dc does not have associated bundle files. This could be due to errors in the ways they were downloaded via API\n",
      "Execution Id: 64fde9a4b2bce05509d580dc\n",
      "Indices with Caught Errors: []\n",
      "\n",
      "\n",
      "\n",
      "Execution Id: 64affa71d190cd54dd423584\n",
      "Indices with Caught Errors: [9, 10, 11, 12, 13, 14, 15, 16, 17, 18, 19, 20, 21, 124, 125, 126, 127, 128, 129, 130, 131, 132, 133, 134, 135, 136]\n",
      "\n",
      "\n",
      "\n",
      "Execution Id: 63485156c533470d0466a250\n",
      "Indices with Caught Errors: []\n",
      "\n",
      "\n",
      "\n",
      "Execution Id: 650e08de08cf25539b2a826c\n",
      "Indices with Caught Errors: [1197, 1199, 1200, 1851, 1853, 1854, 1855, 1856, 1900, 1902, 1903]\n",
      "\n",
      "\n",
      "\n",
      "Execution Id: 63630a5cc037d60af817a15f\n",
      "Indices with Caught Errors: []\n",
      "\n",
      "\n",
      "\n",
      "Execution Id: 62f15cee5cf39a77e8162cbd\n",
      "Indices with Caught Errors: []\n",
      "\n",
      "\n",
      "\n",
      "Execution Id: 64b50b6e04b85a6e26ff640b\n",
      "Indices with Caught Errors: [13, 14, 15, 16, 17, 18, 19, 20, 21, 625, 626, 627, 628, 629, 630, 631, 632, 633]\n",
      "\n",
      "\n",
      "\n",
      "Execution Id: 64ddb1ab1bf69a02f5d1b933\n",
      "Indices with Caught Errors: [10, 11, 12, 13, 14, 15, 117, 118, 119, 120, 121, 122]\n",
      "\n",
      "\n",
      "\n",
      "Execution Id 64fc9824b2bce05509d489b0 does not have associated bundle files. This could be due to errors in the ways they were downloaded via API\n",
      "Execution Id: 64fc9824b2bce05509d489b0\n",
      "Indices with Caught Errors: []\n",
      "\n",
      "\n",
      "\n",
      "Execution Id: 64b138c09442db7d34d0ed5c\n",
      "Indices with Caught Errors: []\n",
      "\n",
      "\n",
      "\n",
      "Execution Id: 633b418dcbb8c95f99ad4847\n",
      "Indices with Caught Errors: []\n",
      "\n",
      "\n",
      "\n",
      "Execution Id: 64cbca314684282e776e4595\n",
      "Indices with Caught Errors: []\n",
      "\n",
      "\n",
      "\n",
      "Execution Id: 64dd34a41bf69a02f5d1b3e3\n",
      "Indices with Caught Errors: [816, 817, 818, 819, 820, 821, 822, 823, 824, 1357, 1358, 1359, 1360, 1361, 1362, 1363, 1364, 1365]\n",
      "\n",
      "\n",
      "\n",
      "Execution Id: 63b8397c2c7d9220cd6f23a4\n",
      "Indices with Caught Errors: []\n",
      "\n",
      "\n",
      "\n",
      "Execution Id: 63453090bc5ea838083ec9ab\n",
      "Indices with Caught Errors: []\n",
      "\n",
      "\n",
      "\n",
      "Execution Id: 650d81c08cf76c1bff5b883d\n",
      "Indices with Caught Errors: []\n",
      "\n",
      "\n",
      "\n",
      "Execution Id: 64edb2dbfdd3bd2b95f4a9bc\n",
      "Indices with Caught Errors: []\n",
      "\n",
      "\n",
      "\n",
      "Execution Id: 64b004bed190cd54dd42395d\n",
      "Indices with Caught Errors: []\n",
      "\n",
      "\n",
      "\n",
      "Execution Id: 64dd39eb4684282e776ec7f6\n",
      "Indices with Caught Errors: [13, 14, 15, 16, 17, 18, 19, 20, 990, 991, 992, 993, 994, 995, 996, 997]\n",
      "\n",
      "\n",
      "\n",
      "Execution Id: 64d699071bf69a02f5d17cf2\n",
      "Indices with Caught Errors: []\n",
      "\n",
      "\n",
      "\n",
      "Execution Id 64cfc5245343d8325685b998 does not have associated bundle files. This could be due to errors in the ways they were downloaded via API\n",
      "Execution Id: 64cfc5245343d8325685b998\n",
      "Indices with Caught Errors: []\n",
      "\n",
      "\n",
      "\n",
      "Execution Id: 6375886af3511e22f183f97b\n",
      "Indices with Caught Errors: []\n",
      "\n",
      "\n",
      "\n",
      "Execution Id: 649b15908d044c020892a32c\n",
      "Indices with Caught Errors: []\n",
      "\n",
      "\n",
      "\n",
      "Execution Id: 64c2692a2c10c7062e793c3c\n",
      "Indices with Caught Errors: []\n",
      "\n",
      "\n",
      "\n",
      "Execution Id: 64c18f292fb5f54d4d406616\n",
      "Indices with Caught Errors: []\n",
      "\n",
      "\n",
      "\n",
      "Execution Id: 6310fab450db7d7cb0a6ea25\n",
      "Indices with Caught Errors: [46, 53, 62, 63, 106, 115, 116, 193, 200, 209, 210, 253, 262, 263, 340, 347, 356, 357, 400, 409, 410, 487, 494, 503, 504, 547, 556, 557, 634, 641, 650, 651, 694, 703, 704, 781, 788, 797, 798, 841, 850, 851, 928, 935, 944, 945, 988, 997, 998, 1075, 1082, 1091, 1092, 1135, 1144, 1145, 1222, 1229, 1238, 1239, 1282, 1291, 1292, 1369, 1376, 1385, 1386, 1429, 1438, 1439, 1516, 1523, 1532, 1533, 1576, 1585, 1586, 1663, 1670, 1679, 1680, 1723, 1732, 1733, 1810, 1817, 1826, 1827, 1870, 1879, 1880, 1957, 1964, 1973, 1974, 2017, 2026, 2027, 2104, 2111, 2120, 2121, 2164, 2173, 2174, 2251, 2258, 2267, 2268, 2311, 2320, 2321, 2398, 2405, 2414, 2415, 2458, 2467, 2468, 2545, 2552, 2561, 2562, 2605, 2614, 2615, 2692, 2699, 2708, 2709, 2752, 2761, 2762, 2839, 2846, 2855, 2856, 2899, 2908, 2909, 2986, 2993, 3002, 3003, 3046, 3055, 3056, 3133, 3140, 3149, 3150, 3193, 3202, 3203, 3280, 3287, 3296, 3297, 3340, 3349, 3350, 3427, 3434, 3443, 3444, 3487, 3496, 3497, 3720, 3727, 3736, 3737, 3780, 3789, 3790, 3867, 3874, 3883, 3884, 3927, 3936, 3937, 4014, 4021, 4030, 4031, 4074, 4083, 4084, 4161, 4168, 4177, 4178, 4221, 4230, 4231, 4308, 4315, 4324, 4325, 4368, 4377, 4378, 4455, 4462, 4471, 4472, 4515, 4524, 4525, 4602, 4609, 4618, 4619, 4662, 4671, 4672, 4749, 4756, 4765, 4766, 4809, 4818, 4819, 4896, 4903, 4912, 4913, 4956, 4965, 4966, 5043, 5050, 5059, 5060, 5103, 5112, 5113, 5190, 5197, 5206, 5207, 5250, 5259, 5260, 5337, 5344, 5353, 5354, 5397, 5406, 5407, 5484, 5491, 5500, 5501, 5544, 5553, 5554, 5631, 5638, 5647, 5648, 5691, 5700, 5701, 5778, 5785, 5794, 5795, 5838, 5847, 5848, 5925, 5932, 5941, 5942, 5985, 5994, 5995, 6072, 6079, 6088, 6089, 6132, 6141, 6142, 6219, 6226, 6235, 6236, 6279, 6288, 6289, 6366, 6373, 6382, 6383, 6426, 6435, 6436, 6513, 6520, 6529, 6530, 6573, 6582, 6583, 6660, 6667, 6676, 6677, 6720, 6729, 6730, 6807, 6814, 6823, 6824, 6867, 6876, 6877, 6954, 6961, 6970, 6971, 7014, 7023, 7024, 7101, 7108, 7117, 7118, 7161, 7170, 7171, 7248, 7255, 7264, 7265, 7308, 7317, 7318, 7395, 7402, 7411, 7412, 7455, 7464, 7465, 7542, 7549, 7558, 7559, 7602, 7611, 7612, 7689, 7696, 7705, 7706, 7749, 7758, 7759, 7931, 7938, 7947, 7948, 7991, 8000, 8001, 8078, 8085, 8094, 8095, 8138, 8147, 8148, 8225, 8232, 8241, 8242, 8285, 8294, 8295, 8372, 8379, 8388, 8389, 8432, 8441, 8442, 8519, 8526, 8535, 8536, 8579, 8588, 8589, 8666, 8673, 8682, 8683, 8726, 8735, 8736, 8813, 8820, 8829, 8830, 8873, 8882, 8883, 8960, 8967, 8976, 8977, 9020, 9029, 9030, 9107, 9114, 9123, 9124, 9167, 9176, 9177, 9254, 9261, 9270, 9271, 9314, 9323, 9324, 9401, 9408, 9417, 9418, 9461, 9470, 9471, 9548, 9555, 9564, 9565, 9608, 9617, 9618, 9695, 9702, 9711, 9712, 9755, 9764, 9765, 9842, 9849, 9858, 9859, 9902, 9911, 9912, 9989, 9996, 10005, 10006, 10049, 10058, 10059, 10136, 10143, 10152, 10153, 10196, 10205, 10206, 10283, 10290, 10299, 10300, 10343, 10352, 10353, 10430, 10437, 10446, 10447, 10490, 10499, 10500, 10577, 10584, 10593, 10594, 10637, 10646, 10647, 10724, 10731, 10740, 10741, 10784, 10793, 10794, 10871, 10878, 10887, 10888, 10931, 10940, 10941, 11018, 11025, 11034, 11035, 11078, 11087, 11088, 11165, 11172, 11181, 11182, 11225, 11234, 11235, 11312, 11319, 11328, 11329, 11372, 11381, 11382, 11459, 11466, 11475, 11476, 11519, 11528, 11529, 11606, 11613, 11622, 11623, 11666, 11675, 11676, 11753, 11760, 11769, 11770, 11813, 11822, 11823, 11900, 11907, 11916, 11917, 11960, 11969, 11970, 12329, 12336, 12345, 12346, 12389, 12398, 12399, 12476, 12483, 12492, 12493, 12536, 12545, 12546, 12623, 12630, 12639, 12640, 12683, 12692, 12693, 12770, 12777, 12786, 12787, 12830, 12839, 12840, 12917, 12924, 12933, 12934, 12977, 12986, 12987, 13064, 13071, 13080, 13081, 13124, 13133, 13134, 13211, 13218, 13227, 13228, 13271, 13280, 13281, 13358, 13365, 13374, 13375, 13418, 13427, 13428, 13505, 13512, 13521, 13522, 13565, 13574, 13575, 13652, 13659, 13668, 13669, 13712, 13721, 13722, 13799, 13806, 13815, 13816, 13859, 13868, 13869, 13946, 13953, 13962, 13963, 14006, 14015, 14016, 14093, 14100, 14109, 14110, 14153, 14162, 14163, 14240, 14247, 14256, 14257, 14300, 14309, 14310, 14387, 14394, 14403, 14404, 14447, 14456, 14457, 14534, 14541, 14550, 14551, 14594, 14603, 14604, 14681, 14688, 14697, 14698, 14741, 14750, 14751, 14828, 14835, 14844, 14845, 14888, 14897, 14898, 14975, 14982, 14991, 14992, 15035, 15044, 15045, 15122, 15129, 15138, 15139, 15182, 15191, 15192, 15269, 15276, 15285, 15286, 15329, 15338, 15339, 15416, 15423, 15432, 15433, 15476, 15485, 15486, 15563, 15570, 15579, 15580, 15623, 15632, 15633, 15710, 15717, 15726, 15727, 15770, 15779, 15780, 15857, 15864, 15873, 15874, 15917, 15926, 15927, 16004, 16011, 16020, 16021, 16064, 16073, 16074, 16151, 16158, 16167, 16168, 16211, 16220, 16221, 16298, 16305, 16314, 16315, 16358, 16367, 16368]\n",
      "\n",
      "\n",
      "\n",
      "Execution Id: 627ede406d4fd0362f8ba187\n",
      "Indices with Caught Errors: []\n",
      "\n",
      "\n",
      "\n",
      "Execution Id 64f35da47a881a3646305e12 does not have associated bundle files. This could be due to errors in the ways they were downloaded via API\n",
      "Execution Id: 64f35da47a881a3646305e12\n",
      "Indices with Caught Errors: []\n",
      "\n",
      "\n",
      "\n",
      "Execution Id: 64c896ba4684282e776e2790\n",
      "Indices with Caught Errors: [9, 10, 11, 12, 13, 14, 15, 16, 17, 18, 19, 20, 21, 344, 345, 346, 347, 348, 349, 350, 351, 352, 353, 354, 355, 356]\n",
      "\n",
      "\n",
      "\n",
      "Execution Id: 64dd5f4e4684282e776eca12\n",
      "Indices with Caught Errors: [15, 16, 17, 18, 19, 20, 122, 123, 124, 125, 126, 127]\n",
      "\n",
      "\n",
      "\n",
      "Execution Id: 63f91740c4253f28887c0532\n",
      "Indices with Caught Errors: []\n",
      "\n",
      "\n",
      "\n",
      "Execution Id: 64baa08782ef215e98abbbb1\n",
      "Indices with Caught Errors: [9, 10, 11, 12, 13, 14, 15, 16, 17, 1100, 1101, 1102, 1103, 1104, 1105, 1106, 1107, 1108]\n",
      "\n",
      "\n",
      "\n",
      "Execution Id: 633f2134a2b93305884431f0\n",
      "Indices with Caught Errors: []\n",
      "\n",
      "\n",
      "\n",
      "Execution Id 64a82f8c9e786b0078e887c4 does not have associated bundle files. This could be due to errors in the ways they were downloaded via API\n",
      "Execution Id: 64a82f8c9e786b0078e887c4\n",
      "Indices with Caught Errors: []\n",
      "\n",
      "\n",
      "\n",
      "Execution Id: 64ce80105343d83256851329\n",
      "Indices with Caught Errors: []\n",
      "\n",
      "\n",
      "\n",
      "Execution Id: 635abe29206da26c42e65a12\n",
      "Indices with Caught Errors: []\n",
      "\n",
      "\n",
      "\n",
      "Execution Id: 64c2bb132c10c7062e793d3b\n",
      "Indices with Caught Errors: []\n",
      "\n",
      "\n",
      "\n",
      "Execution Id: 650099108cf76c1bff53053a\n",
      "Indices with Caught Errors: []\n",
      "\n",
      "\n",
      "\n",
      "Execution Id: 64ccd1691bf69a02f5d149d7\n",
      "Indices with Caught Errors: []\n",
      "\n",
      "\n",
      "\n",
      "Execution Id: 64fb33a5fdd3bd2b95f4b93b\n",
      "Indices with Caught Errors: []\n",
      "\n",
      "\n",
      "\n",
      "Execution Id: 6363348cc037d60af817ac49\n",
      "Indices with Caught Errors: []\n",
      "\n",
      "\n",
      "\n",
      "Execution Id: 644ab309a7d82e39bb555409\n",
      "Indices with Caught Errors: []\n",
      "\n",
      "\n",
      "\n",
      "Execution Id: 62f15ced5cf39a77e8162cad\n",
      "Indices with Caught Errors: []\n",
      "\n",
      "\n",
      "\n",
      "Execution Id: 64a6a597d312f91a3e51a0cd\n",
      "Indices with Caught Errors: [9, 10, 11, 12, 13, 14, 15, 16, 17, 18, 19, 20, 21, 280, 281, 282, 283, 284, 285, 286, 287, 288, 289, 290, 291, 292]\n",
      "\n",
      "\n",
      "\n",
      "Execution Id: 6508e6af114da509367fb94c\n",
      "Indices with Caught Errors: []\n",
      "\n",
      "\n",
      "\n",
      "Execution Id: 64b00e4dd190cd54dd423c6f\n",
      "Indices with Caught Errors: []\n",
      "\n",
      "\n",
      "\n",
      "Execution Id 651847a48c6fc322615a114c does not have associated bundle files. This could be due to errors in the ways they were downloaded via API\n",
      "Execution Id: 651847a48c6fc322615a114c\n",
      "Indices with Caught Errors: []\n",
      "\n",
      "\n",
      "\n",
      "Execution Id: 64d58a974684282e776e7370\n",
      "Indices with Caught Errors: [7, 8, 9, 10, 11, 12, 13, 14, 15, 16, 26, 27, 28, 29, 31, 32, 88, 254, 279, 280]\n",
      "\n",
      "\n",
      "\n",
      "Execution Id: 652d97e4b9c768436d7cba3f\n",
      "Indices with Caught Errors: [56, 57, 3172, 3202]\n",
      "\n",
      "\n",
      "\n",
      "Execution Id: 64fb3277fdd3bd2b95f4b931\n",
      "Indices with Caught Errors: []\n",
      "\n",
      "\n",
      "\n",
      "Execution Id: 64fb593ddc30451ed2a2e17e\n",
      "Indices with Caught Errors: []\n",
      "\n",
      "\n",
      "\n",
      "Execution Id: 62cc48092f6f27046aa8b67c\n",
      "Indices with Caught Errors: []\n",
      "\n",
      "\n",
      "\n",
      "Execution Id: 64e3870b4684282e776f1ae2\n",
      "Indices with Caught Errors: []\n",
      "\n",
      "\n",
      "\n",
      "Execution Id: 63b83be52c7d9220cd6f23a9\n",
      "Indices with Caught Errors: []\n",
      "\n",
      "\n",
      "\n",
      "Execution Id: 652d89d4b9c768436d7cb46a\n",
      "Indices with Caught Errors: [55, 2634]\n",
      "\n",
      "\n",
      "\n",
      "Execution Id: 64fb30fcfdd3bd2b95f4b928\n",
      "Indices with Caught Errors: []\n",
      "\n",
      "\n",
      "\n",
      "Execution Id: 64a82faed190cd54dd4221b8\n",
      "Indices with Caught Errors: []\n",
      "\n",
      "\n",
      "\n",
      "Execution Id: 650ab4908cf76c1bff59c874\n",
      "Indices with Caught Errors: []\n",
      "\n",
      "\n",
      "\n",
      "Execution Id: 648b472873f8e83c8a3949b1\n",
      "Indices with Caught Errors: []\n",
      "\n",
      "\n",
      "\n",
      "Execution Id: 648aada82d311553013bec12\n",
      "Indices with Caught Errors: [248, 249, 250, 251, 252, 253, 254, 255, 256, 257, 258, 259, 260, 1605, 1606, 1607, 1608, 1609, 1610, 1611, 1612, 1613, 1614, 1615, 1616, 1617]\n",
      "\n",
      "\n",
      "\n",
      "Execution Id: 6503265d114da509367fb020\n",
      "Indices with Caught Errors: []\n",
      "\n",
      "\n",
      "\n",
      "Execution Id: 62f15cee4dd2ae3f7d4535e1\n",
      "Indices with Caught Errors: []\n",
      "\n",
      "\n",
      "\n",
      "Execution Id: 6362fc4cc037d60af8179d2e\n",
      "Indices with Caught Errors: []\n",
      "\n",
      "\n",
      "\n",
      "Execution Id: 6351a7dec533470d0466ef89\n",
      "Indices with Caught Errors: []\n",
      "\n",
      "\n",
      "\n",
      "Execution Id: 64fa0630fdd3bd2b95f4b848\n",
      "Indices with Caught Errors: []\n",
      "\n",
      "\n",
      "\n",
      "Execution Id: 6362672fc533470d046720ee\n",
      "Indices with Caught Errors: []\n",
      "\n",
      "\n",
      "\n",
      "Execution Id: 6363ea30ed156e14aa962a62\n",
      "Indices with Caught Errors: []\n",
      "\n",
      "\n",
      "\n",
      "Execution Id: 629d3fba261b4162d0dab34a\n",
      "Indices with Caught Errors: []\n",
      "\n",
      "\n",
      "\n",
      "Execution Id: 62f15cec5cf39a77e8162c99\n",
      "Indices with Caught Errors: []\n",
      "\n",
      "\n",
      "\n",
      "Execution Id: 64f77941fdd3bd2b95f4b19a\n",
      "Indices with Caught Errors: [16, 17, 18, 19, 20, 21, 796, 797, 798, 799, 800, 801]\n",
      "\n",
      "\n",
      "\n",
      "Execution Id: 64dbaf105343d832568b8af5\n",
      "Indices with Caught Errors: []\n",
      "\n",
      "\n",
      "\n",
      "Execution Id: 6423adec09e7863a151c9332\n",
      "Indices with Caught Errors: []\n",
      "\n",
      "\n",
      "\n",
      "Execution Id: 635158c2c533470d0466e93c\n",
      "Indices with Caught Errors: []\n",
      "\n",
      "\n",
      "\n",
      "Execution Id: 6323af9c449c107aaa51ed9f\n",
      "Indices with Caught Errors: []\n",
      "\n",
      "\n",
      "\n",
      "Execution Id: 639f4b02319fe336d9bcc9f0\n",
      "Indices with Caught Errors: []\n",
      "\n",
      "\n",
      "\n",
      "Execution Id: 64afbd109442db7d34cfc2a9\n",
      "Indices with Caught Errors: []\n",
      "\n",
      "\n",
      "\n"
     ]
    }
   ],
   "source": [
    "from collections import Counter\n",
    "\n",
    "desired_labels = ['LABEL_1', 'LABEL_2', 'LABEL_3']\n",
    "error_analysis = dict()\n",
    "\n",
    "label_to_error = {'LABEL_0':'none', 'LABEL_1':'cluster', 'LABEL_2':'domino', 'LABEL_3':'user'}\n",
    "\n",
    "for execution_id in missed_errors:\n",
    "    target_paths = find_abs_path(execution_id)\n",
    "    #print(\"target_paths:\\n\", '\\n'.join(target_paths))\n",
    "    \n",
    "    all_content = [open_all_files(path) for path in target_paths]\n",
    "    if len(all_content) == 0:\n",
    "        print(\"Execution Id \" + execution_id + \" does not have associated bundle files. This could be due to errors in the ways they were downloaded via API\")\n",
    "    all_content = [line for file in all_content for line in file]\n",
    "    \n",
    "    pred = classifier(all_content, max_length=512, truncation=True)\n",
    "    \n",
    "    indices = [i for i, p in enumerate(pred) if p['label'] in desired_labels]\n",
    "    prediction_values = [label_to_error[p['label']] for i, p in enumerate(pred) if p['label'] in desired_labels]\n",
    "    error_types = [label_to_error[p['label']] for i, p in enumerate(pred) if p['label'] in desired_labels]\n",
    "    error_types = Counter(error_types)\n",
    "    print(\"Execution Id: \" + execution_id)\n",
    "    print(\"Indices with Caught Errors: [\"+ ', '.join(map(str, indices)) + ']')\n",
    "    \n",
    "    caught_errors = '\\n'.join([all_content[i] for i in indices])\n",
    "    #print(\"Caught Errors: \", caught_errors)\n",
    "    \n",
    "    error_analysis[execution_id] = dict()\n",
    "    error_analysis[execution_id]['num_errors'] = len(indices)\n",
    "    error_analysis[execution_id]['caught_errors'] = caught_errors\n",
    "    error_analysis[execution_id]['error_types'] = error_types\n",
    "    print(\"\\n\\n\")"
   ]
  },
  {
   "cell_type": "code",
   "execution_count": 317,
   "id": "3fbdaa58-4d10-4f13-9457-00a9056d81b5",
   "metadata": {
    "tags": []
   },
   "outputs": [
    {
     "name": "stdout",
     "output_type": "stream",
     "text": [
      "Counter({'cluster': 10})\n"
     ]
    }
   ],
   "source": [
    "for key in error_analysis.keys():\n",
    "    target_entry = error_analysis[key]\n",
    "    print(target_entry['error_types'])"
   ]
  },
  {
   "cell_type": "code",
   "execution_count": 210,
   "id": "9359b080-8d32-4060-ab63-9d1e8813a956",
   "metadata": {
    "tags": []
   },
   "outputs": [],
   "source": [
    "execution_id = '652c0e24b9c768436d7c1971'\n",
    "\n",
    "target_paths = find_abs_path(execution_id)\n",
    "all_content = [open_all_files(path) for path in target_paths]\n",
    "all_content = [line for file in all_content for line in file]\n",
    "pred = classifier(all_content)\n",
    "#indices = [i for i, p in enumerate(pred) if p['label'] in desired_labels]\n",
    "#error_analysis[i] = indices\n",
    "#print(\"Execution Id: \" + i)\n",
    "#print(\"Indices with Caught Errors: [\"+ ', '.join(indices) + ']')"
   ]
  },
  {
   "cell_type": "code",
   "execution_count": 202,
   "id": "fee314d0-8007-4775-adfd-a5f543b88b13",
   "metadata": {
    "tags": []
   },
   "outputs": [
    {
     "name": "stdout",
     "output_type": "stream",
     "text": [
      "Indices with Caught Errors: [13, 14, 15, 16, 17, 123, 124, 125, 126, 127]\n"
     ]
    }
   ],
   "source": [
    "indices = [i for i, p in enumerate(pred) if p['label'] in desired_labels]\n",
    "print(\"Indices with Caught Errors: [\"+ ', '.join(map(str, indices)) + ']')"
   ]
  },
  {
   "cell_type": "code",
   "execution_count": 201,
   "id": "b2877539-76e8-49e8-9045-713e6d3f7b6d",
   "metadata": {
    "tags": []
   },
   "outputs": [
    {
     "data": {
      "text/plain": [
       "[13, 14, 15, 16, 17, 123, 124, 125, 126, 127]"
      ]
     },
     "execution_count": 201,
     "metadata": {},
     "output_type": "execute_result"
    }
   ],
   "source": [
    "indices"
   ]
  },
  {
   "cell_type": "code",
   "execution_count": 183,
   "id": "932a8b14-be0f-4940-87fe-5eb01eb4fea3",
   "metadata": {
    "tags": []
   },
   "outputs": [
    {
     "name": "stdout",
     "output_type": "stream",
     "text": [
      "Test [1, 2, 3]\n"
     ]
    }
   ],
   "source": [
    "tst = ['1', '2', '3']\n",
    "print(\"Test [\"+ ', '.join(tst) + ']')"
   ]
  },
  {
   "cell_type": "markdown",
   "id": "1daf059b-906a-420b-aca5-989f88bc4af0",
   "metadata": {},
   "source": [
    "## Now let's save out our model so we don't lose that good processing power!"
   ]
  },
  {
   "cell_type": "code",
   "execution_count": 295,
   "id": "8cd7d365-197d-4f0f-a243-61f3a22a4db8",
   "metadata": {
    "tags": []
   },
   "outputs": [
    {
     "data": {
      "text/plain": [
       "'log_classification_20231019_205618'"
      ]
     },
     "execution_count": 295,
     "metadata": {},
     "output_type": "execute_result"
    }
   ],
   "source": [
    "from datetime import datetime\n",
    "base_name = 'log_classification'\n",
    "current_datetime = datetime.now().strftime('%Y%m%d_%H%M%S')\n",
    "\n",
    "# Create the unique model name\n",
    "model_name = f\"{base_name}_{current_datetime}\"\n",
    "model_name"
   ]
  },
  {
   "cell_type": "code",
   "execution_count": 296,
   "id": "16153271-a5b6-4777-a5c1-47f7421f08be",
   "metadata": {
    "tags": []
   },
   "outputs": [],
   "source": [
    "model_directory = os.path.join('/mnt/artifacts', 'models', model_name)\n",
    "\n",
    "if not os.path.exists(model_directory):\n",
    "    os.makedirs(model_directory)"
   ]
  },
  {
   "cell_type": "code",
   "execution_count": 297,
   "id": "aabc63b1-9780-48f4-9e39-378fc3fdc310",
   "metadata": {
    "tags": []
   },
   "outputs": [
    {
     "data": {
      "text/plain": [
       "('/mnt/artifacts/models/log_classification_20231019_205618/tokenizer_config.json',\n",
       " '/mnt/artifacts/models/log_classification_20231019_205618/special_tokens_map.json',\n",
       " '/mnt/artifacts/models/log_classification_20231019_205618/vocab.txt',\n",
       " '/mnt/artifacts/models/log_classification_20231019_205618/added_tokens.json',\n",
       " '/mnt/artifacts/models/log_classification_20231019_205618/tokenizer.json')"
      ]
     },
     "execution_count": 297,
     "metadata": {},
     "output_type": "execute_result"
    }
   ],
   "source": [
    "model.save_pretrained(model_directory)\n",
    "tokenizer.save_pretrained(model_directory)"
   ]
  },
  {
   "cell_type": "markdown",
   "id": "4747b843-e2c6-4737-91a7-fca411e4f46d",
   "metadata": {
    "tags": []
   },
   "source": [
    "## How to load the tokenizer and model back up"
   ]
  },
  {
   "cell_type": "code",
   "execution_count": 299,
   "id": "14e98b0c-c607-4bf4-9b0c-46d09be26c83",
   "metadata": {
    "tags": []
   },
   "outputs": [
    {
     "data": {
      "text/plain": [
       "'/mnt/artifacts/models/log_classification_20231019_205618'"
      ]
     },
     "execution_count": 299,
     "metadata": {},
     "output_type": "execute_result"
    }
   ],
   "source": [
    "base_dir = '/mnt/artifacts/models'\n",
    "\n",
    "model_path = os.path.join(base_dir, os.listdir(base_dir)[1])\n",
    "model_path"
   ]
  },
  {
   "cell_type": "code",
   "execution_count": 300,
   "id": "d6676d3b-ae5d-484a-bae1-590d719ca08f",
   "metadata": {
    "tags": []
   },
   "outputs": [],
   "source": [
    "from transformers import AutoTokenizer\n",
    "from transformers import AutoModelForSequenceClassification\n",
    "\n",
    "\n",
    "tokenizer2 = AutoTokenizer.from_pretrained(model_path)\n",
    "model2 = AutoModelForSequenceClassification.from_pretrained(model_path)"
   ]
  },
  {
   "cell_type": "code",
   "execution_count": 301,
   "id": "7ca46251-df90-48a2-bfec-0a4d90323181",
   "metadata": {
    "tags": []
   },
   "outputs": [],
   "source": [
    "model2 = model2.to(device)\n",
    "device_num = 0 if torch.cuda.is_available() else -1\n",
    "classifier2 = pipeline('text-classification', model=model2, tokenizer=tokenizer2, device=device_num)"
   ]
  },
  {
   "cell_type": "code",
   "execution_count": 306,
   "id": "7d0604c6-7ac5-48c3-9629-8858572b0719",
   "metadata": {
    "tags": []
   },
   "outputs": [
    {
     "data": {
      "text/plain": [
       "[{'label': 'LABEL_0', 'score': 0.9997827410697937}]"
      ]
     },
     "execution_count": 306,
     "metadata": {},
     "output_type": "execute_result"
    }
   ],
   "source": [
    "classifier2(\"This is a test remember to keep that in mind!\")"
   ]
  }
 ],
 "metadata": {
  "dca-init": "true",
  "kernelspec": {
   "display_name": "base",
   "language": "python",
   "name": "python3"
  },
  "language_info": {
   "codemirror_mode": {
    "name": "ipython",
    "version": 3
   },
   "file_extension": ".py",
   "mimetype": "text/x-python",
   "name": "python",
   "nbconvert_exporter": "python",
   "pygments_lexer": "ipython3",
   "version": "3.9.18 (main, Sep 11 2023, 13:41:44) \n[GCC 11.2.0]"
  },
  "vscode": {
   "interpreter": {
    "hash": "d4d1e4263499bec80672ea0156c357c1ee493ec2b1c70f0acce89fc37c4a6abe"
   }
  }
 },
 "nbformat": 4,
 "nbformat_minor": 5
}
