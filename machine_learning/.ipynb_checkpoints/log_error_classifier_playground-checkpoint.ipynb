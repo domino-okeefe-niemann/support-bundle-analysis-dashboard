{
 "cells": [
  {
   "cell_type": "code",
   "execution_count": 77,
   "id": "7a0089b0-18eb-4642-9c54-8902ee17d738",
   "metadata": {
    "tags": []
   },
   "outputs": [],
   "source": [
    "import os\n",
    "import random\n",
    "import pandas as pd\n",
    "\n",
    "from sklearn.model_selection import train_test_split\n",
    "from datasets import Dataset, DatasetDict\n",
    "\n",
    "import warnings\n",
    "warnings.filterwarnings(\"ignore\")"
   ]
  },
  {
   "cell_type": "markdown",
   "id": "8e2d3c6f-44c1-400e-9f4b-812cdda8511e",
   "metadata": {},
   "source": [
    "# Set Up The Data"
   ]
  },
  {
   "cell_type": "markdown",
   "id": "e79be680-ee6a-4168-9338-09381e1865b8",
   "metadata": {},
   "source": [
    "## Read in the Errors"
   ]
  },
  {
   "cell_type": "code",
   "execution_count": 3,
   "id": "403594ec-b7f7-4a81-b04b-ff091accc881",
   "metadata": {
    "tags": []
   },
   "outputs": [],
   "source": [
    "project_name = 'allstate_log_github'\n",
    "data_directory = '/mnt/data/' + project_name + '/'\n",
    "\n",
    "errors_df = pd.read_csv(data_directory+'error_analysis_all_time.csv')"
   ]
  },
  {
   "cell_type": "code",
   "execution_count": 4,
   "id": "0ea33e0a-3cf2-4b4a-929e-f6d99ecc763b",
   "metadata": {
    "tags": []
   },
   "outputs": [
    {
     "data": {
      "text/plain": [
       "Index(['Error', 'Line_Number', 'Context', 'Error_Type', 'File_Path',\n",
       "       'Date_Time', 'Node', 'execution_id'],\n",
       "      dtype='object')"
      ]
     },
     "execution_count": 4,
     "metadata": {},
     "output_type": "execute_result"
    }
   ],
   "source": [
    "errors_df.columns"
   ]
  },
  {
   "cell_type": "code",
   "execution_count": 5,
   "id": "96e7b674-dd72-474e-868a-bd225f25a85d",
   "metadata": {
    "tags": []
   },
   "outputs": [
    {
     "data": {
      "text/plain": [
       "cluster    35526\n",
       "domino     17838\n",
       "user          48\n",
       "Name: Error_Type, dtype: int64"
      ]
     },
     "execution_count": 5,
     "metadata": {},
     "output_type": "execute_result"
    }
   ],
   "source": [
    "errors_df.Error_Type.value_counts()"
   ]
  },
  {
   "cell_type": "code",
   "execution_count": 6,
   "id": "281d3b17-0d31-4636-8e88-610abbbb7bf6",
   "metadata": {
    "tags": []
   },
   "outputs": [],
   "source": [
    "errors_df = errors_df[['Context', 'Error_Type']]"
   ]
  },
  {
   "cell_type": "markdown",
   "id": "ac5911bb-ba83-45a1-9351-5f839c930ec6",
   "metadata": {},
   "source": [
    "## Extract random lines for non-error support bundles and create a \"no error\" dataframe"
   ]
  },
  {
   "cell_type": "code",
   "execution_count": 7,
   "id": "df2185dc-7213-4b74-aba9-a4122a75ea5c",
   "metadata": {
    "tags": []
   },
   "outputs": [],
   "source": [
    "support_bundles_directory = data_directory + 'support-bundles/'\n",
    "support_bundles = os.listdir(support_bundles_directory)\n",
    "support_bundles = [x for x in support_bundles if '.zip' not in x]"
   ]
  },
  {
   "cell_type": "code",
   "execution_count": 8,
   "id": "868623ce-d50a-434b-a10d-09acf5fb1601",
   "metadata": {
    "tags": []
   },
   "outputs": [
    {
     "data": {
      "text/plain": [
       "5548"
      ]
     },
     "execution_count": 8,
     "metadata": {},
     "output_type": "execute_result"
    }
   ],
   "source": [
    "len(support_bundles)"
   ]
  },
  {
   "cell_type": "code",
   "execution_count": 9,
   "id": "4af1bcde-52f7-4d25-a884-05a36237f350",
   "metadata": {
    "tags": []
   },
   "outputs": [],
   "source": [
    "resource_usage_directory = data_directory + 'resource-usage-by-day/'\n",
    "resource_usage_csv_files = os.listdir(resource_usage_directory)\n",
    "resource_usage_df = pd.concat([pd.read_csv(os.path.join(resource_usage_directory, f)) for f in resource_usage_csv_files], ignore_index=True)"
   ]
  },
  {
   "cell_type": "code",
   "execution_count": 10,
   "id": "c4fee376-1889-44ab-a865-1ff7f03fe9e2",
   "metadata": {
    "tags": []
   },
   "outputs": [
    {
     "data": {
      "text/html": [
       "<div>\n",
       "<style scoped>\n",
       "    .dataframe tbody tr th:only-of-type {\n",
       "        vertical-align: middle;\n",
       "    }\n",
       "\n",
       "    .dataframe tbody tr th {\n",
       "        vertical-align: top;\n",
       "    }\n",
       "\n",
       "    .dataframe thead th {\n",
       "        text-align: right;\n",
       "    }\n",
       "</style>\n",
       "<table border=\"1\" class=\"dataframe\">\n",
       "  <thead>\n",
       "    <tr style=\"text-align: right;\">\n",
       "      <th></th>\n",
       "      <th>run_id</th>\n",
       "      <th>run_title</th>\n",
       "      <th>command</th>\n",
       "      <th>status</th>\n",
       "      <th>starting_user</th>\n",
       "      <th>project_owner_username</th>\n",
       "      <th>project_name</th>\n",
       "      <th>total_run_duration_s_</th>\n",
       "      <th>run_duration_within_reporting_period_s_</th>\n",
       "      <th>hardware_tier</th>\n",
       "      <th>...</th>\n",
       "      <th>completed_timestamp</th>\n",
       "      <th>compute_cluster_type</th>\n",
       "      <th>master_hardware_tier</th>\n",
       "      <th>master_hardware_tier_cost_per_minute</th>\n",
       "      <th>worker_count</th>\n",
       "      <th>worker_hardware_tier</th>\n",
       "      <th>worker_hardware_tier_cost_per_minute</th>\n",
       "      <th>date</th>\n",
       "      <th>run_type</th>\n",
       "      <th>time_to_boot_s</th>\n",
       "    </tr>\n",
       "  </thead>\n",
       "  <tbody>\n",
       "    <tr>\n",
       "      <th>0</th>\n",
       "      <td>63714cc09196ec342a497c35</td>\n",
       "      <td>echo test</td>\n",
       "      <td>echo test</td>\n",
       "      <td>Succeeded</td>\n",
       "      <td>bryce_beddard</td>\n",
       "      <td>bryce_beddard</td>\n",
       "      <td>testAPI</td>\n",
       "      <td>5.0</td>\n",
       "      <td>5</td>\n",
       "      <td>small-k8s</td>\n",
       "      <td>...</td>\n",
       "      <td>1668369640346</td>\n",
       "      <td>NaN</td>\n",
       "      <td>NaN</td>\n",
       "      <td>NaN</td>\n",
       "      <td>NaN</td>\n",
       "      <td>NaN</td>\n",
       "      <td>NaN</td>\n",
       "      <td>2022-11-13</td>\n",
       "      <td>batch</td>\n",
       "      <td>35</td>\n",
       "    </tr>\n",
       "    <tr>\n",
       "      <th>1</th>\n",
       "      <td>6370c0209196ec342a496c3e</td>\n",
       "      <td>Data Warehouse Daily Run</td>\n",
       "      <td>'/repos/domino_dw/DW_ETL.py'</td>\n",
       "      <td>Succeeded</td>\n",
       "      <td>griffin_young</td>\n",
       "      <td>griffin_young</td>\n",
       "      <td>DW-Prod</td>\n",
       "      <td>6680.0</td>\n",
       "      <td>6680</td>\n",
       "      <td>small-k8s</td>\n",
       "      <td>...</td>\n",
       "      <td>1668340317363</td>\n",
       "      <td>NaN</td>\n",
       "      <td>NaN</td>\n",
       "      <td>NaN</td>\n",
       "      <td>NaN</td>\n",
       "      <td>NaN</td>\n",
       "      <td>NaN</td>\n",
       "      <td>2022-11-13</td>\n",
       "      <td>batch</td>\n",
       "      <td>36</td>\n",
       "    </tr>\n",
       "    <tr>\n",
       "      <th>2</th>\n",
       "      <td>640cddc0c4253f28887e0bbf</td>\n",
       "      <td>test.sh</td>\n",
       "      <td>test.sh</td>\n",
       "      <td>Failed</td>\n",
       "      <td>blake_moore</td>\n",
       "      <td>blake_moore</td>\n",
       "      <td>Finch</td>\n",
       "      <td>2.0</td>\n",
       "      <td>2</td>\n",
       "      <td>small-k8s</td>\n",
       "      <td>...</td>\n",
       "      <td>1678564826519</td>\n",
       "      <td>NaN</td>\n",
       "      <td>NaN</td>\n",
       "      <td>NaN</td>\n",
       "      <td>NaN</td>\n",
       "      <td>NaN</td>\n",
       "      <td>NaN</td>\n",
       "      <td>2023-03-11</td>\n",
       "      <td>batch</td>\n",
       "      <td>24</td>\n",
       "    </tr>\n",
       "    <tr>\n",
       "      <th>3</th>\n",
       "      <td>627ad072ee0eb12322fc991d</td>\n",
       "      <td>alireza_mounesisohi's JupyterLab session</td>\n",
       "      <td>[JupyterLab session ]</td>\n",
       "      <td>Stopped</td>\n",
       "      <td>alireza_mounesisohi</td>\n",
       "      <td>alireza_mounesisohi</td>\n",
       "      <td>IMM-regression</td>\n",
       "      <td>8324.0</td>\n",
       "      <td>8324</td>\n",
       "      <td>small-k8s</td>\n",
       "      <td>...</td>\n",
       "      <td>1652224265867</td>\n",
       "      <td>NaN</td>\n",
       "      <td>NaN</td>\n",
       "      <td>NaN</td>\n",
       "      <td>NaN</td>\n",
       "      <td>NaN</td>\n",
       "      <td>NaN</td>\n",
       "      <td>2022-05-10</td>\n",
       "      <td>notebook</td>\n",
       "      <td>20</td>\n",
       "    </tr>\n",
       "    <tr>\n",
       "      <th>4</th>\n",
       "      <td>627abbfbd78c3b4fc50c85c5</td>\n",
       "      <td>Sahil-test</td>\n",
       "      <td>[vscode session ]</td>\n",
       "      <td>Stopped</td>\n",
       "      <td>sahil.rahi</td>\n",
       "      <td>sahil.rahi</td>\n",
       "      <td>Test1</td>\n",
       "      <td>1007.0</td>\n",
       "      <td>1007</td>\n",
       "      <td>gpu-V100</td>\n",
       "      <td>...</td>\n",
       "      <td>1652211711849</td>\n",
       "      <td>NaN</td>\n",
       "      <td>NaN</td>\n",
       "      <td>NaN</td>\n",
       "      <td>NaN</td>\n",
       "      <td>NaN</td>\n",
       "      <td>NaN</td>\n",
       "      <td>2022-05-10</td>\n",
       "      <td>notebook</td>\n",
       "      <td>21</td>\n",
       "    </tr>\n",
       "  </tbody>\n",
       "</table>\n",
       "<p>5 rows × 25 columns</p>\n",
       "</div>"
      ],
      "text/plain": [
       "                     run_id                                 run_title  \\\n",
       "0  63714cc09196ec342a497c35                                 echo test   \n",
       "1  6370c0209196ec342a496c3e                  Data Warehouse Daily Run   \n",
       "2  640cddc0c4253f28887e0bbf                                   test.sh   \n",
       "3  627ad072ee0eb12322fc991d  alireza_mounesisohi's JupyterLab session   \n",
       "4  627abbfbd78c3b4fc50c85c5                                Sahil-test   \n",
       "\n",
       "                        command     status        starting_user  \\\n",
       "0                     echo test  Succeeded        bryce_beddard   \n",
       "1  '/repos/domino_dw/DW_ETL.py'  Succeeded        griffin_young   \n",
       "2                       test.sh     Failed          blake_moore   \n",
       "3         [JupyterLab session ]    Stopped  alireza_mounesisohi   \n",
       "4             [vscode session ]    Stopped           sahil.rahi   \n",
       "\n",
       "  project_owner_username    project_name  total_run_duration_s_  \\\n",
       "0          bryce_beddard         testAPI                    5.0   \n",
       "1          griffin_young         DW-Prod                 6680.0   \n",
       "2            blake_moore           Finch                    2.0   \n",
       "3    alireza_mounesisohi  IMM-regression                 8324.0   \n",
       "4             sahil.rahi           Test1                 1007.0   \n",
       "\n",
       "   run_duration_within_reporting_period_s_ hardware_tier  ...  \\\n",
       "0                                        5     small-k8s  ...   \n",
       "1                                     6680     small-k8s  ...   \n",
       "2                                        2     small-k8s  ...   \n",
       "3                                     8324     small-k8s  ...   \n",
       "4                                     1007      gpu-V100  ...   \n",
       "\n",
       "  completed_timestamp compute_cluster_type master_hardware_tier  \\\n",
       "0       1668369640346                  NaN                  NaN   \n",
       "1       1668340317363                  NaN                  NaN   \n",
       "2       1678564826519                  NaN                  NaN   \n",
       "3       1652224265867                  NaN                  NaN   \n",
       "4       1652211711849                  NaN                  NaN   \n",
       "\n",
       "   master_hardware_tier_cost_per_minute  worker_count  worker_hardware_tier  \\\n",
       "0                                   NaN           NaN                   NaN   \n",
       "1                                   NaN           NaN                   NaN   \n",
       "2                                   NaN           NaN                   NaN   \n",
       "3                                   NaN           NaN                   NaN   \n",
       "4                                   NaN           NaN                   NaN   \n",
       "\n",
       "  worker_hardware_tier_cost_per_minute        date  run_type  time_to_boot_s  \n",
       "0                                  NaN  2022-11-13     batch              35  \n",
       "1                                  NaN  2022-11-13     batch              36  \n",
       "2                                  NaN  2023-03-11     batch              24  \n",
       "3                                  NaN  2022-05-10  notebook              20  \n",
       "4                                  NaN  2022-05-10  notebook              21  \n",
       "\n",
       "[5 rows x 25 columns]"
      ]
     },
     "execution_count": 10,
     "metadata": {},
     "output_type": "execute_result"
    }
   ],
   "source": [
    "resource_usage_df.head()"
   ]
  },
  {
   "cell_type": "code",
   "execution_count": 11,
   "id": "967c5a93-3b01-4b9d-9e28-4c20dfab1ba9",
   "metadata": {
    "tags": []
   },
   "outputs": [],
   "source": [
    "no_errors = resource_usage_df[resource_usage_df['status'].isin(['Running', 'Succeeded'])]"
   ]
  },
  {
   "cell_type": "code",
   "execution_count": 12,
   "id": "00b9b25f-478c-4f5d-bd02-cc3b381899ef",
   "metadata": {
    "tags": []
   },
   "outputs": [],
   "source": [
    "support_bundles = list(set(support_bundles) & set(no_errors.run_id))"
   ]
  },
  {
   "cell_type": "code",
   "execution_count": 13,
   "id": "25fe0f38-7498-411e-b11b-d2943162e4cf",
   "metadata": {
    "tags": []
   },
   "outputs": [],
   "source": [
    "def find_abs_path(support_bundle_path, support_bundles_directory=support_bundles_directory):\n",
    "    all_paths = os.listdir(support_bundles_directory + support_bundle_path)\n",
    "    all_paths = [os.path.abspath(support_bundles_directory + support_bundle_path + '/'+f) for f in all_paths]\n",
    "    return(all_paths)\n",
    " \n",
    "#find_abs_path(support_bundles[0])\n",
    "successful_paths = [find_abs_path(target_support_bundle) for target_support_bundle in support_bundles]\n",
    "successful_paths = [path for support_bundle in successful_paths for path in support_bundle]"
   ]
  },
  {
   "cell_type": "code",
   "execution_count": 14,
   "id": "99af2d8e-bcb5-4c0f-989b-fec4e60b2297",
   "metadata": {
    "tags": []
   },
   "outputs": [],
   "source": [
    "def open_all_files(paths):\n",
    "    with open(paths, 'r') as f:\n",
    "        raw_content = f.readlines()\n",
    "\n",
    "    raw_content = [line.strip() for line in raw_content]\n",
    "    \n",
    "    return(raw_content)\n",
    "\n",
    "all_content = [open_all_files(path) for path in successful_paths]\n",
    "all_content = [line for file in all_content for line in file]"
   ]
  },
  {
   "cell_type": "code",
   "execution_count": 21,
   "id": "70f9f4ea-79b3-4f87-80d2-9a992c984d42",
   "metadata": {
    "tags": []
   },
   "outputs": [],
   "source": [
    "all_content_save = all_content\n",
    "all_content = list(filter(lambda word: len(word) > 10, all_content))"
   ]
  },
  {
   "cell_type": "code",
   "execution_count": 22,
   "id": "68217641-cf17-440f-8381-9d84f1446998",
   "metadata": {
    "tags": []
   },
   "outputs": [],
   "source": [
    "wanted_num_non_errors = errors_df.shape[0]\n",
    "indices = random.sample(range(len(all_content)), wanted_num_non_errors)\n",
    "target_content = [all_content[idx] for idx in indices]"
   ]
  },
  {
   "cell_type": "code",
   "execution_count": 23,
   "id": "33fff955-4d7b-47d9-9532-e9133b1da608",
   "metadata": {
    "tags": []
   },
   "outputs": [],
   "source": [
    "no_errors_df = pd.DataFrame({\"Context\" : target_content, \"Error_Type\" : [\"none\" for i in target_content]})"
   ]
  },
  {
   "cell_type": "markdown",
   "id": "60f36919-bcc3-448a-add5-a7c5287099b2",
   "metadata": {},
   "source": [
    "## Combine the errors with the non-errors and create training/testing data"
   ]
  },
  {
   "cell_type": "code",
   "execution_count": 31,
   "id": "c84c3aa9-88dc-4487-868a-c68d866a1cd4",
   "metadata": {
    "tags": []
   },
   "outputs": [
    {
     "data": {
      "text/plain": [
       "(106824, 2)"
      ]
     },
     "execution_count": 31,
     "metadata": {},
     "output_type": "execute_result"
    }
   ],
   "source": [
    "all_data = pd.concat([errors_df, no_errors_df])\n",
    "all_data.columns = ['text', 'label']\n",
    "all_data.shape"
   ]
  },
  {
   "cell_type": "code",
   "execution_count": 33,
   "id": "e7410e51-5851-40c4-8332-143662f0ff32",
   "metadata": {
    "tags": []
   },
   "outputs": [],
   "source": [
    "df_train, df_test = train_test_split(all_data, test_size=0.1, stratify=all_data[\"label\"])"
   ]
  },
  {
   "cell_type": "code",
   "execution_count": 53,
   "id": "5efa6da5-2743-4fcd-b4b2-6a3e92e2b59b",
   "metadata": {
    "tags": []
   },
   "outputs": [
    {
     "data": {
      "text/plain": [
       "(106824, 2)"
      ]
     },
     "execution_count": 53,
     "metadata": {},
     "output_type": "execute_result"
    }
   ],
   "source": [
    "all_data.shape"
   ]
  },
  {
   "cell_type": "code",
   "execution_count": 55,
   "id": "6a25a7cd-0d72-43cf-afe6-0b3c6a9f7c8b",
   "metadata": {
    "tags": []
   },
   "outputs": [
    {
     "data": {
      "text/plain": [
       "<pandas.core.groupby.generic.DataFrameGroupBy object at 0x7f3d93d25700>"
      ]
     },
     "execution_count": 55,
     "metadata": {},
     "output_type": "execute_result"
    }
   ],
   "source": [
    "all_data.groupby('label', group_keys=False)"
   ]
  },
  {
   "cell_type": "code",
   "execution_count": 60,
   "id": "cafb6f9d-ada4-4453-aa55-7f1f556886d8",
   "metadata": {
    "tags": []
   },
   "outputs": [],
   "source": [
    "def stratified_sample(df, stratifying_col, n):\n",
    "    def sample_func(group):\n",
    "        if len(group) < int(n/df[stratifying_col].nunique()):\n",
    "            return group.sample(int(n/df[stratifying_col].nunique()), replace=True)\n",
    "        else:\n",
    "            return group.sample(int(n/df[stratifying_col].nunique()))\n",
    "    return df.groupby(stratifying_col, group_keys=False).apply(sample_func)\n",
    "\n",
    "# Get stratified sample with target number of rows\n",
    "n = 1000\n",
    "all_data_small = stratified_sample(all_data, 'label', n)\n",
    "\n",
    "df_train_small, df_test_small = train_test_split(all_data_small, test_size=0.1, stratify=all_data_small[\"label\"])\n",
    "\n",
    "dir_name = os.path.join(data_directory, 'classification_data')\n",
    "\n",
    "if not os.path.exists(dir_name):\n",
    "    os.makedirs(dir_name)\n",
    "   \n",
    "\n",
    "df_train_small.to_csv(os.path.join(dir_name, \"train_small.csv\"), index=False)\n",
    "df_test_small.to_csv(os.path.join(dir_name, \"test_small.csv\"), index=False)"
   ]
  },
  {
   "cell_type": "code",
   "execution_count": 35,
   "id": "1b205bb4-526e-4d00-b355-8703fc83e2fc",
   "metadata": {
    "tags": []
   },
   "outputs": [
    {
     "data": {
      "text/plain": [
       "none       48071\n",
       "cluster    31973\n",
       "domino     16054\n",
       "user          43\n",
       "Name: label, dtype: int64"
      ]
     },
     "execution_count": 35,
     "metadata": {},
     "output_type": "execute_result"
    }
   ],
   "source": [
    "df_train['label'].value_counts()"
   ]
  },
  {
   "cell_type": "code",
   "execution_count": 36,
   "id": "ddfc0414-2c7e-4d46-a3cc-fa9717c21f9d",
   "metadata": {
    "tags": []
   },
   "outputs": [],
   "source": [
    "dir_name = os.path.join(data_directory, 'classification_data')\n",
    "\n",
    "if not os.path.exists(dir_name):\n",
    "    os.makedirs(dir_name)\n",
    "    \n",
    "\n",
    "df_train.to_csv(os.path.join(dir_name, \"train.csv\"), index=False)\n",
    "df_test.to_csv(os.path.join(dir_name, \"test.csv\"), index=False)"
   ]
  },
  {
   "cell_type": "markdown",
   "id": "4d21388e-f6b0-41b8-9911-21d2daca9c63",
   "metadata": {},
   "source": [
    "## Groom the data into something that HuggingFace can take in"
   ]
  },
  {
   "cell_type": "code",
   "execution_count": 94,
   "id": "1daa36de-5cd0-4ed4-a4b9-12934ae2ca6f",
   "metadata": {
    "tags": []
   },
   "outputs": [],
   "source": [
    "df_train = pd.read_csv(os.path.join(dir_name, \"train_small.csv\"))\n",
    "df_test = pd.read_csv(os.path.join(dir_name, \"test_small.csv\"))"
   ]
  },
  {
   "cell_type": "code",
   "execution_count": 98,
   "id": "1fa2772a-6e82-4f70-a495-fd006dce3ac0",
   "metadata": {
    "tags": []
   },
   "outputs": [
    {
     "data": {
      "text/plain": [
       "4"
      ]
     },
     "execution_count": 98,
     "metadata": {},
     "output_type": "execute_result"
    }
   ],
   "source": [
    "len(unique_labels)"
   ]
  },
  {
   "cell_type": "code",
   "execution_count": 102,
   "id": "bbde28b3-748d-42fe-8b3b-94b0e58ef86f",
   "metadata": {
    "tags": []
   },
   "outputs": [],
   "source": [
    "unique_labels = df_train['label'].unique()\n",
    "label_to_text = {idx:unique_labels[idx] for idx in range(len(unique_labels))}\n",
    "text_to_label = {unique_labels[idx]:idx for idx in range(len(unique_labels))}"
   ]
  },
  {
   "cell_type": "code",
   "execution_count": 106,
   "id": "d8ee096d-e030-4103-8912-074e9bc695fd",
   "metadata": {
    "tags": []
   },
   "outputs": [],
   "source": [
    "df_train['label'] = df_train['label'].apply(lambda x: text_to_label[x])\n",
    "df_test['label'] = df_test['label'].apply(lambda x: text_to_label[x])"
   ]
  },
  {
   "cell_type": "code",
   "execution_count": 109,
   "id": "78694cf5-ee2a-425e-abd2-8d603160c0d1",
   "metadata": {
    "tags": []
   },
   "outputs": [],
   "source": [
    "dataset_train = Dataset.from_pandas(df_train)\n",
    "dataset_test = Dataset.from_pandas(df_test)\n",
    "\n",
    "dataset_logs = DatasetDict({\n",
    "        'train':dataset_train,\n",
    "        'test':dataset_test\n",
    "})"
   ]
  },
  {
   "cell_type": "code",
   "execution_count": 110,
   "id": "a3b4abae-c26a-4d62-8911-b237077cea47",
   "metadata": {
    "tags": []
   },
   "outputs": [
    {
     "data": {
      "application/vnd.jupyter.widget-view+json": {
       "model_id": "abf87ad8332846019b52e8a393b1d508",
       "version_major": 2,
       "version_minor": 0
      },
      "text/plain": [
       "Map:   0%|          | 0/900 [00:00<?, ? examples/s]"
      ]
     },
     "metadata": {},
     "output_type": "display_data"
    },
    {
     "data": {
      "application/vnd.jupyter.widget-view+json": {
       "model_id": "d1a20eab70f04928a5bce2220b73a618",
       "version_major": 2,
       "version_minor": 0
      },
      "text/plain": [
       "Map:   0%|          | 0/100 [00:00<?, ? examples/s]"
      ]
     },
     "metadata": {},
     "output_type": "display_data"
    }
   ],
   "source": [
    "from transformers import AutoTokenizer\n",
    "tokenizer = AutoTokenizer.from_pretrained('bert-base-cased')\n",
    "\n",
    "def tokenize_function(df):\n",
    "    return tokenizer(df['text'], padding=\"max_length\", truncation=True)\n",
    "\n",
    "tokenized_datasets_logs = dataset_logs.map(tokenize_function)"
   ]
  },
  {
   "cell_type": "code",
   "execution_count": 111,
   "id": "676824b3-0b0d-4180-a5d0-67e76fd2b0e7",
   "metadata": {
    "tags": []
   },
   "outputs": [],
   "source": [
    "tokenized_datasets_logs = tokenized_datasets_logs.remove_columns([\"text\"])\n",
    "tokenized_datasets_logs = tokenized_datasets_logs.rename_column(\"label\", \"labels\")\n",
    "tokenized_datasets_logs.set_format(\"torch\")"
   ]
  },
  {
   "cell_type": "code",
   "execution_count": 136,
   "id": "124b400b-135d-4103-9d86-ecebe1bfbfb2",
   "metadata": {
    "tags": []
   },
   "outputs": [],
   "source": [
    "train_dataset_logs = tokenized_datasets_logs[\"train\"]\n",
    "eval_dataset_logs = tokenized_datasets_logs[\"test\"]"
   ]
  },
  {
   "cell_type": "code",
   "execution_count": 138,
   "id": "f4ea2de5-e361-4389-ae89-2cee8cc92270",
   "metadata": {
    "tags": []
   },
   "outputs": [],
   "source": [
    "from torch.utils.data import DataLoader\n",
    "\n",
    "train_dataloader_logs = DataLoader(train_dataset_logs, shuffle=True, batch_size=8)\n",
    "eval_dataloader_logs = DataLoader(eval_dataset_logs, batch_size=8)"
   ]
  },
  {
   "cell_type": "markdown",
   "id": "07a17af7-98ff-45a3-a691-2ca81964f5c4",
   "metadata": {},
   "source": [
    "## Begin to Build the Model"
   ]
  },
  {
   "cell_type": "code",
   "execution_count": 132,
   "id": "ef46b6c3-9239-4a89-8532-7eefc8e5ac1e",
   "metadata": {
    "tags": []
   },
   "outputs": [
    {
     "name": "stderr",
     "output_type": "stream",
     "text": [
      "Some weights of the model checkpoint at bert-base-cased were not used when initializing BertForSequenceClassification: ['cls.predictions.transform.LayerNorm.bias', 'cls.predictions.bias', 'cls.predictions.transform.LayerNorm.weight', 'cls.predictions.transform.dense.bias', 'cls.seq_relationship.weight', 'cls.seq_relationship.bias', 'cls.predictions.transform.dense.weight']\n",
      "- This IS expected if you are initializing BertForSequenceClassification from the checkpoint of a model trained on another task or with another architecture (e.g. initializing a BertForSequenceClassification model from a BertForPreTraining model).\n",
      "- This IS NOT expected if you are initializing BertForSequenceClassification from the checkpoint of a model that you expect to be exactly identical (initializing a BertForSequenceClassification model from a BertForSequenceClassification model).\n",
      "Some weights of BertForSequenceClassification were not initialized from the model checkpoint at bert-base-cased and are newly initialized: ['classifier.weight', 'classifier.bias']\n",
      "You should probably TRAIN this model on a down-stream task to be able to use it for predictions and inference.\n"
     ]
    }
   ],
   "source": [
    "from transformers import AutoModelForSequenceClassification\n",
    "\n",
    "model = AutoModelForSequenceClassification.from_pretrained('bert-base-cased', num_labels=4)"
   ]
  },
  {
   "cell_type": "code",
   "execution_count": 133,
   "id": "ae0a9262-ce7c-44e9-b05f-cf7c6e096153",
   "metadata": {
    "tags": []
   },
   "outputs": [],
   "source": [
    "from torch.optim import AdamW\n",
    "\n",
    "optimizer = AdamW(model.parameters(), lr=5e-5)"
   ]
  },
  {
   "cell_type": "code",
   "execution_count": 134,
   "id": "178ae373-e19f-4c90-933b-9dace057ce07",
   "metadata": {
    "tags": []
   },
   "outputs": [],
   "source": [
    "from transformers import get_scheduler\n",
    "\n",
    "num_epochs = 3\n",
    "num_training_steps = num_epochs * len(train_dataloader_logs)\n",
    "lr_scheduler = get_scheduler(\n",
    "    name=\"linear\", optimizer=optimizer, num_warmup_steps=0, num_training_steps=num_training_steps\n",
    ")"
   ]
  },
  {
   "cell_type": "code",
   "execution_count": 120,
   "id": "4afcf358-5414-4559-b96b-091d26c27f64",
   "metadata": {
    "collapsed": true,
    "jupyter": {
     "outputs_hidden": true
    },
    "tags": []
   },
   "outputs": [
    {
     "data": {
      "text/plain": [
       "BertForSequenceClassification(\n",
       "  (bert): BertModel(\n",
       "    (embeddings): BertEmbeddings(\n",
       "      (word_embeddings): Embedding(28996, 768, padding_idx=0)\n",
       "      (position_embeddings): Embedding(512, 768)\n",
       "      (token_type_embeddings): Embedding(2, 768)\n",
       "      (LayerNorm): LayerNorm((768,), eps=1e-12, elementwise_affine=True)\n",
       "      (dropout): Dropout(p=0.1, inplace=False)\n",
       "    )\n",
       "    (encoder): BertEncoder(\n",
       "      (layer): ModuleList(\n",
       "        (0): BertLayer(\n",
       "          (attention): BertAttention(\n",
       "            (self): BertSelfAttention(\n",
       "              (query): Linear(in_features=768, out_features=768, bias=True)\n",
       "              (key): Linear(in_features=768, out_features=768, bias=True)\n",
       "              (value): Linear(in_features=768, out_features=768, bias=True)\n",
       "              (dropout): Dropout(p=0.1, inplace=False)\n",
       "            )\n",
       "            (output): BertSelfOutput(\n",
       "              (dense): Linear(in_features=768, out_features=768, bias=True)\n",
       "              (LayerNorm): LayerNorm((768,), eps=1e-12, elementwise_affine=True)\n",
       "              (dropout): Dropout(p=0.1, inplace=False)\n",
       "            )\n",
       "          )\n",
       "          (intermediate): BertIntermediate(\n",
       "            (dense): Linear(in_features=768, out_features=3072, bias=True)\n",
       "            (intermediate_act_fn): GELUActivation()\n",
       "          )\n",
       "          (output): BertOutput(\n",
       "            (dense): Linear(in_features=3072, out_features=768, bias=True)\n",
       "            (LayerNorm): LayerNorm((768,), eps=1e-12, elementwise_affine=True)\n",
       "            (dropout): Dropout(p=0.1, inplace=False)\n",
       "          )\n",
       "        )\n",
       "        (1): BertLayer(\n",
       "          (attention): BertAttention(\n",
       "            (self): BertSelfAttention(\n",
       "              (query): Linear(in_features=768, out_features=768, bias=True)\n",
       "              (key): Linear(in_features=768, out_features=768, bias=True)\n",
       "              (value): Linear(in_features=768, out_features=768, bias=True)\n",
       "              (dropout): Dropout(p=0.1, inplace=False)\n",
       "            )\n",
       "            (output): BertSelfOutput(\n",
       "              (dense): Linear(in_features=768, out_features=768, bias=True)\n",
       "              (LayerNorm): LayerNorm((768,), eps=1e-12, elementwise_affine=True)\n",
       "              (dropout): Dropout(p=0.1, inplace=False)\n",
       "            )\n",
       "          )\n",
       "          (intermediate): BertIntermediate(\n",
       "            (dense): Linear(in_features=768, out_features=3072, bias=True)\n",
       "            (intermediate_act_fn): GELUActivation()\n",
       "          )\n",
       "          (output): BertOutput(\n",
       "            (dense): Linear(in_features=3072, out_features=768, bias=True)\n",
       "            (LayerNorm): LayerNorm((768,), eps=1e-12, elementwise_affine=True)\n",
       "            (dropout): Dropout(p=0.1, inplace=False)\n",
       "          )\n",
       "        )\n",
       "        (2): BertLayer(\n",
       "          (attention): BertAttention(\n",
       "            (self): BertSelfAttention(\n",
       "              (query): Linear(in_features=768, out_features=768, bias=True)\n",
       "              (key): Linear(in_features=768, out_features=768, bias=True)\n",
       "              (value): Linear(in_features=768, out_features=768, bias=True)\n",
       "              (dropout): Dropout(p=0.1, inplace=False)\n",
       "            )\n",
       "            (output): BertSelfOutput(\n",
       "              (dense): Linear(in_features=768, out_features=768, bias=True)\n",
       "              (LayerNorm): LayerNorm((768,), eps=1e-12, elementwise_affine=True)\n",
       "              (dropout): Dropout(p=0.1, inplace=False)\n",
       "            )\n",
       "          )\n",
       "          (intermediate): BertIntermediate(\n",
       "            (dense): Linear(in_features=768, out_features=3072, bias=True)\n",
       "            (intermediate_act_fn): GELUActivation()\n",
       "          )\n",
       "          (output): BertOutput(\n",
       "            (dense): Linear(in_features=3072, out_features=768, bias=True)\n",
       "            (LayerNorm): LayerNorm((768,), eps=1e-12, elementwise_affine=True)\n",
       "            (dropout): Dropout(p=0.1, inplace=False)\n",
       "          )\n",
       "        )\n",
       "        (3): BertLayer(\n",
       "          (attention): BertAttention(\n",
       "            (self): BertSelfAttention(\n",
       "              (query): Linear(in_features=768, out_features=768, bias=True)\n",
       "              (key): Linear(in_features=768, out_features=768, bias=True)\n",
       "              (value): Linear(in_features=768, out_features=768, bias=True)\n",
       "              (dropout): Dropout(p=0.1, inplace=False)\n",
       "            )\n",
       "            (output): BertSelfOutput(\n",
       "              (dense): Linear(in_features=768, out_features=768, bias=True)\n",
       "              (LayerNorm): LayerNorm((768,), eps=1e-12, elementwise_affine=True)\n",
       "              (dropout): Dropout(p=0.1, inplace=False)\n",
       "            )\n",
       "          )\n",
       "          (intermediate): BertIntermediate(\n",
       "            (dense): Linear(in_features=768, out_features=3072, bias=True)\n",
       "            (intermediate_act_fn): GELUActivation()\n",
       "          )\n",
       "          (output): BertOutput(\n",
       "            (dense): Linear(in_features=3072, out_features=768, bias=True)\n",
       "            (LayerNorm): LayerNorm((768,), eps=1e-12, elementwise_affine=True)\n",
       "            (dropout): Dropout(p=0.1, inplace=False)\n",
       "          )\n",
       "        )\n",
       "        (4): BertLayer(\n",
       "          (attention): BertAttention(\n",
       "            (self): BertSelfAttention(\n",
       "              (query): Linear(in_features=768, out_features=768, bias=True)\n",
       "              (key): Linear(in_features=768, out_features=768, bias=True)\n",
       "              (value): Linear(in_features=768, out_features=768, bias=True)\n",
       "              (dropout): Dropout(p=0.1, inplace=False)\n",
       "            )\n",
       "            (output): BertSelfOutput(\n",
       "              (dense): Linear(in_features=768, out_features=768, bias=True)\n",
       "              (LayerNorm): LayerNorm((768,), eps=1e-12, elementwise_affine=True)\n",
       "              (dropout): Dropout(p=0.1, inplace=False)\n",
       "            )\n",
       "          )\n",
       "          (intermediate): BertIntermediate(\n",
       "            (dense): Linear(in_features=768, out_features=3072, bias=True)\n",
       "            (intermediate_act_fn): GELUActivation()\n",
       "          )\n",
       "          (output): BertOutput(\n",
       "            (dense): Linear(in_features=3072, out_features=768, bias=True)\n",
       "            (LayerNorm): LayerNorm((768,), eps=1e-12, elementwise_affine=True)\n",
       "            (dropout): Dropout(p=0.1, inplace=False)\n",
       "          )\n",
       "        )\n",
       "        (5): BertLayer(\n",
       "          (attention): BertAttention(\n",
       "            (self): BertSelfAttention(\n",
       "              (query): Linear(in_features=768, out_features=768, bias=True)\n",
       "              (key): Linear(in_features=768, out_features=768, bias=True)\n",
       "              (value): Linear(in_features=768, out_features=768, bias=True)\n",
       "              (dropout): Dropout(p=0.1, inplace=False)\n",
       "            )\n",
       "            (output): BertSelfOutput(\n",
       "              (dense): Linear(in_features=768, out_features=768, bias=True)\n",
       "              (LayerNorm): LayerNorm((768,), eps=1e-12, elementwise_affine=True)\n",
       "              (dropout): Dropout(p=0.1, inplace=False)\n",
       "            )\n",
       "          )\n",
       "          (intermediate): BertIntermediate(\n",
       "            (dense): Linear(in_features=768, out_features=3072, bias=True)\n",
       "            (intermediate_act_fn): GELUActivation()\n",
       "          )\n",
       "          (output): BertOutput(\n",
       "            (dense): Linear(in_features=3072, out_features=768, bias=True)\n",
       "            (LayerNorm): LayerNorm((768,), eps=1e-12, elementwise_affine=True)\n",
       "            (dropout): Dropout(p=0.1, inplace=False)\n",
       "          )\n",
       "        )\n",
       "        (6): BertLayer(\n",
       "          (attention): BertAttention(\n",
       "            (self): BertSelfAttention(\n",
       "              (query): Linear(in_features=768, out_features=768, bias=True)\n",
       "              (key): Linear(in_features=768, out_features=768, bias=True)\n",
       "              (value): Linear(in_features=768, out_features=768, bias=True)\n",
       "              (dropout): Dropout(p=0.1, inplace=False)\n",
       "            )\n",
       "            (output): BertSelfOutput(\n",
       "              (dense): Linear(in_features=768, out_features=768, bias=True)\n",
       "              (LayerNorm): LayerNorm((768,), eps=1e-12, elementwise_affine=True)\n",
       "              (dropout): Dropout(p=0.1, inplace=False)\n",
       "            )\n",
       "          )\n",
       "          (intermediate): BertIntermediate(\n",
       "            (dense): Linear(in_features=768, out_features=3072, bias=True)\n",
       "            (intermediate_act_fn): GELUActivation()\n",
       "          )\n",
       "          (output): BertOutput(\n",
       "            (dense): Linear(in_features=3072, out_features=768, bias=True)\n",
       "            (LayerNorm): LayerNorm((768,), eps=1e-12, elementwise_affine=True)\n",
       "            (dropout): Dropout(p=0.1, inplace=False)\n",
       "          )\n",
       "        )\n",
       "        (7): BertLayer(\n",
       "          (attention): BertAttention(\n",
       "            (self): BertSelfAttention(\n",
       "              (query): Linear(in_features=768, out_features=768, bias=True)\n",
       "              (key): Linear(in_features=768, out_features=768, bias=True)\n",
       "              (value): Linear(in_features=768, out_features=768, bias=True)\n",
       "              (dropout): Dropout(p=0.1, inplace=False)\n",
       "            )\n",
       "            (output): BertSelfOutput(\n",
       "              (dense): Linear(in_features=768, out_features=768, bias=True)\n",
       "              (LayerNorm): LayerNorm((768,), eps=1e-12, elementwise_affine=True)\n",
       "              (dropout): Dropout(p=0.1, inplace=False)\n",
       "            )\n",
       "          )\n",
       "          (intermediate): BertIntermediate(\n",
       "            (dense): Linear(in_features=768, out_features=3072, bias=True)\n",
       "            (intermediate_act_fn): GELUActivation()\n",
       "          )\n",
       "          (output): BertOutput(\n",
       "            (dense): Linear(in_features=3072, out_features=768, bias=True)\n",
       "            (LayerNorm): LayerNorm((768,), eps=1e-12, elementwise_affine=True)\n",
       "            (dropout): Dropout(p=0.1, inplace=False)\n",
       "          )\n",
       "        )\n",
       "        (8): BertLayer(\n",
       "          (attention): BertAttention(\n",
       "            (self): BertSelfAttention(\n",
       "              (query): Linear(in_features=768, out_features=768, bias=True)\n",
       "              (key): Linear(in_features=768, out_features=768, bias=True)\n",
       "              (value): Linear(in_features=768, out_features=768, bias=True)\n",
       "              (dropout): Dropout(p=0.1, inplace=False)\n",
       "            )\n",
       "            (output): BertSelfOutput(\n",
       "              (dense): Linear(in_features=768, out_features=768, bias=True)\n",
       "              (LayerNorm): LayerNorm((768,), eps=1e-12, elementwise_affine=True)\n",
       "              (dropout): Dropout(p=0.1, inplace=False)\n",
       "            )\n",
       "          )\n",
       "          (intermediate): BertIntermediate(\n",
       "            (dense): Linear(in_features=768, out_features=3072, bias=True)\n",
       "            (intermediate_act_fn): GELUActivation()\n",
       "          )\n",
       "          (output): BertOutput(\n",
       "            (dense): Linear(in_features=3072, out_features=768, bias=True)\n",
       "            (LayerNorm): LayerNorm((768,), eps=1e-12, elementwise_affine=True)\n",
       "            (dropout): Dropout(p=0.1, inplace=False)\n",
       "          )\n",
       "        )\n",
       "        (9): BertLayer(\n",
       "          (attention): BertAttention(\n",
       "            (self): BertSelfAttention(\n",
       "              (query): Linear(in_features=768, out_features=768, bias=True)\n",
       "              (key): Linear(in_features=768, out_features=768, bias=True)\n",
       "              (value): Linear(in_features=768, out_features=768, bias=True)\n",
       "              (dropout): Dropout(p=0.1, inplace=False)\n",
       "            )\n",
       "            (output): BertSelfOutput(\n",
       "              (dense): Linear(in_features=768, out_features=768, bias=True)\n",
       "              (LayerNorm): LayerNorm((768,), eps=1e-12, elementwise_affine=True)\n",
       "              (dropout): Dropout(p=0.1, inplace=False)\n",
       "            )\n",
       "          )\n",
       "          (intermediate): BertIntermediate(\n",
       "            (dense): Linear(in_features=768, out_features=3072, bias=True)\n",
       "            (intermediate_act_fn): GELUActivation()\n",
       "          )\n",
       "          (output): BertOutput(\n",
       "            (dense): Linear(in_features=3072, out_features=768, bias=True)\n",
       "            (LayerNorm): LayerNorm((768,), eps=1e-12, elementwise_affine=True)\n",
       "            (dropout): Dropout(p=0.1, inplace=False)\n",
       "          )\n",
       "        )\n",
       "        (10): BertLayer(\n",
       "          (attention): BertAttention(\n",
       "            (self): BertSelfAttention(\n",
       "              (query): Linear(in_features=768, out_features=768, bias=True)\n",
       "              (key): Linear(in_features=768, out_features=768, bias=True)\n",
       "              (value): Linear(in_features=768, out_features=768, bias=True)\n",
       "              (dropout): Dropout(p=0.1, inplace=False)\n",
       "            )\n",
       "            (output): BertSelfOutput(\n",
       "              (dense): Linear(in_features=768, out_features=768, bias=True)\n",
       "              (LayerNorm): LayerNorm((768,), eps=1e-12, elementwise_affine=True)\n",
       "              (dropout): Dropout(p=0.1, inplace=False)\n",
       "            )\n",
       "          )\n",
       "          (intermediate): BertIntermediate(\n",
       "            (dense): Linear(in_features=768, out_features=3072, bias=True)\n",
       "            (intermediate_act_fn): GELUActivation()\n",
       "          )\n",
       "          (output): BertOutput(\n",
       "            (dense): Linear(in_features=3072, out_features=768, bias=True)\n",
       "            (LayerNorm): LayerNorm((768,), eps=1e-12, elementwise_affine=True)\n",
       "            (dropout): Dropout(p=0.1, inplace=False)\n",
       "          )\n",
       "        )\n",
       "        (11): BertLayer(\n",
       "          (attention): BertAttention(\n",
       "            (self): BertSelfAttention(\n",
       "              (query): Linear(in_features=768, out_features=768, bias=True)\n",
       "              (key): Linear(in_features=768, out_features=768, bias=True)\n",
       "              (value): Linear(in_features=768, out_features=768, bias=True)\n",
       "              (dropout): Dropout(p=0.1, inplace=False)\n",
       "            )\n",
       "            (output): BertSelfOutput(\n",
       "              (dense): Linear(in_features=768, out_features=768, bias=True)\n",
       "              (LayerNorm): LayerNorm((768,), eps=1e-12, elementwise_affine=True)\n",
       "              (dropout): Dropout(p=0.1, inplace=False)\n",
       "            )\n",
       "          )\n",
       "          (intermediate): BertIntermediate(\n",
       "            (dense): Linear(in_features=768, out_features=3072, bias=True)\n",
       "            (intermediate_act_fn): GELUActivation()\n",
       "          )\n",
       "          (output): BertOutput(\n",
       "            (dense): Linear(in_features=3072, out_features=768, bias=True)\n",
       "            (LayerNorm): LayerNorm((768,), eps=1e-12, elementwise_affine=True)\n",
       "            (dropout): Dropout(p=0.1, inplace=False)\n",
       "          )\n",
       "        )\n",
       "      )\n",
       "    )\n",
       "    (pooler): BertPooler(\n",
       "      (dense): Linear(in_features=768, out_features=768, bias=True)\n",
       "      (activation): Tanh()\n",
       "    )\n",
       "  )\n",
       "  (dropout): Dropout(p=0.1, inplace=False)\n",
       "  (classifier): Linear(in_features=768, out_features=4, bias=True)\n",
       ")"
      ]
     },
     "execution_count": 120,
     "metadata": {},
     "output_type": "execute_result"
    }
   ],
   "source": [
    "import torch\n",
    "\n",
    "device = torch.device(\"cuda\") if torch.cuda.is_available() else torch.device(\"cpu\")\n",
    "model.to(device)"
   ]
  },
  {
   "cell_type": "code",
   "execution_count": 139,
   "id": "6e17cd8c-146f-4a07-9759-7781bdd0c79f",
   "metadata": {
    "tags": []
   },
   "outputs": [
    {
     "name": "stdout",
     "output_type": "stream",
     "text": [
      "{'labels': tensor([2, 2, 1, 1, 2, 3, 1, 1]), 'input_ids': tensor([[  101, 17881,  1495,  ...,     0,     0,     0],\n",
      "        [  101, 17881,  1495,  ...,     0,     0,     0],\n",
      "        [  101,  2962,   131,  ...,     0,     0,     0],\n",
      "        ...,\n",
      "        [  101,   196,   107,  ...,  1545,  1559,   102],\n",
      "        [  101,   118, 12461,  ...,     0,     0,     0],\n",
      "        [  101, 17881,  1495,  ...,   117,  1888,   102]]), 'token_type_ids': tensor([[0, 0, 0,  ..., 0, 0, 0],\n",
      "        [0, 0, 0,  ..., 0, 0, 0],\n",
      "        [0, 0, 0,  ..., 0, 0, 0],\n",
      "        ...,\n",
      "        [0, 0, 0,  ..., 0, 0, 0],\n",
      "        [0, 0, 0,  ..., 0, 0, 0],\n",
      "        [0, 0, 0,  ..., 0, 0, 0]]), 'attention_mask': tensor([[1, 1, 1,  ..., 0, 0, 0],\n",
      "        [1, 1, 1,  ..., 0, 0, 0],\n",
      "        [1, 1, 1,  ..., 0, 0, 0],\n",
      "        ...,\n",
      "        [1, 1, 1,  ..., 1, 1, 1],\n",
      "        [1, 1, 1,  ..., 0, 0, 0],\n",
      "        [1, 1, 1,  ..., 1, 1, 1]])}\n"
     ]
    }
   ],
   "source": [
    "for i in train_dataloader_logs:\n",
    "    print(i)\n",
    "    break"
   ]
  },
  {
   "cell_type": "code",
   "execution_count": null,
   "id": "7c02e197-8571-454a-9c9c-06abcdae8c69",
   "metadata": {
    "tags": []
   },
   "outputs": [
    {
     "data": {
      "application/vnd.jupyter.widget-view+json": {
       "model_id": "57b882304dbc41f69bf2e939bf615b16",
       "version_major": 2,
       "version_minor": 0
      },
      "text/plain": [
       "  0%|          | 0/339 [00:00<?, ?it/s]"
      ]
     },
     "metadata": {},
     "output_type": "display_data"
    }
   ],
   "source": [
    "from tqdm.auto import tqdm\n",
    "\n",
    "progress_bar = tqdm(range(num_training_steps))\n",
    "\n",
    "model.train()\n",
    "for epoch in range(num_epochs):\n",
    "    for batch in train_dataloader_logs:\n",
    "        batch = {k: v.to(device) for k, v in batch.items()}\n",
    "        outputs = model(**batch)\n",
    "        loss = outputs.loss\n",
    "        loss.backward()\n",
    "\n",
    "        optimizer.step()\n",
    "        lr_scheduler.step()\n",
    "        optimizer.zero_grad()\n",
    "        progress_bar.update(1)"
   ]
  },
  {
   "cell_type": "code",
   "execution_count": null,
   "id": "879fd7c4-34d8-4edf-8d5e-131f3292d3e9",
   "metadata": {},
   "outputs": [],
   "source": []
  }
 ],
 "metadata": {
  "dca-init": "true",
  "kernelspec": {
   "display_name": "Python 3 (ipykernel)",
   "language": "python",
   "name": "python3"
  },
  "language_info": {
   "codemirror_mode": {
    "name": "ipython",
    "version": 3
   },
   "file_extension": ".py",
   "mimetype": "text/x-python",
   "name": "python",
   "nbconvert_exporter": "python",
   "pygments_lexer": "ipython3",
   "version": "3.9.18"
  }
 },
 "nbformat": 4,
 "nbformat_minor": 5
}
